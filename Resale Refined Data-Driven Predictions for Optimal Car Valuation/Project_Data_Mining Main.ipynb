{
 "cells": [
  {
   "cell_type": "markdown",
   "id": "f3848073",
   "metadata": {},
   "source": [
    "**Problem Statement**\n",
    "\n",
    "The automotive industry constantly needs accurate predictions and insights to enhance business decisions. This project aims to develop a predictive model that estimates the resale value of vehicles based on various features such as age, mileage, and horsepower. Understanding these factors' influence on pricing can help stakeholders make informed decisions about buying, selling, and maintaining inventory. The project explores comprehensive data exploration, rigorous outlier detection, and advanced modeling techniques to achieve a reliable model that stakeholders can use to predict prices effectively and manage their assets more efficiently."
   ]
  },
  {
   "cell_type": "markdown",
   "id": "5b7f78c1",
   "metadata": {},
   "source": [
    "**Data exploration**"
   ]
  },
  {
   "cell_type": "code",
   "execution_count": 29,
   "id": "c9d00588-3140-40f5-b1d7-a370be249020",
   "metadata": {},
   "outputs": [
    {
     "data": {
      "text/html": [
       "<div>\n",
       "<style scoped>\n",
       "    .dataframe tbody tr th:only-of-type {\n",
       "        vertical-align: middle;\n",
       "    }\n",
       "\n",
       "    .dataframe tbody tr th {\n",
       "        vertical-align: top;\n",
       "    }\n",
       "\n",
       "    .dataframe thead th {\n",
       "        text-align: right;\n",
       "    }\n",
       "</style>\n",
       "<table border=\"1\" class=\"dataframe\">\n",
       "  <thead>\n",
       "    <tr style=\"text-align: right;\">\n",
       "      <th></th>\n",
       "      <th>Id</th>\n",
       "      <th>Model</th>\n",
       "      <th>Price</th>\n",
       "      <th>Age_08_04</th>\n",
       "      <th>Mfg_Month</th>\n",
       "      <th>Mfg_Year</th>\n",
       "      <th>KM</th>\n",
       "      <th>Fuel_Type</th>\n",
       "      <th>HP</th>\n",
       "      <th>Met_Color</th>\n",
       "      <th>...</th>\n",
       "      <th>Powered_Windows</th>\n",
       "      <th>Power_Steering</th>\n",
       "      <th>Radio</th>\n",
       "      <th>Mistlamps</th>\n",
       "      <th>Sport_Model</th>\n",
       "      <th>Backseat_Divider</th>\n",
       "      <th>Metallic_Rim</th>\n",
       "      <th>Radio_cassette</th>\n",
       "      <th>Parking_Assistant</th>\n",
       "      <th>Tow_Bar</th>\n",
       "    </tr>\n",
       "  </thead>\n",
       "  <tbody>\n",
       "    <tr>\n",
       "      <th>0</th>\n",
       "      <td>1</td>\n",
       "      <td>TOYOTA Corolla 2.0 D4D HATCHB TERRA 2/3-Doors</td>\n",
       "      <td>13500</td>\n",
       "      <td>23</td>\n",
       "      <td>10</td>\n",
       "      <td>2002</td>\n",
       "      <td>46986</td>\n",
       "      <td>Diesel</td>\n",
       "      <td>90</td>\n",
       "      <td>1</td>\n",
       "      <td>...</td>\n",
       "      <td>1</td>\n",
       "      <td>1</td>\n",
       "      <td>0</td>\n",
       "      <td>0</td>\n",
       "      <td>0</td>\n",
       "      <td>1</td>\n",
       "      <td>0</td>\n",
       "      <td>0</td>\n",
       "      <td>0</td>\n",
       "      <td>0</td>\n",
       "    </tr>\n",
       "    <tr>\n",
       "      <th>1</th>\n",
       "      <td>2</td>\n",
       "      <td>TOYOTA Corolla 2.0 D4D HATCHB TERRA 2/3-Doors</td>\n",
       "      <td>13750</td>\n",
       "      <td>23</td>\n",
       "      <td>10</td>\n",
       "      <td>2002</td>\n",
       "      <td>72937</td>\n",
       "      <td>Diesel</td>\n",
       "      <td>90</td>\n",
       "      <td>1</td>\n",
       "      <td>...</td>\n",
       "      <td>0</td>\n",
       "      <td>1</td>\n",
       "      <td>0</td>\n",
       "      <td>0</td>\n",
       "      <td>0</td>\n",
       "      <td>1</td>\n",
       "      <td>0</td>\n",
       "      <td>0</td>\n",
       "      <td>0</td>\n",
       "      <td>0</td>\n",
       "    </tr>\n",
       "    <tr>\n",
       "      <th>2</th>\n",
       "      <td>3</td>\n",
       "      <td>TOYOTA Corolla 2.0 D4D HATCHB TERRA 2/3-Doors</td>\n",
       "      <td>13950</td>\n",
       "      <td>24</td>\n",
       "      <td>9</td>\n",
       "      <td>2002</td>\n",
       "      <td>41711</td>\n",
       "      <td>Diesel</td>\n",
       "      <td>90</td>\n",
       "      <td>1</td>\n",
       "      <td>...</td>\n",
       "      <td>0</td>\n",
       "      <td>1</td>\n",
       "      <td>0</td>\n",
       "      <td>0</td>\n",
       "      <td>0</td>\n",
       "      <td>1</td>\n",
       "      <td>0</td>\n",
       "      <td>0</td>\n",
       "      <td>0</td>\n",
       "      <td>0</td>\n",
       "    </tr>\n",
       "    <tr>\n",
       "      <th>3</th>\n",
       "      <td>4</td>\n",
       "      <td>TOYOTA Corolla 2.0 D4D HATCHB TERRA 2/3-Doors</td>\n",
       "      <td>14950</td>\n",
       "      <td>26</td>\n",
       "      <td>7</td>\n",
       "      <td>2002</td>\n",
       "      <td>48000</td>\n",
       "      <td>Diesel</td>\n",
       "      <td>90</td>\n",
       "      <td>0</td>\n",
       "      <td>...</td>\n",
       "      <td>0</td>\n",
       "      <td>1</td>\n",
       "      <td>0</td>\n",
       "      <td>0</td>\n",
       "      <td>0</td>\n",
       "      <td>1</td>\n",
       "      <td>0</td>\n",
       "      <td>0</td>\n",
       "      <td>0</td>\n",
       "      <td>0</td>\n",
       "    </tr>\n",
       "    <tr>\n",
       "      <th>4</th>\n",
       "      <td>5</td>\n",
       "      <td>TOYOTA Corolla 2.0 D4D HATCHB SOL 2/3-Doors</td>\n",
       "      <td>13750</td>\n",
       "      <td>30</td>\n",
       "      <td>3</td>\n",
       "      <td>2002</td>\n",
       "      <td>38500</td>\n",
       "      <td>Diesel</td>\n",
       "      <td>90</td>\n",
       "      <td>0</td>\n",
       "      <td>...</td>\n",
       "      <td>1</td>\n",
       "      <td>1</td>\n",
       "      <td>0</td>\n",
       "      <td>1</td>\n",
       "      <td>0</td>\n",
       "      <td>1</td>\n",
       "      <td>0</td>\n",
       "      <td>0</td>\n",
       "      <td>0</td>\n",
       "      <td>0</td>\n",
       "    </tr>\n",
       "  </tbody>\n",
       "</table>\n",
       "<p>5 rows × 39 columns</p>\n",
       "</div>"
      ],
      "text/plain": [
       "   Id                                          Model  Price  Age_08_04  \\\n",
       "0   1  TOYOTA Corolla 2.0 D4D HATCHB TERRA 2/3-Doors  13500         23   \n",
       "1   2  TOYOTA Corolla 2.0 D4D HATCHB TERRA 2/3-Doors  13750         23   \n",
       "2   3  TOYOTA Corolla 2.0 D4D HATCHB TERRA 2/3-Doors  13950         24   \n",
       "3   4  TOYOTA Corolla 2.0 D4D HATCHB TERRA 2/3-Doors  14950         26   \n",
       "4   5    TOYOTA Corolla 2.0 D4D HATCHB SOL 2/3-Doors  13750         30   \n",
       "\n",
       "   Mfg_Month  Mfg_Year     KM Fuel_Type  HP  Met_Color  ... Powered_Windows  \\\n",
       "0         10      2002  46986    Diesel  90          1  ...               1   \n",
       "1         10      2002  72937    Diesel  90          1  ...               0   \n",
       "2          9      2002  41711    Diesel  90          1  ...               0   \n",
       "3          7      2002  48000    Diesel  90          0  ...               0   \n",
       "4          3      2002  38500    Diesel  90          0  ...               1   \n",
       "\n",
       "   Power_Steering  Radio  Mistlamps  Sport_Model  Backseat_Divider  \\\n",
       "0               1      0          0            0                 1   \n",
       "1               1      0          0            0                 1   \n",
       "2               1      0          0            0                 1   \n",
       "3               1      0          0            0                 1   \n",
       "4               1      0          1            0                 1   \n",
       "\n",
       "   Metallic_Rim  Radio_cassette  Parking_Assistant  Tow_Bar  \n",
       "0             0               0                  0        0  \n",
       "1             0               0                  0        0  \n",
       "2             0               0                  0        0  \n",
       "3             0               0                  0        0  \n",
       "4             0               0                  0        0  \n",
       "\n",
       "[5 rows x 39 columns]"
      ]
     },
     "execution_count": 29,
     "metadata": {},
     "output_type": "execute_result"
    }
   ],
   "source": [
    "import pandas as pd\n",
    "\n",
    "resale_df=pd.read_csv('ToyotaCorolla.csv')\n",
    "resale_df.head()"
   ]
  },
  {
   "cell_type": "code",
   "execution_count": 30,
   "id": "ed42683b",
   "metadata": {},
   "outputs": [
    {
     "data": {
      "text/plain": [
       "Index(['Id', 'Model', 'Price', 'Age_08_04', 'Mfg_Month', 'Mfg_Year', 'KM',\n",
       "       'Fuel_Type', 'HP', 'Met_Color', 'Color', 'Automatic', 'CC', 'Doors',\n",
       "       'Cylinders', 'Gears', 'Quarterly_Tax', 'Weight', 'Mfr_Guarantee',\n",
       "       'BOVAG_Guarantee', 'Guarantee_Period', 'ABS', 'Airbag_1', 'Airbag_2',\n",
       "       'Airco', 'Automatic_airco', 'Boardcomputer', 'CD_Player',\n",
       "       'Central_Lock', 'Powered_Windows', 'Power_Steering', 'Radio',\n",
       "       'Mistlamps', 'Sport_Model', 'Backseat_Divider', 'Metallic_Rim',\n",
       "       'Radio_cassette', 'Parking_Assistant', 'Tow_Bar'],\n",
       "      dtype='object')"
      ]
     },
     "execution_count": 30,
     "metadata": {},
     "output_type": "execute_result"
    }
   ],
   "source": [
    "resale_df.columns"
   ]
  },
  {
   "cell_type": "code",
   "execution_count": 31,
   "id": "4d875709",
   "metadata": {},
   "outputs": [
    {
     "data": {
      "text/html": [
       "<div>\n",
       "<style scoped>\n",
       "    .dataframe tbody tr th:only-of-type {\n",
       "        vertical-align: middle;\n",
       "    }\n",
       "\n",
       "    .dataframe tbody tr th {\n",
       "        vertical-align: top;\n",
       "    }\n",
       "\n",
       "    .dataframe thead th {\n",
       "        text-align: right;\n",
       "    }\n",
       "</style>\n",
       "<table border=\"1\" class=\"dataframe\">\n",
       "  <thead>\n",
       "    <tr style=\"text-align: right;\">\n",
       "      <th></th>\n",
       "      <th>Id</th>\n",
       "      <th>Price</th>\n",
       "      <th>Age_08_04</th>\n",
       "      <th>Mfg_Month</th>\n",
       "      <th>Mfg_Year</th>\n",
       "      <th>KM</th>\n",
       "      <th>HP</th>\n",
       "      <th>Met_Color</th>\n",
       "      <th>Automatic</th>\n",
       "      <th>CC</th>\n",
       "      <th>...</th>\n",
       "      <th>Powered_Windows</th>\n",
       "      <th>Power_Steering</th>\n",
       "      <th>Radio</th>\n",
       "      <th>Mistlamps</th>\n",
       "      <th>Sport_Model</th>\n",
       "      <th>Backseat_Divider</th>\n",
       "      <th>Metallic_Rim</th>\n",
       "      <th>Radio_cassette</th>\n",
       "      <th>Parking_Assistant</th>\n",
       "      <th>Tow_Bar</th>\n",
       "    </tr>\n",
       "  </thead>\n",
       "  <tbody>\n",
       "    <tr>\n",
       "      <th>count</th>\n",
       "      <td>1436.000000</td>\n",
       "      <td>1436.000000</td>\n",
       "      <td>1436.000000</td>\n",
       "      <td>1436.000000</td>\n",
       "      <td>1436.000000</td>\n",
       "      <td>1436.000000</td>\n",
       "      <td>1436.000000</td>\n",
       "      <td>1436.000000</td>\n",
       "      <td>1436.000000</td>\n",
       "      <td>1436.00000</td>\n",
       "      <td>...</td>\n",
       "      <td>1436.000000</td>\n",
       "      <td>1436.000000</td>\n",
       "      <td>1436.000000</td>\n",
       "      <td>1436.000000</td>\n",
       "      <td>1436.000000</td>\n",
       "      <td>1436.000000</td>\n",
       "      <td>1436.000000</td>\n",
       "      <td>1436.000000</td>\n",
       "      <td>1436.000000</td>\n",
       "      <td>1436.000000</td>\n",
       "    </tr>\n",
       "    <tr>\n",
       "      <th>mean</th>\n",
       "      <td>721.555014</td>\n",
       "      <td>10730.824513</td>\n",
       "      <td>55.947075</td>\n",
       "      <td>5.548747</td>\n",
       "      <td>1999.625348</td>\n",
       "      <td>68533.259749</td>\n",
       "      <td>101.502089</td>\n",
       "      <td>0.674791</td>\n",
       "      <td>0.055710</td>\n",
       "      <td>1576.85585</td>\n",
       "      <td>...</td>\n",
       "      <td>0.561978</td>\n",
       "      <td>0.977716</td>\n",
       "      <td>0.146240</td>\n",
       "      <td>0.256964</td>\n",
       "      <td>0.300139</td>\n",
       "      <td>0.770195</td>\n",
       "      <td>0.204735</td>\n",
       "      <td>0.145543</td>\n",
       "      <td>0.002786</td>\n",
       "      <td>0.277855</td>\n",
       "    </tr>\n",
       "    <tr>\n",
       "      <th>std</th>\n",
       "      <td>416.476890</td>\n",
       "      <td>3626.964585</td>\n",
       "      <td>18.599988</td>\n",
       "      <td>3.354085</td>\n",
       "      <td>1.540722</td>\n",
       "      <td>37506.448872</td>\n",
       "      <td>14.981080</td>\n",
       "      <td>0.468616</td>\n",
       "      <td>0.229441</td>\n",
       "      <td>424.38677</td>\n",
       "      <td>...</td>\n",
       "      <td>0.496317</td>\n",
       "      <td>0.147657</td>\n",
       "      <td>0.353469</td>\n",
       "      <td>0.437111</td>\n",
       "      <td>0.458478</td>\n",
       "      <td>0.420854</td>\n",
       "      <td>0.403649</td>\n",
       "      <td>0.352770</td>\n",
       "      <td>0.052723</td>\n",
       "      <td>0.448098</td>\n",
       "    </tr>\n",
       "    <tr>\n",
       "      <th>min</th>\n",
       "      <td>1.000000</td>\n",
       "      <td>4350.000000</td>\n",
       "      <td>1.000000</td>\n",
       "      <td>1.000000</td>\n",
       "      <td>1998.000000</td>\n",
       "      <td>1.000000</td>\n",
       "      <td>69.000000</td>\n",
       "      <td>0.000000</td>\n",
       "      <td>0.000000</td>\n",
       "      <td>1300.00000</td>\n",
       "      <td>...</td>\n",
       "      <td>0.000000</td>\n",
       "      <td>0.000000</td>\n",
       "      <td>0.000000</td>\n",
       "      <td>0.000000</td>\n",
       "      <td>0.000000</td>\n",
       "      <td>0.000000</td>\n",
       "      <td>0.000000</td>\n",
       "      <td>0.000000</td>\n",
       "      <td>0.000000</td>\n",
       "      <td>0.000000</td>\n",
       "    </tr>\n",
       "    <tr>\n",
       "      <th>25%</th>\n",
       "      <td>361.750000</td>\n",
       "      <td>8450.000000</td>\n",
       "      <td>44.000000</td>\n",
       "      <td>3.000000</td>\n",
       "      <td>1998.000000</td>\n",
       "      <td>43000.000000</td>\n",
       "      <td>90.000000</td>\n",
       "      <td>0.000000</td>\n",
       "      <td>0.000000</td>\n",
       "      <td>1400.00000</td>\n",
       "      <td>...</td>\n",
       "      <td>0.000000</td>\n",
       "      <td>1.000000</td>\n",
       "      <td>0.000000</td>\n",
       "      <td>0.000000</td>\n",
       "      <td>0.000000</td>\n",
       "      <td>1.000000</td>\n",
       "      <td>0.000000</td>\n",
       "      <td>0.000000</td>\n",
       "      <td>0.000000</td>\n",
       "      <td>0.000000</td>\n",
       "    </tr>\n",
       "    <tr>\n",
       "      <th>50%</th>\n",
       "      <td>721.500000</td>\n",
       "      <td>9900.000000</td>\n",
       "      <td>61.000000</td>\n",
       "      <td>5.000000</td>\n",
       "      <td>1999.000000</td>\n",
       "      <td>63389.500000</td>\n",
       "      <td>110.000000</td>\n",
       "      <td>1.000000</td>\n",
       "      <td>0.000000</td>\n",
       "      <td>1600.00000</td>\n",
       "      <td>...</td>\n",
       "      <td>1.000000</td>\n",
       "      <td>1.000000</td>\n",
       "      <td>0.000000</td>\n",
       "      <td>0.000000</td>\n",
       "      <td>0.000000</td>\n",
       "      <td>1.000000</td>\n",
       "      <td>0.000000</td>\n",
       "      <td>0.000000</td>\n",
       "      <td>0.000000</td>\n",
       "      <td>0.000000</td>\n",
       "    </tr>\n",
       "    <tr>\n",
       "      <th>75%</th>\n",
       "      <td>1081.250000</td>\n",
       "      <td>11950.000000</td>\n",
       "      <td>70.000000</td>\n",
       "      <td>8.000000</td>\n",
       "      <td>2001.000000</td>\n",
       "      <td>87020.750000</td>\n",
       "      <td>110.000000</td>\n",
       "      <td>1.000000</td>\n",
       "      <td>0.000000</td>\n",
       "      <td>1600.00000</td>\n",
       "      <td>...</td>\n",
       "      <td>1.000000</td>\n",
       "      <td>1.000000</td>\n",
       "      <td>0.000000</td>\n",
       "      <td>1.000000</td>\n",
       "      <td>1.000000</td>\n",
       "      <td>1.000000</td>\n",
       "      <td>0.000000</td>\n",
       "      <td>0.000000</td>\n",
       "      <td>0.000000</td>\n",
       "      <td>1.000000</td>\n",
       "    </tr>\n",
       "    <tr>\n",
       "      <th>max</th>\n",
       "      <td>1442.000000</td>\n",
       "      <td>32500.000000</td>\n",
       "      <td>80.000000</td>\n",
       "      <td>12.000000</td>\n",
       "      <td>2004.000000</td>\n",
       "      <td>243000.000000</td>\n",
       "      <td>192.000000</td>\n",
       "      <td>1.000000</td>\n",
       "      <td>1.000000</td>\n",
       "      <td>16000.00000</td>\n",
       "      <td>...</td>\n",
       "      <td>1.000000</td>\n",
       "      <td>1.000000</td>\n",
       "      <td>1.000000</td>\n",
       "      <td>1.000000</td>\n",
       "      <td>1.000000</td>\n",
       "      <td>1.000000</td>\n",
       "      <td>1.000000</td>\n",
       "      <td>1.000000</td>\n",
       "      <td>1.000000</td>\n",
       "      <td>1.000000</td>\n",
       "    </tr>\n",
       "  </tbody>\n",
       "</table>\n",
       "<p>8 rows × 36 columns</p>\n",
       "</div>"
      ],
      "text/plain": [
       "                Id         Price    Age_08_04    Mfg_Month     Mfg_Year  \\\n",
       "count  1436.000000   1436.000000  1436.000000  1436.000000  1436.000000   \n",
       "mean    721.555014  10730.824513    55.947075     5.548747  1999.625348   \n",
       "std     416.476890   3626.964585    18.599988     3.354085     1.540722   \n",
       "min       1.000000   4350.000000     1.000000     1.000000  1998.000000   \n",
       "25%     361.750000   8450.000000    44.000000     3.000000  1998.000000   \n",
       "50%     721.500000   9900.000000    61.000000     5.000000  1999.000000   \n",
       "75%    1081.250000  11950.000000    70.000000     8.000000  2001.000000   \n",
       "max    1442.000000  32500.000000    80.000000    12.000000  2004.000000   \n",
       "\n",
       "                  KM           HP    Met_Color    Automatic           CC  ...  \\\n",
       "count    1436.000000  1436.000000  1436.000000  1436.000000   1436.00000  ...   \n",
       "mean    68533.259749   101.502089     0.674791     0.055710   1576.85585  ...   \n",
       "std     37506.448872    14.981080     0.468616     0.229441    424.38677  ...   \n",
       "min         1.000000    69.000000     0.000000     0.000000   1300.00000  ...   \n",
       "25%     43000.000000    90.000000     0.000000     0.000000   1400.00000  ...   \n",
       "50%     63389.500000   110.000000     1.000000     0.000000   1600.00000  ...   \n",
       "75%     87020.750000   110.000000     1.000000     0.000000   1600.00000  ...   \n",
       "max    243000.000000   192.000000     1.000000     1.000000  16000.00000  ...   \n",
       "\n",
       "       Powered_Windows  Power_Steering        Radio    Mistlamps  Sport_Model  \\\n",
       "count      1436.000000     1436.000000  1436.000000  1436.000000  1436.000000   \n",
       "mean          0.561978        0.977716     0.146240     0.256964     0.300139   \n",
       "std           0.496317        0.147657     0.353469     0.437111     0.458478   \n",
       "min           0.000000        0.000000     0.000000     0.000000     0.000000   \n",
       "25%           0.000000        1.000000     0.000000     0.000000     0.000000   \n",
       "50%           1.000000        1.000000     0.000000     0.000000     0.000000   \n",
       "75%           1.000000        1.000000     0.000000     1.000000     1.000000   \n",
       "max           1.000000        1.000000     1.000000     1.000000     1.000000   \n",
       "\n",
       "       Backseat_Divider  Metallic_Rim  Radio_cassette  Parking_Assistant  \\\n",
       "count       1436.000000   1436.000000     1436.000000        1436.000000   \n",
       "mean           0.770195      0.204735        0.145543           0.002786   \n",
       "std            0.420854      0.403649        0.352770           0.052723   \n",
       "min            0.000000      0.000000        0.000000           0.000000   \n",
       "25%            1.000000      0.000000        0.000000           0.000000   \n",
       "50%            1.000000      0.000000        0.000000           0.000000   \n",
       "75%            1.000000      0.000000        0.000000           0.000000   \n",
       "max            1.000000      1.000000        1.000000           1.000000   \n",
       "\n",
       "           Tow_Bar  \n",
       "count  1436.000000  \n",
       "mean      0.277855  \n",
       "std       0.448098  \n",
       "min       0.000000  \n",
       "25%       0.000000  \n",
       "50%       0.000000  \n",
       "75%       1.000000  \n",
       "max       1.000000  \n",
       "\n",
       "[8 rows x 36 columns]"
      ]
     },
     "execution_count": 31,
     "metadata": {},
     "output_type": "execute_result"
    }
   ],
   "source": [
    "descriptive_stats = resale_df.describe()\n",
    "descriptive_stats"
   ]
  },
  {
   "cell_type": "code",
   "execution_count": 32,
   "id": "11526161",
   "metadata": {},
   "outputs": [
    {
     "data": {
      "text/plain": [
       "Id                   0\n",
       "Model                0\n",
       "Price                0\n",
       "Age_08_04            0\n",
       "Mfg_Month            0\n",
       "Mfg_Year             0\n",
       "KM                   0\n",
       "Fuel_Type            0\n",
       "HP                   0\n",
       "Met_Color            0\n",
       "Color                0\n",
       "Automatic            0\n",
       "CC                   0\n",
       "Doors                0\n",
       "Cylinders            0\n",
       "Gears                0\n",
       "Quarterly_Tax        0\n",
       "Weight               0\n",
       "Mfr_Guarantee        0\n",
       "BOVAG_Guarantee      0\n",
       "Guarantee_Period     0\n",
       "ABS                  0\n",
       "Airbag_1             0\n",
       "Airbag_2             0\n",
       "Airco                0\n",
       "Automatic_airco      0\n",
       "Boardcomputer        0\n",
       "CD_Player            0\n",
       "Central_Lock         0\n",
       "Powered_Windows      0\n",
       "Power_Steering       0\n",
       "Radio                0\n",
       "Mistlamps            0\n",
       "Sport_Model          0\n",
       "Backseat_Divider     0\n",
       "Metallic_Rim         0\n",
       "Radio_cassette       0\n",
       "Parking_Assistant    0\n",
       "Tow_Bar              0\n",
       "dtype: int64"
      ]
     },
     "execution_count": 32,
     "metadata": {},
     "output_type": "execute_result"
    }
   ],
   "source": [
    "missing_values = resale_df.isnull().sum()\n",
    "missing_values"
   ]
  },
  {
   "cell_type": "markdown",
   "id": "c511c651",
   "metadata": {},
   "source": [
    "The dataset is free of any missing values"
   ]
  },
  {
   "cell_type": "markdown",
   "id": "b1c737f1",
   "metadata": {},
   "source": [
    "**Visualizations**"
   ]
  },
  {
   "cell_type": "code",
   "execution_count": 33,
   "id": "c68f9330",
   "metadata": {},
   "outputs": [
    {
     "name": "stderr",
     "output_type": "stream",
     "text": [
      "C:\\Users\\prabh\\anaconda3\\Lib\\site-packages\\seaborn\\_oldcore.py:1119: FutureWarning:\n",
      "\n",
      "use_inf_as_na option is deprecated and will be removed in a future version. Convert inf values to NaN before operating instead.\n",
      "\n",
      "C:\\Users\\prabh\\anaconda3\\Lib\\site-packages\\seaborn\\_oldcore.py:1119: FutureWarning:\n",
      "\n",
      "use_inf_as_na option is deprecated and will be removed in a future version. Convert inf values to NaN before operating instead.\n",
      "\n"
     ]
    },
    {
     "data": {
      "image/png": "[encoded data removed]",
      "text/plain": [
       "<Figure size 1800x500 with 3 Axes>"
      ]
     },
     "metadata": {},
     "output_type": "display_data"
    }
   ],
   "source": [
    "import matplotlib.pyplot as plt\n",
    "import seaborn as sns\n",
    "\n",
    "sns.set(style=\"whitegrid\")\n",
    "\n",
    "fig, axes = plt.subplots(nrows=1, ncols=3, figsize=(18, 5))\n",
    "\n",
    "# Histogram of Price\n",
    "sns.histplot(resale_df['Price'], bins=30, ax=axes[0], color='skyblue')\n",
    "axes[0].set_title('Distribution of Prices')\n",
    "\n",
    "# Scatter plot of KM vs Price\n",
    "sns.scatterplot(x='KM', y='Price', data=resale_df, ax=axes[1], color='red')\n",
    "axes[1].set_title('Relationship between KM and Price')\n",
    "\n",
    "# Histogram of Age\n",
    "sns.histplot(resale_df['Age_08_04'], bins=30, ax=axes[2], color='green')\n",
    "axes[2].set_title('Distribution of Car Ages')\n",
    "\n",
    "plt.show()"
   ]
  },
  {
   "cell_type": "code",
   "execution_count": 34,
   "id": "edf336e8",
   "metadata": {},
   "outputs": [
    {
     "data": {
      "application/vnd.plotly.v1+json": {
       "config": {
        "plotlyServerURL": "https://plot.ly"
       },
       "data": [
        {
         "alignmentgroup": "True",
         "hovertemplate": "Fuel_Type=%{x}<br>Price=%{y}<extra></extra>",
         "legendgroup": "Diesel",
         "marker": {
          "color": "#636efa"
         },
         "name": "Diesel",
         "notched": false,
         "offsetgroup": "Diesel",
         "orientation": "v",
         "showlegend": true,
         "type": "box",
         "x": [
          "Diesel",
          "Diesel",
          "Diesel",
          "Diesel",
          "Diesel",
          "Diesel",
          "Diesel",
          "Diesel",
          "Diesel",
          "Diesel",
          "Diesel",
          "Diesel",
          "Diesel",
          "Diesel",
          "Diesel",
          "Diesel",
          "Diesel",
          "Diesel",
          "Diesel",
          "Diesel",
          "Diesel",
          "Diesel",
          "Diesel",
          "Diesel",
          "Diesel",
          "Diesel",
          "Diesel",
          "Diesel",
          "Diesel",
          "Diesel",
          "Diesel",
          "Diesel",
          "Diesel",
          "Diesel",
          "Diesel",
          "Diesel",
          "Diesel",
          "Diesel",
          "Diesel",
          "Diesel",
          "Diesel",
          "Diesel",
          "Diesel",
          "Diesel",
          "Diesel",
          "Diesel",
          "Diesel",
          "Diesel",
          "Diesel",
          "Diesel",
          "Diesel",
          "Diesel",
          "Diesel",
          "Diesel",
          "Diesel",
          "Diesel",
          "Diesel",
          "Diesel",
          "Diesel",
          "Diesel",
          "Diesel",
          "Diesel",
          "Diesel",
          "Diesel",
          "Diesel",
          "Diesel",
          "Diesel",
          "Diesel",
          "Diesel",
          "Diesel",
          "Diesel",
          "Diesel",
          "Diesel",
          "Diesel",
          "Diesel",
          "Diesel",
          "Diesel",
          "Diesel",
          "Diesel",
          "Diesel",
          "Diesel",
          "Diesel",
          "Diesel",
          "Diesel",
          "Diesel",
          "Diesel",
          "Diesel",
          "Diesel",
          "Diesel",
          "Diesel",
          "Diesel",
          "Diesel",
          "Diesel",
          "Diesel",
          "Diesel",
          "Diesel",
          "Diesel",
          "Diesel",
          "Diesel",
          "Diesel",
          "Diesel",
          "Diesel",
          "Diesel",
          "Diesel",
          "Diesel",
          "Diesel",
          "Diesel",
          "Diesel",
          "Diesel",
          "Diesel",
          "Diesel",
          "Diesel",
          "Diesel",
          "Diesel",
          "Diesel",
          "Diesel",
          "Diesel",
          "Diesel",
          "Diesel",
          "Diesel",
          "Diesel",
          "Diesel",
          "Diesel",
          "Diesel",
          "Diesel",
          "Diesel",
          "Diesel",
          "Diesel",
          "Diesel",
          "Diesel",
          "Diesel",
          "Diesel",
          "Diesel",
          "Diesel",
          "Diesel",
          "Diesel",
          "Diesel",
          "Diesel",
          "Diesel",
          "Diesel",
          "Diesel",
          "Diesel",
          "Diesel",
          "Diesel",
          "Diesel",
          "Diesel",
          "Diesel",
          "Diesel",
          "Diesel",
          "Diesel",
          "Diesel",
          "Diesel",
          "Diesel",
          "Diesel",
          "Diesel"
         ],
         "x0": " ",
         "xaxis": "x",
         "y": [
          13500,
          13750,
          13950,
          14950,
          13750,
          12950,
          16900,
          18600,
          12950,
          16950,
          16950,
          19000,
          17950,
          17950,
          17950,
          22250,
          17950,
          21950,
          22250,
          19950,
          19950,
          32500,
          31000,
          31275,
          24950,
          24950,
          22950,
          24990,
          21950,
          19250,
          22250,
          19950,
          23000,
          6950,
          9500,
          11950,
          11950,
          4350,
          4750,
          11750,
          13250,
          11900,
          14750,
          10450,
          12950,
          13250,
          14750,
          13500,
          13500,
          13950,
          13500,
          14750,
          13500,
          13500,
          6500,
          6400,
          7000,
          7750,
          8900,
          8950,
          10250,
          7750,
          9450,
          7750,
          8250,
          4450,
          9950,
          12450,
          10500,
          5150,
          10950,
          8950,
          9950,
          8950,
          9250,
          10995,
          8695,
          8750,
          11450,
          11500,
          8950,
          7500,
          6950,
          7900,
          7500,
          7500,
          6900,
          5751,
          7750,
          7950,
          6250,
          9500,
          6900,
          7350,
          6900,
          8950,
          8950,
          8950,
          7950,
          7500,
          8950,
          9800,
          8950,
          8750,
          10500,
          9950,
          9950,
          6950,
          6950,
          7950,
          9950,
          8250,
          12250,
          8500,
          9900,
          10950,
          8950,
          10900,
          10950,
          5900,
          6950,
          6000,
          4400,
          6750,
          8500,
          6150,
          6950,
          5750,
          8750,
          6500,
          10500,
          8500,
          6950,
          8950,
          7950,
          7450,
          7750,
          7900,
          6900,
          7950,
          7950,
          9500,
          8600,
          5950,
          7950,
          7250,
          7250,
          8250,
          8950,
          8950,
          8750,
          6950,
          8500,
          9400,
          8950
         ],
         "y0": " ",
         "yaxis": "y"
        },
        {
         "alignmentgroup": "True",
         "hovertemplate": "Fuel_Type=%{x}<br>Price=%{y}<extra></extra>",
         "legendgroup": "Petrol",
         "marker": {
          "color": "#EF553B"
         },
         "name": "Petrol",
         "notched": false,
         "offsetgroup": "Petrol",
         "orientation": "v",
         "showlegend": true,
         "type": "box",
         "x": [
          "Petrol",
          "Petrol",
          "Petrol",
          "Petrol",
          "Petrol",
          "Petrol",
          "Petrol",
          "Petrol",
          "Petrol",
          "Petrol",
          "Petrol",
          "Petrol",
          "Petrol",
          "Petrol",
          "Petrol",
          "Petrol",
          "Petrol",
          "Petrol",
          "Petrol",
          "Petrol",
          "Petrol",
          "Petrol",
          "Petrol",
          "Petrol",
          "Petrol",
          "Petrol",
          "Petrol",
          "Petrol",
          "Petrol",
          "Petrol",
          "Petrol",
          "Petrol",
          "Petrol",
          "Petrol",
          "Petrol",
          "Petrol",
          "Petrol",
          "Petrol",
          "Petrol",
          "Petrol",
          "Petrol",
          "Petrol",
          "Petrol",
          "Petrol",
          "Petrol",
          "Petrol",
          "Petrol",
          "Petrol",
          "Petrol",
          "Petrol",
          "Petrol",
          "Petrol",
          "Petrol",
          "Petrol",
          "Petrol",
          "Petrol",
          "Petrol",
          "Petrol",
          "Petrol",
          "Petrol",
          "Petrol",
          "Petrol",
          "Petrol",
          "Petrol",
          "Petrol",
          "Petrol",
          "Petrol",
          "Petrol",
          "Petrol",
          "Petrol",
          "Petrol",
          "Petrol",
          "Petrol",
          "Petrol",
          "Petrol",
          "Petrol",
          "Petrol",
          "Petrol",
          "Petrol",
          "Petrol",
          "Petrol",
          "Petrol",
          "Petrol",
          "Petrol",
          "Petrol",
          "Petrol",
          "Petrol",
          "Petrol",
          "Petrol",
          "Petrol",
          "Petrol",
          "Petrol",
          "Petrol",
          "Petrol",
          "Petrol",
          "Petrol",
          "Petrol",
          "Petrol",
          "Petrol",
          "Petrol",
          "Petrol",
          "Petrol",
          "Petrol",
          "Petrol",
          "Petrol",
          "Petrol",
          "Petrol",
          "Petrol",
          "Petrol",
          "Petrol",
          "Petrol",
          "Petrol",
          "Petrol",
          "Petrol",
          "Petrol",
          "Petrol",
          "Petrol",
          "Petrol",
          "Petrol",
          "Petrol",
          "Petrol",
          "Petrol",
          "Petrol",
          "Petrol",
          "Petrol",
          "Petrol",
          "Petrol",
          "Petrol",
          "Petrol",
          "Petrol",
          "Petrol",
          "Petrol",
          "Petrol",
          "Petrol",
          "Petrol",
          "Petrol",
          "Petrol",
          "Petrol",
          "Petrol",
          "Petrol",
          "Petrol",
          "Petrol",
          "Petrol",
          "Petrol",
          "Petrol",
          "Petrol",
          "Petrol",
          "Petrol",
          "Petrol",
          "Petrol",
          "Petrol",
          "Petrol",
          "Petrol",
          "Petrol",
          "Petrol",
          "Petrol",
          "Petrol",
          "Petrol",
          "Petrol",
          "Petrol",
          "Petrol",
          "Petrol",
          "Petrol",
          "Petrol",
          "Petrol",
          "Petrol",
          "Petrol",
          "Petrol",
          "Petrol",
          "Petrol",
          "Petrol",
          "Petrol",
          "Petrol",
          "Petrol",
          "Petrol",
          "Petrol",
          "Petrol",
          "Petrol",
          "Petrol",
          "Petrol",
          "Petrol",
          "Petrol",
          "Petrol",
          "Petrol",
          "Petrol",
          "Petrol",
          "Petrol",
          "Petrol",
          "Petrol",
          "Petrol",
          "Petrol",
          "Petrol",
          "Petrol",
          "Petrol",
          "Petrol",
          "Petrol",
          "Petrol",
          "Petrol",
          "Petrol",
          "Petrol",
          "Petrol",
          "Petrol",
          "Petrol",
          "Petrol",
          "Petrol",
          "Petrol",
          "Petrol",
          "Petrol",
          "Petrol",
          "Petrol",
          "Petrol",
          "Petrol",
          "Petrol",
          "Petrol",
          "Petrol",
          "Petrol",
          "Petrol",
          "Petrol",
          "Petrol",
          "Petrol",
          "Petrol",
          "Petrol",
          "Petrol",
          "Petrol",
          "Petrol",
          "Petrol",
          "Petrol",
          "Petrol",
          "Petrol",
          "Petrol",
          "Petrol",
          "Petrol",
          "Petrol",
          "Petrol",
          "Petrol",
          "Petrol",
          "Petrol",
          "Petrol",
          "Petrol",
          "Petrol",
          "Petrol",
          "Petrol",
          "Petrol",
          "Petrol",
          "Petrol",
          "Petrol",
          "Petrol",
          "Petrol",
          "Petrol",
          "Petrol",
          "Petrol",
          "Petrol",
          "Petrol",
          "Petrol",
          "Petrol",
          "Petrol",
          "Petrol",
          "Petrol",
          "Petrol",
          "Petrol",
          "Petrol",
          "Petrol",
          "Petrol",
          "Petrol",
          "Petrol",
          "Petrol",
          "Petrol",
          "Petrol",
          "Petrol",
          "Petrol",
          "Petrol",
          "Petrol",
          "Petrol",
          "Petrol",
          "Petrol",
          "Petrol",
          "Petrol",
          "Petrol",
          "Petrol",
          "Petrol",
          "Petrol",
          "Petrol",
          "Petrol",
          "Petrol",
          "Petrol",
          "Petrol",
          "Petrol",
          "Petrol",
          "Petrol",
          "Petrol",
          "Petrol",
          "Petrol",
          "Petrol",
          "Petrol",
          "Petrol",
          "Petrol",
          "Petrol",
          "Petrol",
          "Petrol",
          "Petrol",
          "Petrol",
          "Petrol",
          "Petrol",
          "Petrol",
          "Petrol",
          "Petrol",
          "Petrol",
          "Petrol",
          "Petrol",
          "Petrol",
          "Petrol",
          "Petrol",
          "Petrol",
          "Petrol",
          "Petrol",
          "Petrol",
          "Petrol",
          "Petrol",
          "Petrol",
          "Petrol",
          "Petrol",
          "Petrol",
          "Petrol",
          "Petrol",
          "Petrol",
          "Petrol",
          "Petrol",
          "Petrol",
          "Petrol",
          "Petrol",
          "Petrol",
          "Petrol",
          "Petrol",
          "Petrol",
          "Petrol",
          "Petrol",
          "Petrol",
          "Petrol",
          "Petrol",
          "Petrol",
          "Petrol",
          "Petrol",
          "Petrol",
          "Petrol",
          "Petrol",
          "Petrol",
          "Petrol",
          "Petrol",
          "Petrol",
          "Petrol",
          "Petrol",
          "Petrol",
          "Petrol",
          "Petrol",
          "Petrol",
          "Petrol",
          "Petrol",
          "Petrol",
          "Petrol",
          "Petrol",
          "Petrol",
          "Petrol",
          "Petrol",
          "Petrol",
          "Petrol",
          "Petrol",
          "Petrol",
          "Petrol",
          "Petrol",
          "Petrol",
          "Petrol",
          "Petrol",
          "Petrol",
          "Petrol",
          "Petrol",
          "Petrol",
          "Petrol",
          "Petrol",
          "Petrol",
          "Petrol",
          "Petrol",
          "Petrol",
          "Petrol",
          "Petrol",
          "Petrol",
          "Petrol",
          "Petrol",
          "Petrol",
          "Petrol",
          "Petrol",
          "Petrol",
          "Petrol",
          "Petrol",
          "Petrol",
          "Petrol",
          "Petrol",
          "Petrol",
          "Petrol",
          "Petrol",
          "Petrol",
          "Petrol",
          "Petrol",
          "Petrol",
          "Petrol",
          "Petrol",
          "Petrol",
          "Petrol",
          "Petrol",
          "Petrol",
          "Petrol",
          "Petrol",
          "Petrol",
          "Petrol",
          "Petrol",
          "Petrol",
          "Petrol",
          "Petrol",
          "Petrol",
          "Petrol",
          "Petrol",
          "Petrol",
          "Petrol",
          "Petrol",
          "Petrol",
          "Petrol",
          "Petrol",
          "Petrol",
          "Petrol",
          "Petrol",
          "Petrol",
          "Petrol",
          "Petrol",
          "Petrol",
          "Petrol",
          "Petrol",
          "Petrol",
          "Petrol",
          "Petrol",
          "Petrol",
          "Petrol",
          "Petrol",
          "Petrol",
          "Petrol",
          "Petrol",
          "Petrol",
          "Petrol",
          "Petrol",
          "Petrol",
          "Petrol",
          "Petrol",
          "Petrol",
          "Petrol",
          "Petrol",
          "Petrol",
          "Petrol",
          "Petrol",
          "Petrol",
          "Petrol",
          "Petrol",
          "Petrol",
          "Petrol",
          "Petrol",
          "Petrol",
          "Petrol",
          "Petrol",
          "Petrol",
          "Petrol",
          "Petrol",
          "Petrol",
          "Petrol",
          "Petrol",
          "Petrol",
          "Petrol",
          "Petrol",
          "Petrol",
          "Petrol",
          "Petrol",
          "Petrol",
          "Petrol",
          "Petrol",
          "Petrol",
          "Petrol",
          "Petrol",
          "Petrol",
          "Petrol",
          "Petrol",
          "Petrol",
          "Petrol",
          "Petrol",
          "Petrol",
          "Petrol",
          "Petrol",
          "Petrol",
          "Petrol",
          "Petrol",
          "Petrol",
          "Petrol",
          "Petrol",
          "Petrol",
          "Petrol",
          "Petrol",
          "Petrol",
          "Petrol",
          "Petrol",
          "Petrol",
          "Petrol",
          "Petrol",
          "Petrol",
          "Petrol",
          "Petrol",
          "Petrol",
          "Petrol",
          "Petrol",
          "Petrol",
          "Petrol",
          "Petrol",
          "Petrol",
          "Petrol",
          "Petrol",
          "Petrol",
          "Petrol",
          "Petrol",
          "Petrol",
          "Petrol",
          "Petrol",
          "Petrol",
          "Petrol",
          "Petrol",
          "Petrol",
          "Petrol",
          "Petrol",
          "Petrol",
          "Petrol",
          "Petrol",
          "Petrol",
          "Petrol",
          "Petrol",
          "Petrol",
          "Petrol",
          "Petrol",
          "Petrol",
          "Petrol",
          "Petrol",
          "Petrol",
          "Petrol",
          "Petrol",
          "Petrol",
          "Petrol",
          "Petrol",
          "Petrol",
          "Petrol",
          "Petrol",
          "Petrol",
          "Petrol",
          "Petrol",
          "Petrol",
          "Petrol",
          "Petrol",
          "Petrol",
          "Petrol",
          "Petrol",
          "Petrol",
          "Petrol",
          "Petrol",
          "Petrol",
          "Petrol",
          "Petrol",
          "Petrol",
          "Petrol",
          "Petrol",
          "Petrol",
          "Petrol",
          "Petrol",
          "Petrol",
          "Petrol",
          "Petrol",
          "Petrol",
          "Petrol",
          "Petrol",
          "Petrol",
          "Petrol",
          "Petrol",
          "Petrol",
          "Petrol",
          "Petrol",
          "Petrol",
          "Petrol",
          "Petrol",
          "Petrol",
          "Petrol",
          "Petrol",
          "Petrol",
          "Petrol",
          "Petrol",
          "Petrol",
          "Petrol",
          "Petrol",
          "Petrol",
          "Petrol",
          "Petrol",
          "Petrol",
          "Petrol",
          "Petrol",
          "Petrol",
          "Petrol",
          "Petrol",
          "Petrol",
          "Petrol",
          "Petrol",
          "Petrol",
          "Petrol",
          "Petrol",
          "Petrol",
          "Petrol",
          "Petrol",
          "Petrol",
          "Petrol",
          "Petrol",
          "Petrol",
          "Petrol",
          "Petrol",
          "Petrol",
          "Petrol",
          "Petrol",
          "Petrol",
          "Petrol",
          "Petrol",
          "Petrol",
          "Petrol",
          "Petrol",
          "Petrol",
          "Petrol",
          "Petrol",
          "Petrol",
          "Petrol",
          "Petrol",
          "Petrol",
          "Petrol",
          "Petrol",
          "Petrol",
          "Petrol",
          "Petrol",
          "Petrol",
          "Petrol",
          "Petrol",
          "Petrol",
          "Petrol",
          "Petrol",
          "Petrol",
          "Petrol",
          "Petrol",
          "Petrol",
          "Petrol",
          "Petrol",
          "Petrol",
          "Petrol",
          "Petrol",
          "Petrol",
          "Petrol",
          "Petrol",
          "Petrol",
          "Petrol",
          "Petrol",
          "Petrol",
          "Petrol",
          "Petrol",
          "Petrol",
          "Petrol",
          "Petrol",
          "Petrol",
          "Petrol",
          "Petrol",
          "Petrol",
          "Petrol",
          "Petrol",
          "Petrol",
          "Petrol",
          "Petrol",
          "Petrol",
          "Petrol",
          "Petrol",
          "Petrol",
          "Petrol",
          "Petrol",
          "Petrol",
          "Petrol",
          "Petrol",
          "Petrol",
          "Petrol",
          "Petrol",
          "Petrol",
          "Petrol",
          "Petrol",
          "Petrol",
          "Petrol",
          "Petrol",
          "Petrol",
          "Petrol",
          "Petrol",
          "Petrol",
          "Petrol",
          "Petrol",
          "Petrol",
          "Petrol",
          "Petrol",
          "Petrol",
          "Petrol",
          "Petrol",
          "Petrol",
          "Petrol",
          "Petrol",
          "Petrol",
          "Petrol",
          "Petrol",
          "Petrol",
          "Petrol",
          "Petrol",
          "Petrol",
          "Petrol",
          "Petrol",
          "Petrol",
          "Petrol",
          "Petrol",
          "Petrol",
          "Petrol",
          "Petrol",
          "Petrol",
          "Petrol",
          "Petrol",
          "Petrol",
          "Petrol",
          "Petrol",
          "Petrol",
          "Petrol",
          "Petrol",
          "Petrol",
          "Petrol",
          "Petrol",
          "Petrol",
          "Petrol",
          "Petrol",
          "Petrol",
          "Petrol",
          "Petrol",
          "Petrol",
          "Petrol",
          "Petrol",
          "Petrol",
          "Petrol",
          "Petrol",
          "Petrol",
          "Petrol",
          "Petrol",
          "Petrol",
          "Petrol",
          "Petrol",
          "Petrol",
          "Petrol",
          "Petrol",
          "Petrol",
          "Petrol",
          "Petrol",
          "Petrol",
          "Petrol",
          "Petrol",
          "Petrol",
          "Petrol",
          "Petrol",
          "Petrol",
          "Petrol",
          "Petrol",
          "Petrol",
          "Petrol",
          "Petrol",
          "Petrol",
          "Petrol",
          "Petrol",
          "Petrol",
          "Petrol",
          "Petrol",
          "Petrol",
          "Petrol",
          "Petrol",
          "Petrol",
          "Petrol",
          "Petrol",
          "Petrol",
          "Petrol",
          "Petrol",
          "Petrol",
          "Petrol",
          "Petrol",
          "Petrol",
          "Petrol",
          "Petrol",
          "Petrol",
          "Petrol",
          "Petrol",
          "Petrol",
          "Petrol",
          "Petrol",
          "Petrol",
          "Petrol",
          "Petrol",
          "Petrol",
          "Petrol",
          "Petrol",
          "Petrol",
          "Petrol",
          "Petrol",
          "Petrol",
          "Petrol",
          "Petrol",
          "Petrol",
          "Petrol",
          "Petrol",
          "Petrol",
          "Petrol",
          "Petrol",
          "Petrol",
          "Petrol",
          "Petrol",
          "Petrol",
          "Petrol",
          "Petrol",
          "Petrol",
          "Petrol",
          "Petrol",
          "Petrol",
          "Petrol",
          "Petrol",
          "Petrol",
          "Petrol",
          "Petrol",
          "Petrol",
          "Petrol",
          "Petrol",
          "Petrol",
          "Petrol",
          "Petrol",
          "Petrol",
          "Petrol",
          "Petrol",
          "Petrol",
          "Petrol",
          "Petrol",
          "Petrol",
          "Petrol",
          "Petrol",
          "Petrol",
          "Petrol",
          "Petrol",
          "Petrol",
          "Petrol",
          "Petrol",
          "Petrol",
          "Petrol",
          "Petrol",
          "Petrol",
          "Petrol",
          "Petrol",
          "Petrol",
          "Petrol",
          "Petrol",
          "Petrol",
          "Petrol",
          "Petrol",
          "Petrol",
          "Petrol",
          "Petrol",
          "Petrol",
          "Petrol",
          "Petrol",
          "Petrol",
          "Petrol",
          "Petrol",
          "Petrol",
          "Petrol",
          "Petrol",
          "Petrol",
          "Petrol",
          "Petrol",
          "Petrol",
          "Petrol",
          "Petrol",
          "Petrol",
          "Petrol",
          "Petrol",
          "Petrol",
          "Petrol",
          "Petrol",
          "Petrol",
          "Petrol",
          "Petrol",
          "Petrol",
          "Petrol",
          "Petrol",
          "Petrol",
          "Petrol",
          "Petrol",
          "Petrol",
          "Petrol",
          "Petrol",
          "Petrol",
          "Petrol",
          "Petrol",
          "Petrol",
          "Petrol",
          "Petrol",
          "Petrol",
          "Petrol",
          "Petrol",
          "Petrol",
          "Petrol",
          "Petrol",
          "Petrol",
          "Petrol",
          "Petrol",
          "Petrol",
          "Petrol",
          "Petrol",
          "Petrol",
          "Petrol",
          "Petrol",
          "Petrol",
          "Petrol",
          "Petrol",
          "Petrol",
          "Petrol",
          "Petrol",
          "Petrol",
          "Petrol",
          "Petrol",
          "Petrol",
          "Petrol",
          "Petrol",
          "Petrol",
          "Petrol",
          "Petrol",
          "Petrol",
          "Petrol",
          "Petrol",
          "Petrol",
          "Petrol",
          "Petrol",
          "Petrol",
          "Petrol",
          "Petrol",
          "Petrol",
          "Petrol",
          "Petrol",
          "Petrol",
          "Petrol",
          "Petrol",
          "Petrol",
          "Petrol",
          "Petrol",
          "Petrol",
          "Petrol",
          "Petrol",
          "Petrol",
          "Petrol",
          "Petrol",
          "Petrol",
          "Petrol",
          "Petrol",
          "Petrol",
          "Petrol",
          "Petrol",
          "Petrol",
          "Petrol",
          "Petrol",
          "Petrol",
          "Petrol",
          "Petrol",
          "Petrol",
          "Petrol",
          "Petrol",
          "Petrol",
          "Petrol",
          "Petrol",
          "Petrol",
          "Petrol",
          "Petrol",
          "Petrol",
          "Petrol",
          "Petrol",
          "Petrol",
          "Petrol",
          "Petrol",
          "Petrol",
          "Petrol",
          "Petrol",
          "Petrol",
          "Petrol",
          "Petrol",
          "Petrol",
          "Petrol",
          "Petrol",
          "Petrol",
          "Petrol",
          "Petrol",
          "Petrol",
          "Petrol",
          "Petrol",
          "Petrol",
          "Petrol",
          "Petrol",
          "Petrol",
          "Petrol",
          "Petrol",
          "Petrol",
          "Petrol",
          "Petrol",
          "Petrol",
          "Petrol",
          "Petrol",
          "Petrol",
          "Petrol",
          "Petrol",
          "Petrol",
          "Petrol",
          "Petrol",
          "Petrol",
          "Petrol",
          "Petrol",
          "Petrol",
          "Petrol",
          "Petrol",
          "Petrol",
          "Petrol",
          "Petrol",
          "Petrol",
          "Petrol",
          "Petrol",
          "Petrol",
          "Petrol",
          "Petrol",
          "Petrol",
          "Petrol",
          "Petrol",
          "Petrol",
          "Petrol",
          "Petrol",
          "Petrol",
          "Petrol",
          "Petrol",
          "Petrol",
          "Petrol",
          "Petrol",
          "Petrol",
          "Petrol",
          "Petrol",
          "Petrol",
          "Petrol",
          "Petrol",
          "Petrol",
          "Petrol",
          "Petrol",
          "Petrol",
          "Petrol",
          "Petrol",
          "Petrol",
          "Petrol",
          "Petrol",
          "Petrol",
          "Petrol",
          "Petrol",
          "Petrol",
          "Petrol",
          "Petrol",
          "Petrol",
          "Petrol",
          "Petrol",
          "Petrol",
          "Petrol",
          "Petrol",
          "Petrol",
          "Petrol",
          "Petrol",
          "Petrol",
          "Petrol",
          "Petrol",
          "Petrol",
          "Petrol",
          "Petrol",
          "Petrol",
          "Petrol",
          "Petrol",
          "Petrol",
          "Petrol",
          "Petrol",
          "Petrol",
          "Petrol",
          "Petrol",
          "Petrol",
          "Petrol",
          "Petrol",
          "Petrol",
          "Petrol",
          "Petrol",
          "Petrol",
          "Petrol",
          "Petrol",
          "Petrol",
          "Petrol",
          "Petrol",
          "Petrol",
          "Petrol",
          "Petrol",
          "Petrol",
          "Petrol",
          "Petrol",
          "Petrol",
          "Petrol",
          "Petrol",
          "Petrol",
          "Petrol",
          "Petrol",
          "Petrol",
          "Petrol",
          "Petrol",
          "Petrol",
          "Petrol",
          "Petrol",
          "Petrol",
          "Petrol",
          "Petrol",
          "Petrol",
          "Petrol",
          "Petrol",
          "Petrol",
          "Petrol",
          "Petrol",
          "Petrol",
          "Petrol",
          "Petrol",
          "Petrol",
          "Petrol",
          "Petrol",
          "Petrol",
          "Petrol",
          "Petrol",
          "Petrol",
          "Petrol",
          "Petrol",
          "Petrol",
          "Petrol",
          "Petrol",
          "Petrol",
          "Petrol",
          "Petrol",
          "Petrol",
          "Petrol",
          "Petrol",
          "Petrol",
          "Petrol",
          "Petrol",
          "Petrol",
          "Petrol",
          "Petrol",
          "Petrol",
          "Petrol",
          "Petrol",
          "Petrol",
          "Petrol",
          "Petrol",
          "Petrol",
          "Petrol",
          "Petrol",
          "Petrol",
          "Petrol",
          "Petrol",
          "Petrol",
          "Petrol",
          "Petrol",
          "Petrol",
          "Petrol",
          "Petrol",
          "Petrol",
          "Petrol",
          "Petrol",
          "Petrol",
          "Petrol",
          "Petrol",
          "Petrol",
          "Petrol",
          "Petrol",
          "Petrol",
          "Petrol",
          "Petrol",
          "Petrol",
          "Petrol",
          "Petrol",
          "Petrol",
          "Petrol",
          "Petrol",
          "Petrol",
          "Petrol",
          "Petrol",
          "Petrol",
          "Petrol",
          "Petrol",
          "Petrol",
          "Petrol",
          "Petrol",
          "Petrol",
          "Petrol",
          "Petrol",
          "Petrol",
          "Petrol",
          "Petrol",
          "Petrol",
          "Petrol",
          "Petrol",
          "Petrol",
          "Petrol",
          "Petrol",
          "Petrol",
          "Petrol",
          "Petrol",
          "Petrol",
          "Petrol",
          "Petrol",
          "Petrol",
          "Petrol",
          "Petrol",
          "Petrol",
          "Petrol",
          "Petrol",
          "Petrol",
          "Petrol",
          "Petrol",
          "Petrol",
          "Petrol",
          "Petrol",
          "Petrol",
          "Petrol",
          "Petrol",
          "Petrol",
          "Petrol",
          "Petrol",
          "Petrol",
          "Petrol",
          "Petrol",
          "Petrol",
          "Petrol",
          "Petrol",
          "Petrol",
          "Petrol",
          "Petrol",
          "Petrol",
          "Petrol",
          "Petrol",
          "Petrol",
          "Petrol",
          "Petrol",
          "Petrol",
          "Petrol",
          "Petrol",
          "Petrol",
          "Petrol",
          "Petrol",
          "Petrol"
         ],
         "x0": " ",
         "xaxis": "x",
         "y": [
          21500,
          20950,
          19950,
          19600,
          21500,
          22500,
          22000,
          22750,
          17950,
          16750,
          16950,
          15950,
          16950,
          15950,
          16950,
          16250,
          15950,
          17495,
          15750,
          16950,
          17950,
          12950,
          15750,
          15950,
          14950,
          15500,
          15750,
          15950,
          14950,
          15750,
          14750,
          13950,
          16750,
          13950,
          15800,
          21950,
          15750,
          20500,
          21950,
          15500,
          13250,
          15250,
          15250,
          18950,
          15999,
          14950,
          16500,
          18750,
          17950,
          17950,
          16950,
          18950,
          14950,
          15950,
          15950,
          12995,
          18950,
          15750,
          19950,
          16950,
          18750,
          18450,
          16895,
          14900,
          18950,
          17250,
          15450,
          17950,
          16650,
          17450,
          14900,
          15950,
          16450,
          15950,
          18900,
          15950,
          15950,
          18750,
          17450,
          18990,
          16250,
          18500,
          18500,
          19450,
          16950,
          18800,
          17450,
          17950,
          17900,
          18950,
          16350,
          18950,
          16950,
          21750,
          15950,
          16500,
          17950,
          15850,
          16250,
          15950,
          16250,
          15950,
          16500,
          16500,
          18450,
          16250,
          19900,
          16450,
          23950,
          19950,
          18500,
          18950,
          16450,
          20500,
          24500,
          19450,
          20950,
          17200,
          19950,
          18450,
          19500,
          21750,
          16868,
          19500,
          18900,
          19750,
          19750,
          18950,
          20750,
          19600,
          19500,
          17650,
          19950,
          19950,
          20950,
          20500,
          17795,
          18245,
          23750,
          19500,
          18950,
          21950,
          19950,
          18950,
          19950,
          21950,
          22500,
          18500,
          18700,
          21125,
          21500,
          17795,
          18245,
          11950,
          9950,
          11495,
          11250,
          10500,
          11500,
          12500,
          10950,
          11450,
          11790,
          11450,
          10950,
          10950,
          10950,
          12950,
          11950,
          12450,
          11950,
          12450,
          12950,
          11950,
          11690,
          12450,
          12750,
          11925,
          12950,
          11950,
          12900,
          11900,
          11650,
          10950,
          13950,
          11950,
          10950,
          12450,
          11950,
          11690,
          13500,
          11950,
          12900,
          13500,
          11750,
          11750,
          10850,
          11750,
          14950,
          9940,
          12900,
          13500,
          11750,
          11950,
          13450,
          11950,
          12495,
          13500,
          12750,
          12000,
          11950,
          12495,
          12450,
          10950,
          12950,
          13450,
          13500,
          11480,
          13450,
          11495,
          12750,
          14990,
          12950,
          12950,
          12850,
          13950,
          11950,
          12950,
          11700,
          9950,
          11895,
          12950,
          12500,
          13875,
          10500,
          12295,
          13950,
          10950,
          12850,
          13995,
          13750,
          12750,
          12500,
          13950,
          11500,
          13950,
          11895,
          9950,
          13500,
          11450,
          12450,
          12950,
          13995,
          11750,
          11650,
          9950,
          13950,
          12950,
          10950,
          9900,
          11950,
          11990,
          10750,
          13950,
          11250,
          12950,
          11950,
          10950,
          12950,
          12950,
          11695,
          11000,
          13950,
          11950,
          11750,
          12400,
          12500,
          12900,
          12200,
          12750,
          11950,
          11900,
          11950,
          14950,
          11950,
          12950,
          14950,
          13450,
          13750,
          12950,
          12750,
          11895,
          9950,
          12450,
          12500,
          14950,
          13750,
          12695,
          14990,
          12750,
          14350,
          12950,
          11500,
          11950,
          13450,
          12900,
          10500,
          10950,
          11950,
          11450,
          13250,
          10250,
          13995,
          11950,
          13250,
          12950,
          11750,
          11500,
          13500,
          9900,
          9950,
          9950,
          9000,
          10500,
          10750,
          8950,
          10950,
          9450,
          9950,
          11900,
          9950,
          11950,
          7900,
          10950,
          11950,
          10900,
          9950,
          10950,
          8950,
          10500,
          8950,
          11500,
          9750,
          9950,
          11450,
          12500,
          10500,
          12950,
          12200,
          10950,
          10950,
          11290,
          10750,
          10895,
          9750,
          10250,
          12500,
          11950,
          10750,
          11450,
          11950,
          11750,
          10950,
          11950,
          11450,
          8900,
          10500,
          11750,
          11450,
          12000,
          11950,
          9850,
          10950,
          10950,
          10990,
          9500,
          11950,
          10750,
          8750,
          9950,
          11950,
          13950,
          11250,
          10900,
          9750,
          9950,
          11950,
          10450,
          8950,
          10250,
          9930,
          10500,
          11950,
          11500,
          11450,
          9900,
          9500,
          10500,
          10750,
          12000,
          9940,
          10950,
          10750,
          9799,
          11750,
          11950,
          11250,
          11750,
          10950,
          11250,
          9950,
          9700,
          11950,
          9900,
          9990,
          9475,
          11500,
          11950,
          11500,
          10500,
          10900,
          11700,
          11900,
          13950,
          10950,
          10500,
          10750,
          11950,
          10000,
          10495,
          11450,
          9400,
          11950,
          9650,
          18950,
          11450,
          10250,
          11450,
          9950,
          10500,
          13750,
          9950,
          10250,
          10850,
          11895,
          12950,
          11950,
          10750,
          9550,
          10950,
          11750,
          10950,
          12450,
          10500,
          10900,
          12950,
          10950,
          12500,
          9950,
          10750,
          12500,
          10450,
          10750,
          12950,
          10995,
          11950,
          11250,
          11950,
          13750,
          11000,
          13500,
          10950,
          10750,
          8950,
          12950,
          9750,
          10900,
          10995,
          10750,
          10950,
          13000,
          12950,
          11500,
          10950,
          11710,
          9980,
          12250,
          11500,
          11950,
          11500,
          11900,
          11930,
          10500,
          8950,
          10450,
          10500,
          12950,
          9950,
          12900,
          9950,
          9950,
          10950,
          10950,
          9950,
          10950,
          10800,
          10500,
          10450,
          10600,
          10450,
          12950,
          11250,
          8950,
          5950,
          6950,
          7950,
          8250,
          8950,
          8750,
          7750,
          9450,
          7995,
          10450,
          9950,
          8950,
          7950,
          10950,
          8600,
          7250,
          8000,
          9950,
          7950,
          9950,
          8250,
          9950,
          8250,
          9950,
          10500,
          9750,
          9250,
          9500,
          9950,
          7750,
          9500,
          9950,
          9750,
          9750,
          5950,
          8500,
          8495,
          9250,
          6900,
          8950,
          9500,
          9250,
          9895,
          7950,
          8750,
          8950,
          8950,
          8950,
          8950,
          9450,
          8950,
          9250,
          8750,
          9950,
          9950,
          9900,
          8950,
          8950,
          9250,
          10250,
          8950,
          7999,
          9900,
          8250,
          10500,
          8450,
          9900,
          10500,
          9500,
          9450,
          8250,
          8750,
          9500,
          8450,
          8490,
          8750,
          9750,
          9950,
          8500,
          8450,
          7900,
          8750,
          7950,
          6900,
          8150,
          10995,
          8900,
          9500,
          8950,
          11500,
          10450,
          10500,
          9250,
          10950,
          10450,
          9250,
          8750,
          8750,
          9800,
          8250,
          10450,
          9750,
          8950,
          7450,
          8450,
          8250,
          10950,
          8950,
          8750,
          10450,
          10950,
          8450,
          9950,
          9950,
          8750,
          9950,
          9500,
          8250,
          10950,
          7950,
          8250,
          9895,
          9130,
          10950,
          10500,
          8900,
          9500,
          7950,
          7950,
          7950,
          9500,
          10950,
          9750,
          9750,
          9450,
          8950,
          8950,
          8900,
          9950,
          8750,
          8950,
          8990,
          8950,
          9950,
          9900,
          8950,
          8950,
          9500,
          7950,
          7750,
          8950,
          11950,
          8950,
          11950,
          8950,
          9950,
          8250,
          8995,
          9995,
          9250,
          10950,
          8900,
          9500,
          9950,
          7950,
          8250,
          9450,
          7950,
          9500,
          8950,
          10950,
          8950,
          9450,
          8000,
          9900,
          8950,
          9450,
          8450,
          9500,
          10500,
          6950,
          9750,
          6950,
          9650,
          9950,
          9250,
          8950,
          9900,
          10995,
          10500,
          8950,
          9750,
          10950,
          9750,
          9950,
          10500,
          10400,
          8800,
          10500,
          9250,
          7800,
          9950,
          10750,
          10950,
          9950,
          9950,
          8100,
          9250,
          7800,
          9000,
          8950,
          8950,
          9950,
          8500,
          7995,
          8750,
          9750,
          10950,
          9750,
          8200,
          8950,
          9500,
          9750,
          9950,
          10450,
          9850,
          9450,
          10295,
          9750,
          8950,
          9900,
          8750,
          9950,
          8500,
          9950,
          10950,
          9795,
          8750,
          8250,
          9950,
          9950,
          10500,
          9750,
          11250,
          8900,
          7950,
          11500,
          9450,
          7995,
          10995,
          8950,
          8250,
          8950,
          8950,
          9500,
          7500,
          8950,
          9950,
          9750,
          9450,
          9950,
          9750,
          8950,
          8250,
          7750,
          8950,
          9950,
          9450,
          12950,
          9950,
          10495,
          7950,
          10500,
          8950,
          9900,
          9995,
          9950,
          9950,
          8250,
          9950,
          8950,
          10950,
          9250,
          9950,
          9995,
          8750,
          10950,
          10350,
          9950,
          8950,
          10950,
          10950,
          8950,
          8900,
          10250,
          9450,
          9250,
          10500,
          7350,
          10250,
          10250,
          11500,
          8950,
          7750,
          9500,
          8450,
          8950,
          8400,
          9250,
          8900,
          8750,
          10950,
          8950,
          8950,
          8895,
          9390,
          8750,
          9750,
          9950,
          10950,
          9900,
          9500,
          9950,
          9950,
          10500,
          9950,
          10495,
          9500,
          8500,
          10450,
          8950,
          9900,
          8900,
          8745,
          8750,
          10750,
          9750,
          8850,
          7950,
          9450,
          9950,
          8250,
          9950,
          9995,
          9950,
          10495,
          8950,
          9695,
          7750,
          9950,
          9950,
          9950,
          9900,
          10950,
          8950,
          8950,
          8250,
          10250,
          8750,
          9750,
          10950,
          10950,
          9750,
          8900,
          9500,
          9950,
          9950,
          8250,
          10450,
          10950,
          9250,
          8900,
          10900,
          9750,
          11950,
          7900,
          10900,
          10450,
          10950,
          9950,
          10750,
          9900,
          10750,
          10450,
          9450,
          10750,
          10950,
          10000,
          10500,
          12500,
          8950,
          10500,
          9245,
          10950,
          9500,
          10900,
          10950,
          9450,
          5950,
          6500,
          7950,
          5800,
          6750,
          5740,
          6550,
          6750,
          7950,
          5600,
          5950,
          6950,
          8950,
          7750,
          6950,
          7250,
          6500,
          7250,
          9250,
          8250,
          5250,
          7900,
          6900,
          7900,
          8450,
          7950,
          7950,
          6450,
          6650,
          7950,
          7250,
          7450,
          7950,
          7250,
          7750,
          8500,
          7750,
          5750,
          6900,
          6500,
          6500,
          7600,
          7450,
          7350,
          7750,
          9250,
          7250,
          6500,
          6800,
          8700,
          7500,
          7750,
          7950,
          9950,
          6640,
          8750,
          7750,
          5950,
          6750,
          6500,
          8750,
          7950,
          6750,
          7950,
          7950,
          8950,
          7750,
          6450,
          6900,
          8450,
          6750,
          8050,
          9500,
          7750,
          8500,
          7795,
          6490,
          7950,
          6425,
          8950,
          6950,
          8750,
          8450,
          7950,
          7950,
          8900,
          8950,
          8900,
          7950,
          6495,
          7250,
          9250,
          6650,
          6990,
          7750,
          6950,
          7250,
          9950,
          9250,
          7200,
          8250,
          8950,
          8250,
          6250,
          9900,
          7300,
          8950,
          6500,
          7950,
          7450,
          7950,
          8500,
          6950,
          7950,
          6750,
          8450,
          7500,
          8750,
          8950,
          7450,
          9200,
          8950,
          7850,
          7200,
          7450,
          6750,
          7500,
          7450,
          7950,
          7250,
          7950,
          8250,
          8250,
          6750,
          8750,
          8950,
          8250,
          9450,
          7950,
          7900,
          8500,
          8250,
          8250,
          8950,
          7950,
          6950,
          7250,
          7750,
          8700,
          8950,
          6750,
          7500,
          7950,
          8950,
          7950,
          7450,
          5950,
          7750,
          6950,
          8750,
          8950,
          7495,
          7750,
          6950,
          7990,
          7250,
          6900,
          7750,
          7250,
          8950,
          8500,
          7950,
          6950,
          8000,
          7950,
          8500,
          7490,
          8250,
          9250,
          7950,
          9500,
          8950,
          8450,
          7995,
          8750,
          5950,
          8500,
          8950,
          8750,
          7600,
          7145,
          8450,
          5950,
          9000,
          7250,
          7400,
          8800,
          7750,
          7500,
          8450,
          7400,
          7500,
          8950,
          8950,
          7950,
          7950,
          7950,
          8950,
          7750,
          8250,
          7950,
          7750,
          8500,
          6950,
          7500,
          7750,
          5950,
          7500,
          8950,
          7950,
          6900,
          7450,
          8500,
          7500,
          8750,
          7500,
          9950,
          7950,
          9950,
          9250,
          9250,
          9950,
          5950,
          7995,
          8950,
          7450,
          8250,
          8500,
          8500,
          7250,
          8950,
          9450,
          8500,
          6750,
          7400,
          8950,
          6900,
          7750,
          6950,
          8495,
          10000,
          6999,
          8950,
          8500,
          8750,
          7499,
          9000,
          8950,
          6950,
          8500,
          8450,
          8950,
          8250,
          7950,
          7450,
          9000,
          7150,
          7750,
          5845,
          8500,
          8250,
          9450,
          6750,
          8400,
          7900,
          7950,
          8750,
          9900,
          6495,
          8250,
          6900,
          7500,
          7950,
          8250,
          8950,
          9750,
          8250,
          8900,
          8950,
          6750,
          7950,
          8600,
          7750,
          7800,
          8750,
          9500,
          7750,
          9950,
          7750,
          5950,
          10950,
          9450,
          8250,
          9750,
          7450,
          8750,
          8750,
          8500,
          8950,
          7500,
          7250,
          7450,
          8750,
          9800,
          7500,
          8950,
          8950,
          7450,
          8950,
          10500,
          7000,
          8500,
          7750,
          8950,
          8250,
          9250,
          7900,
          8500,
          7950,
          9950,
          8750,
          7500,
          6950,
          8950,
          8750,
          7750,
          8450,
          8150,
          8500,
          7600,
          7950,
          7750,
          7950,
          9950,
          8950,
          8450,
          8950,
          8450,
          7500,
          10845,
          8500,
          7250,
          6950
         ],
         "y0": " ",
         "yaxis": "y"
        },
        {
         "alignmentgroup": "True",
         "hovertemplate": "Fuel_Type=%{x}<br>Price=%{y}<extra></extra>",
         "legendgroup": "CNG",
         "marker": {
          "color": "#00cc96"
         },
         "name": "CNG",
         "notched": false,
         "offsetgroup": "CNG",
         "orientation": "v",
         "showlegend": true,
         "type": "box",
         "x": [
          "CNG",
          "CNG",
          "CNG",
          "CNG",
          "CNG",
          "CNG",
          "CNG",
          "CNG",
          "CNG",
          "CNG",
          "CNG",
          "CNG",
          "CNG",
          "CNG",
          "CNG",
          "CNG",
          "CNG"
         ],
         "x0": " ",
         "xaxis": "x",
         "y": [
          7750,
          11950,
          11950,
          14950,
          12950,
          8500,
          9250,
          11500,
          8450,
          8950,
          7950,
          9450,
          9450,
          7950,
          5250,
          6450,
          7460
         ],
         "y0": " ",
         "yaxis": "y"
        }
       ],
       "layout": {
        "boxmode": "overlay",
        "legend": {
         "title": {
          "text": "Fuel_Type"
         },
         "tracegroupgap": 0
        },
        "template": {
         "data": {
          "bar": [
           {
            "error_x": {
             "color": "#2a3f5f"
            },
            "error_y": {
             "color": "#2a3f5f"
            },
            "marker": {
             "line": {
              "color": "#E5ECF6",
              "width": 0.5
             },
             "pattern": {
              "fillmode": "overlay",
              "size": 10,
              "solidity": 0.2
             }
            },
            "type": "bar"
           }
          ],
          "barpolar": [
           {
            "marker": {
             "line": {
              "color": "#E5ECF6",
              "width": 0.5
             },
             "pattern": {
              "fillmode": "overlay",
              "size": 10,
              "solidity": 0.2
             }
            },
            "type": "barpolar"
           }
          ],
          "carpet": [
           {
            "aaxis": {
             "endlinecolor": "#2a3f5f",
             "gridcolor": "white",
             "linecolor": "white",
             "minorgridcolor": "white",
             "startlinecolor": "#2a3f5f"
            },
            "baxis": {
             "endlinecolor": "#2a3f5f",
             "gridcolor": "white",
             "linecolor": "white",
             "minorgridcolor": "white",
             "startlinecolor": "#2a3f5f"
            },
            "type": "carpet"
           }
          ],
          "choropleth": [
           {
            "colorbar": {
             "outlinewidth": 0,
             "ticks": ""
            },
            "type": "choropleth"
           }
          ],
          "contour": [
           {
            "colorbar": {
             "outlinewidth": 0,
             "ticks": ""
            },
            "colorscale": [
             [
              0,
              "#0d0887"
             ],
             [
              0.1111111111111111,
              "#46039f"
             ],
             [
              0.2222222222222222,
              "#7201a8"
             ],
             [
              0.3333333333333333,
              "#9c179e"
             ],
             [
              0.4444444444444444,
              "#bd3786"
             ],
             [
              0.5555555555555556,
              "#d8576b"
             ],
             [
              0.6666666666666666,
              "#ed7953"
             ],
             [
              0.7777777777777778,
              "#fb9f3a"
             ],
             [
              0.8888888888888888,
              "#fdca26"
             ],
             [
              1,
              "#f0f921"
             ]
            ],
            "type": "contour"
           }
          ],
          "contourcarpet": [
           {
            "colorbar": {
             "outlinewidth": 0,
             "ticks": ""
            },
            "type": "contourcarpet"
           }
          ],
          "heatmap": [
           {
            "colorbar": {
             "outlinewidth": 0,
             "ticks": ""
            },
            "colorscale": [
             [
              0,
              "#0d0887"
             ],
             [
              0.1111111111111111,
              "#46039f"
             ],
             [
              0.2222222222222222,
              "#7201a8"
             ],
             [
              0.3333333333333333,
              "#9c179e"
             ],
             [
              0.4444444444444444,
              "#bd3786"
             ],
             [
              0.5555555555555556,
              "#d8576b"
             ],
             [
              0.6666666666666666,
              "#ed7953"
             ],
             [
              0.7777777777777778,
              "#fb9f3a"
             ],
             [
              0.8888888888888888,
              "#fdca26"
             ],
             [
              1,
              "#f0f921"
             ]
            ],
            "type": "heatmap"
           }
          ],
          "heatmapgl": [
           {
            "colorbar": {
             "outlinewidth": 0,
             "ticks": ""
            },
            "colorscale": [
             [
              0,
              "#0d0887"
             ],
             [
              0.1111111111111111,
              "#46039f"
             ],
             [
              0.2222222222222222,
              "#7201a8"
             ],
             [
              0.3333333333333333,
              "#9c179e"
             ],
             [
              0.4444444444444444,
              "#bd3786"
             ],
             [
              0.5555555555555556,
              "#d8576b"
             ],
             [
              0.6666666666666666,
              "#ed7953"
             ],
             [
              0.7777777777777778,
              "#fb9f3a"
             ],
             [
              0.8888888888888888,
              "#fdca26"
             ],
             [
              1,
              "#f0f921"
             ]
            ],
            "type": "heatmapgl"
           }
          ],
          "histogram": [
           {
            "marker": {
             "pattern": {
              "fillmode": "overlay",
              "size": 10,
              "solidity": 0.2
             }
            },
            "type": "histogram"
           }
          ],
          "histogram2d": [
           {
            "colorbar": {
             "outlinewidth": 0,
             "ticks": ""
            },
            "colorscale": [
             [
              0,
              "#0d0887"
             ],
             [
              0.1111111111111111,
              "#46039f"
             ],
             [
              0.2222222222222222,
              "#7201a8"
             ],
             [
              0.3333333333333333,
              "#9c179e"
             ],
             [
              0.4444444444444444,
              "#bd3786"
             ],
             [
              0.5555555555555556,
              "#d8576b"
             ],
             [
              0.6666666666666666,
              "#ed7953"
             ],
             [
              0.7777777777777778,
              "#fb9f3a"
             ],
             [
              0.8888888888888888,
              "#fdca26"
             ],
             [
              1,
              "#f0f921"
             ]
            ],
            "type": "histogram2d"
           }
          ],
          "histogram2dcontour": [
           {
            "colorbar": {
             "outlinewidth": 0,
             "ticks": ""
            },
            "colorscale": [
             [
              0,
              "#0d0887"
             ],
             [
              0.1111111111111111,
              "#46039f"
             ],
             [
              0.2222222222222222,
              "#7201a8"
             ],
             [
              0.3333333333333333,
              "#9c179e"
             ],
             [
              0.4444444444444444,
              "#bd3786"
             ],
             [
              0.5555555555555556,
              "#d8576b"
             ],
             [
              0.6666666666666666,
              "#ed7953"
             ],
             [
              0.7777777777777778,
              "#fb9f3a"
             ],
             [
              0.8888888888888888,
              "#fdca26"
             ],
             [
              1,
              "#f0f921"
             ]
            ],
            "type": "histogram2dcontour"
           }
          ],
          "mesh3d": [
           {
            "colorbar": {
             "outlinewidth": 0,
             "ticks": ""
            },
            "type": "mesh3d"
           }
          ],
          "parcoords": [
           {
            "line": {
             "colorbar": {
              "outlinewidth": 0,
              "ticks": ""
             }
            },
            "type": "parcoords"
           }
          ],
          "pie": [
           {
            "automargin": true,
            "type": "pie"
           }
          ],
          "scatter": [
           {
            "fillpattern": {
             "fillmode": "overlay",
             "size": 10,
             "solidity": 0.2
            },
            "type": "scatter"
           }
          ],
          "scatter3d": [
           {
            "line": {
             "colorbar": {
              "outlinewidth": 0,
              "ticks": ""
             }
            },
            "marker": {
             "colorbar": {
              "outlinewidth": 0,
              "ticks": ""
             }
            },
            "type": "scatter3d"
           }
          ],
          "scattercarpet": [
           {
            "marker": {
             "colorbar": {
              "outlinewidth": 0,
              "ticks": ""
             }
            },
            "type": "scattercarpet"
           }
          ],
          "scattergeo": [
           {
            "marker": {
             "colorbar": {
              "outlinewidth": 0,
              "ticks": ""
             }
            },
            "type": "scattergeo"
           }
          ],
          "scattergl": [
           {
            "marker": {
             "colorbar": {
              "outlinewidth": 0,
              "ticks": ""
             }
            },
            "type": "scattergl"
           }
          ],
          "scattermapbox": [
           {
            "marker": {
             "colorbar": {
              "outlinewidth": 0,
              "ticks": ""
             }
            },
            "type": "scattermapbox"
           }
          ],
          "scatterpolar": [
           {
            "marker": {
             "colorbar": {
              "outlinewidth": 0,
              "ticks": ""
             }
            },
            "type": "scatterpolar"
           }
          ],
          "scatterpolargl": [
           {
            "marker": {
             "colorbar": {
              "outlinewidth": 0,
              "ticks": ""
             }
            },
            "type": "scatterpolargl"
           }
          ],
          "scatterternary": [
           {
            "marker": {
             "colorbar": {
              "outlinewidth": 0,
              "ticks": ""
             }
            },
            "type": "scatterternary"
           }
          ],
          "surface": [
           {
            "colorbar": {
             "outlinewidth": 0,
             "ticks": ""
            },
            "colorscale": [
             [
              0,
              "#0d0887"
             ],
             [
              0.1111111111111111,
              "#46039f"
             ],
             [
              0.2222222222222222,
              "#7201a8"
             ],
             [
              0.3333333333333333,
              "#9c179e"
             ],
             [
              0.4444444444444444,
              "#bd3786"
             ],
             [
              0.5555555555555556,
              "#d8576b"
             ],
             [
              0.6666666666666666,
              "#ed7953"
             ],
             [
              0.7777777777777778,
              "#fb9f3a"
             ],
             [
              0.8888888888888888,
              "#fdca26"
             ],
             [
              1,
              "#f0f921"
             ]
            ],
            "type": "surface"
           }
          ],
          "table": [
           {
            "cells": {
             "fill": {
              "color": "#EBF0F8"
             },
             "line": {
              "color": "white"
             }
            },
            "header": {
             "fill": {
              "color": "#C8D4E3"
             },
             "line": {
              "color": "white"
             }
            },
            "type": "table"
           }
          ]
         },
         "layout": {
          "annotationdefaults": {
           "arrowcolor": "#2a3f5f",
           "arrowhead": 0,
           "arrowwidth": 1
          },
          "autotypenumbers": "strict",
          "coloraxis": {
           "colorbar": {
            "outlinewidth": 0,
            "ticks": ""
           }
          },
          "colorscale": {
           "diverging": [
            [
             0,
             "#8e0152"
            ],
            [
             0.1,
             "#c51b7d"
            ],
            [
             0.2,
             "#de77ae"
            ],
            [
             0.3,
             "#f1b6da"
            ],
            [
             0.4,
             "#fde0ef"
            ],
            [
             0.5,
             "#f7f7f7"
            ],
            [
             0.6,
             "#e6f5d0"
            ],
            [
             0.7,
             "#b8e186"
            ],
            [
             0.8,
             "#7fbc41"
            ],
            [
             0.9,
             "#4d9221"
            ],
            [
             1,
             "#276419"
            ]
           ],
           "sequential": [
            [
             0,
             "#0d0887"
            ],
            [
             0.1111111111111111,
             "#46039f"
            ],
            [
             0.2222222222222222,
             "#7201a8"
            ],
            [
             0.3333333333333333,
             "#9c179e"
            ],
            [
             0.4444444444444444,
             "#bd3786"
            ],
            [
             0.5555555555555556,
             "#d8576b"
            ],
            [
             0.6666666666666666,
             "#ed7953"
            ],
            [
             0.7777777777777778,
             "#fb9f3a"
            ],
            [
             0.8888888888888888,
             "#fdca26"
            ],
            [
             1,
             "#f0f921"
            ]
           ],
           "sequentialminus": [
            [
             0,
             "#0d0887"
            ],
            [
             0.1111111111111111,
             "#46039f"
            ],
            [
             0.2222222222222222,
             "#7201a8"
            ],
            [
             0.3333333333333333,
             "#9c179e"
            ],
            [
             0.4444444444444444,
             "#bd3786"
            ],
            [
             0.5555555555555556,
             "#d8576b"
            ],
            [
             0.6666666666666666,
             "#ed7953"
            ],
            [
             0.7777777777777778,
             "#fb9f3a"
            ],
            [
             0.8888888888888888,
             "#fdca26"
            ],
            [
             1,
             "#f0f921"
            ]
           ]
          },
          "colorway": [
           "#636efa",
           "#EF553B",
           "#00cc96",
           "#ab63fa",
           "#FFA15A",
           "#19d3f3",
           "#FF6692",
           "#B6E880",
           "#FF97FF",
           "#FECB52"
          ],
          "font": {
           "color": "#2a3f5f"
          },
          "geo": {
           "bgcolor": "white",
           "lakecolor": "white",
           "landcolor": "#E5ECF6",
           "showlakes": true,
           "showland": true,
           "subunitcolor": "white"
          },
          "hoverlabel": {
           "align": "left"
          },
          "hovermode": "closest",
          "mapbox": {
           "style": "light"
          },
          "paper_bgcolor": "white",
          "plot_bgcolor": "#E5ECF6",
          "polar": {
           "angularaxis": {
            "gridcolor": "white",
            "linecolor": "white",
            "ticks": ""
           },
           "bgcolor": "#E5ECF6",
           "radialaxis": {
            "gridcolor": "white",
            "linecolor": "white",
            "ticks": ""
           }
          },
          "scene": {
           "xaxis": {
            "backgroundcolor": "#E5ECF6",
            "gridcolor": "white",
            "gridwidth": 2,
            "linecolor": "white",
            "showbackground": true,
            "ticks": "",
            "zerolinecolor": "white"
           },
           "yaxis": {
            "backgroundcolor": "#E5ECF6",
            "gridcolor": "white",
            "gridwidth": 2,
            "linecolor": "white",
            "showbackground": true,
            "ticks": "",
            "zerolinecolor": "white"
           },
           "zaxis": {
            "backgroundcolor": "#E5ECF6",
            "gridcolor": "white",
            "gridwidth": 2,
            "linecolor": "white",
            "showbackground": true,
            "ticks": "",
            "zerolinecolor": "white"
           }
          },
          "shapedefaults": {
           "line": {
            "color": "#2a3f5f"
           }
          },
          "ternary": {
           "aaxis": {
            "gridcolor": "white",
            "linecolor": "white",
            "ticks": ""
           },
           "baxis": {
            "gridcolor": "white",
            "linecolor": "white",
            "ticks": ""
           },
           "bgcolor": "#E5ECF6",
           "caxis": {
            "gridcolor": "white",
            "linecolor": "white",
            "ticks": ""
           }
          },
          "title": {
           "x": 0.05
          },
          "xaxis": {
           "automargin": true,
           "gridcolor": "white",
           "linecolor": "white",
           "ticks": "",
           "title": {
            "standoff": 15
           },
           "zerolinecolor": "white",
           "zerolinewidth": 2
          },
          "yaxis": {
           "automargin": true,
           "gridcolor": "white",
           "linecolor": "white",
           "ticks": "",
           "title": {
            "standoff": 15
           },
           "zerolinecolor": "white",
           "zerolinewidth": 2
          }
         }
        },
        "title": {
         "text": "Price Distribution Across Different Fuel Types"
        },
        "xaxis": {
         "anchor": "y",
         "categoryarray": [
          "Diesel",
          "Petrol",
          "CNG"
         ],
         "categoryorder": "array",
         "domain": [
          0,
          1
         ],
         "title": {
          "text": "Fuel_Type"
         }
        },
        "yaxis": {
         "anchor": "x",
         "domain": [
          0,
          1
         ],
         "title": {
          "text": "Price"
         }
        }
       }
      },
      "text/html": [
       "<div>                            <div id=\"fe8dfbca-57ce-4c44-ad14-7a5b7ffc5661\" class=\"plotly-graph-div\" style=\"height:525px; width:100%;\"></div>            <script type=\"text/javascript\">                require([\"plotly\"], function(Plotly) {                    window.PLOTLYENV=window.PLOTLYENV || {};                                    if (document.getElementById(\"fe8dfbca-57ce-4c44-ad14-7a5b7ffc5661\")) {                    Plotly.newPlot(                        \"fe8dfbca-57ce-4c44-ad14-7a5b7ffc5661\",                        [{\"alignmentgroup\":\"True\",\"hovertemplate\":\"Fuel_Type=%{x}\\u003cbr\\u003ePrice=%{y}\\u003cextra\\u003e\\u003c\\u002fextra\\u003e\",\"legendgroup\":\"Diesel\",\"marker\":{\"color\":\"#636efa\"},\"name\":\"Diesel\",\"notched\":false,\"offsetgroup\":\"Diesel\",\"orientation\":\"v\",\"showlegend\":true,\"x\":[\"Diesel\",\"Diesel\",\"Diesel\",\"Diesel\",\"Diesel\",\"Diesel\",\"Diesel\",\"Diesel\",\"Diesel\",\"Diesel\",\"Diesel\",\"Diesel\",\"Diesel\",\"Diesel\",\"Diesel\",\"Diesel\",\"Diesel\",\"Diesel\",\"Diesel\",\"Diesel\",\"Diesel\",\"Diesel\",\"Diesel\",\"Diesel\",\"Diesel\",\"Diesel\",\"Diesel\",\"Diesel\",\"Diesel\",\"Diesel\",\"Diesel\",\"Diesel\",\"Diesel\",\"Diesel\",\"Diesel\",\"Diesel\",\"Diesel\",\"Diesel\",\"Diesel\",\"Diesel\",\"Diesel\",\"Diesel\",\"Diesel\",\"Diesel\",\"Diesel\",\"Diesel\",\"Diesel\",\"Diesel\",\"Diesel\",\"Diesel\",\"Diesel\",\"Diesel\",\"Diesel\",\"Diesel\",\"Diesel\",\"Diesel\",\"Diesel\",\"Diesel\",\"Diesel\",\"Diesel\",\"Diesel\",\"Diesel\",\"Diesel\",\"Diesel\",\"Diesel\",\"Diesel\",\"Diesel\",\"Diesel\",\"Diesel\",\"Diesel\",\"Diesel\",\"Diesel\",\"Diesel\",\"Diesel\",\"Diesel\",\"Diesel\",\"Diesel\",\"Diesel\",\"Diesel\",\"Diesel\",\"Diesel\",\"Diesel\",\"Diesel\",\"Diesel\",\"Diesel\",\"Diesel\",\"Diesel\",\"Diesel\",\"Diesel\",\"Diesel\",\"Diesel\",\"Diesel\",\"Diesel\",\"Diesel\",\"Diesel\",\"Diesel\",\"Diesel\",\"Diesel\",\"Diesel\",\"Diesel\",\"Diesel\",\"Diesel\",\"Diesel\",\"Diesel\",\"Diesel\",\"Diesel\",\"Diesel\",\"Diesel\",\"Diesel\",\"Diesel\",\"Diesel\",\"Diesel\",\"Diesel\",\"Diesel\",\"Diesel\",\"Diesel\",\"Diesel\",\"Diesel\",\"Diesel\",\"Diesel\",\"Diesel\",\"Diesel\",\"Diesel\",\"Diesel\",\"Diesel\",\"Diesel\",\"Diesel\",\"Diesel\",\"Diesel\",\"Diesel\",\"Diesel\",\"Diesel\",\"Diesel\",\"Diesel\",\"Diesel\",\"Diesel\",\"Diesel\",\"Diesel\",\"Diesel\",\"Diesel\",\"Diesel\",\"Diesel\",\"Diesel\",\"Diesel\",\"Diesel\",\"Diesel\",\"Diesel\",\"Diesel\",\"Diesel\",\"Diesel\",\"Diesel\",\"Diesel\",\"Diesel\",\"Diesel\",\"Diesel\"],\"x0\":\" \",\"xaxis\":\"x\",\"y\":[13500,13750,13950,14950,13750,12950,16900,18600,12950,16950,16950,19000,17950,17950,17950,22250,17950,21950,22250,19950,19950,32500,31000,31275,24950,24950,22950,24990,21950,19250,22250,19950,23000,6950,9500,11950,11950,4350,4750,11750,13250,11900,14750,10450,12950,13250,14750,13500,13500,13950,13500,14750,13500,13500,6500,6400,7000,7750,8900,8950,10250,7750,9450,7750,8250,4450,9950,12450,10500,5150,10950,8950,9950,8950,9250,10995,8695,8750,11450,11500,8950,7500,6950,7900,7500,7500,6900,5751,7750,7950,6250,9500,6900,7350,6900,8950,8950,8950,7950,7500,8950,9800,8950,8750,10500,9950,9950,6950,6950,7950,9950,8250,12250,8500,9900,10950,8950,10900,10950,5900,6950,6000,4400,6750,8500,6150,6950,5750,8750,6500,10500,8500,6950,8950,7950,7450,7750,7900,6900,7950,7950,9500,8600,5950,7950,7250,7250,8250,8950,8950,8750,6950,8500,9400,8950],\"y0\":\" \",\"yaxis\":\"y\",\"type\":\"box\"},{\"alignmentgroup\":\"True\",\"hovertemplate\":\"Fuel_Type=%{x}\\u003cbr\\u003ePrice=%{y}\\u003cextra\\u003e\\u003c\\u002fextra\\u003e\",\"legendgroup\":\"Petrol\",\"marker\":{\"color\":\"#EF553B\"},\"name\":\"Petrol\",\"notched\":false,\"offsetgroup\":\"Petrol\",\"orientation\":\"v\",\"showlegend\":true,\"x\":[\"Petrol\",\"Petrol\",\"Petrol\",\"Petrol\",\"Petrol\",\"Petrol\",\"Petrol\",\"Petrol\",\"Petrol\",\"Petrol\",\"Petrol\",\"Petrol\",\"Petrol\",\"Petrol\",\"Petrol\",\"Petrol\",\"Petrol\",\"Petrol\",\"Petrol\",\"Petrol\",\"Petrol\",\"Petrol\",\"Petrol\",\"Petrol\",\"Petrol\",\"Petrol\",\"Petrol\",\"Petrol\",\"Petrol\",\"Petrol\",\"Petrol\",\"Petrol\",\"Petrol\",\"Petrol\",\"Petrol\",\"Petrol\",\"Petrol\",\"Petrol\",\"Petrol\",\"Petrol\",\"Petrol\",\"Petrol\",\"Petrol\",\"Petrol\",\"Petrol\",\"Petrol\",\"Petrol\",\"Petrol\",\"Petrol\",\"Petrol\",\"Petrol\",\"Petrol\",\"Petrol\",\"Petrol\",\"Petrol\",\"Petrol\",\"Petrol\",\"Petrol\",\"Petrol\",\"Petrol\",\"Petrol\",\"Petrol\",\"Petrol\",\"Petrol\",\"Petrol\",\"Petrol\",\"Petrol\",\"Petrol\",\"Petrol\",\"Petrol\",\"Petrol\",\"Petrol\",\"Petrol\",\"Petrol\",\"Petrol\",\"Petrol\",\"Petrol\",\"Petrol\",\"Petrol\",\"Petrol\",\"Petrol\",\"Petrol\",\"Petrol\",\"Petrol\",\"Petrol\",\"Petrol\",\"Petrol\",\"Petrol\",\"Petrol\",\"Petrol\",\"Petrol\",\"Petrol\",\"Petrol\",\"Petrol\",\"Petrol\",\"Petrol\",\"Petrol\",\"Petrol\",\"Petrol\",\"Petrol\",\"Petrol\",\"Petrol\",\"Petrol\",\"Petrol\",\"Petrol\",\"Petrol\",\"Petrol\",\"Petrol\",\"Petrol\",\"Petrol\",\"Petrol\",\"Petrol\",\"Petrol\",\"Petrol\",\"Petrol\",\"Petrol\",\"Petrol\",\"Petrol\",\"Petrol\",\"Petrol\",\"Petrol\",\"Petrol\",\"Petrol\",\"Petrol\",\"Petrol\",\"Petrol\",\"Petrol\",\"Petrol\",\"Petrol\",\"Petrol\",\"Petrol\",\"Petrol\",\"Petrol\",\"Petrol\",\"Petrol\",\"Petrol\",\"Petrol\",\"Petrol\",\"Petrol\",\"Petrol\",\"Petrol\",\"Petrol\",\"Petrol\",\"Petrol\",\"Petrol\",\"Petrol\",\"Petrol\",\"Petrol\",\"Petrol\",\"Petrol\",\"Petrol\",\"Petrol\",\"Petrol\",\"Petrol\",\"Petrol\",\"Petrol\",\"Petrol\",\"Petrol\",\"Petrol\",\"Petrol\",\"Petrol\",\"Petrol\",\"Petrol\",\"Petrol\",\"Petrol\",\"Petrol\",\"Petrol\",\"Petrol\",\"Petrol\",\"Petrol\",\"Petrol\",\"Petrol\",\"Petrol\",\"Petrol\",\"Petrol\",\"Petrol\",\"Petrol\",\"Petrol\",\"Petrol\",\"Petrol\",\"Petrol\",\"Petrol\",\"Petrol\",\"Petrol\",\"Petrol\",\"Petrol\",\"Petrol\",\"Petrol\",\"Petrol\",\"Petrol\",\"Petrol\",\"Petrol\",\"Petrol\",\"Petrol\",\"Petrol\",\"Petrol\",\"Petrol\",\"Petrol\",\"Petrol\",\"Petrol\",\"Petrol\",\"Petrol\",\"Petrol\",\"Petrol\",\"Petrol\",\"Petrol\",\"Petrol\",\"Petrol\",\"Petrol\",\"Petrol\",\"Petrol\",\"Petrol\",\"Petrol\",\"Petrol\",\"Petrol\",\"Petrol\",\"Petrol\",\"Petrol\",\"Petrol\",\"Petrol\",\"Petrol\",\"Petrol\",\"Petrol\",\"Petrol\",\"Petrol\",\"Petrol\",\"Petrol\",\"Petrol\",\"Petrol\",\"Petrol\",\"Petrol\",\"Petrol\",\"Petrol\",\"Petrol\",\"Petrol\",\"Petrol\",\"Petrol\",\"Petrol\",\"Petrol\",\"Petrol\",\"Petrol\",\"Petrol\",\"Petrol\",\"Petrol\",\"Petrol\",\"Petrol\",\"Petrol\",\"Petrol\",\"Petrol\",\"Petrol\",\"Petrol\",\"Petrol\",\"Petrol\",\"Petrol\",\"Petrol\",\"Petrol\",\"Petrol\",\"Petrol\",\"Petrol\",\"Petrol\",\"Petrol\",\"Petrol\",\"Petrol\",\"Petrol\",\"Petrol\",\"Petrol\",\"Petrol\",\"Petrol\",\"Petrol\",\"Petrol\",\"Petrol\",\"Petrol\",\"Petrol\",\"Petrol\",\"Petrol\",\"Petrol\",\"Petrol\",\"Petrol\",\"Petrol\",\"Petrol\",\"Petrol\",\"Petrol\",\"Petrol\",\"Petrol\",\"Petrol\",\"Petrol\",\"Petrol\",\"Petrol\",\"Petrol\",\"Petrol\",\"Petrol\",\"Petrol\",\"Petrol\",\"Petrol\",\"Petrol\",\"Petrol\",\"Petrol\",\"Petrol\",\"Petrol\",\"Petrol\",\"Petrol\",\"Petrol\",\"Petrol\",\"Petrol\",\"Petrol\",\"Petrol\",\"Petrol\",\"Petrol\",\"Petrol\",\"Petrol\",\"Petrol\",\"Petrol\",\"Petrol\",\"Petrol\",\"Petrol\",\"Petrol\",\"Petrol\",\"Petrol\",\"Petrol\",\"Petrol\",\"Petrol\",\"Petrol\",\"Petrol\",\"Petrol\",\"Petrol\",\"Petrol\",\"Petrol\",\"Petrol\",\"Petrol\",\"Petrol\",\"Petrol\",\"Petrol\",\"Petrol\",\"Petrol\",\"Petrol\",\"Petrol\",\"Petrol\",\"Petrol\",\"Petrol\",\"Petrol\",\"Petrol\",\"Petrol\",\"Petrol\",\"Petrol\",\"Petrol\",\"Petrol\",\"Petrol\",\"Petrol\",\"Petrol\",\"Petrol\",\"Petrol\",\"Petrol\",\"Petrol\",\"Petrol\",\"Petrol\",\"Petrol\",\"Petrol\",\"Petrol\",\"Petrol\",\"Petrol\",\"Petrol\",\"Petrol\",\"Petrol\",\"Petrol\",\"Petrol\",\"Petrol\",\"Petrol\",\"Petrol\",\"Petrol\",\"Petrol\",\"Petrol\",\"Petrol\",\"Petrol\",\"Petrol\",\"Petrol\",\"Petrol\",\"Petrol\",\"Petrol\",\"Petrol\",\"Petrol\",\"Petrol\",\"Petrol\",\"Petrol\",\"Petrol\",\"Petrol\",\"Petrol\",\"Petrol\",\"Petrol\",\"Petrol\",\"Petrol\",\"Petrol\",\"Petrol\",\"Petrol\",\"Petrol\",\"Petrol\",\"Petrol\",\"Petrol\",\"Petrol\",\"Petrol\",\"Petrol\",\"Petrol\",\"Petrol\",\"Petrol\",\"Petrol\",\"Petrol\",\"Petrol\",\"Petrol\",\"Petrol\",\"Petrol\",\"Petrol\",\"Petrol\",\"Petrol\",\"Petrol\",\"Petrol\",\"Petrol\",\"Petrol\",\"Petrol\",\"Petrol\",\"Petrol\",\"Petrol\",\"Petrol\",\"Petrol\",\"Petrol\",\"Petrol\",\"Petrol\",\"Petrol\",\"Petrol\",\"Petrol\",\"Petrol\",\"Petrol\",\"Petrol\",\"Petrol\",\"Petrol\",\"Petrol\",\"Petrol\",\"Petrol\",\"Petrol\",\"Petrol\",\"Petrol\",\"Petrol\",\"Petrol\",\"Petrol\",\"Petrol\",\"Petrol\",\"Petrol\",\"Petrol\",\"Petrol\",\"Petrol\",\"Petrol\",\"Petrol\",\"Petrol\",\"Petrol\",\"Petrol\",\"Petrol\",\"Petrol\",\"Petrol\",\"Petrol\",\"Petrol\",\"Petrol\",\"Petrol\",\"Petrol\",\"Petrol\",\"Petrol\",\"Petrol\",\"Petrol\",\"Petrol\",\"Petrol\",\"Petrol\",\"Petrol\",\"Petrol\",\"Petrol\",\"Petrol\",\"Petrol\",\"Petrol\",\"Petrol\",\"Petrol\",\"Petrol\",\"Petrol\",\"Petrol\",\"Petrol\",\"Petrol\",\"Petrol\",\"Petrol\",\"Petrol\",\"Petrol\",\"Petrol\",\"Petrol\",\"Petrol\",\"Petrol\",\"Petrol\",\"Petrol\",\"Petrol\",\"Petrol\",\"Petrol\",\"Petrol\",\"Petrol\",\"Petrol\",\"Petrol\",\"Petrol\",\"Petrol\",\"Petrol\",\"Petrol\",\"Petrol\",\"Petrol\",\"Petrol\",\"Petrol\",\"Petrol\",\"Petrol\",\"Petrol\",\"Petrol\",\"Petrol\",\"Petrol\",\"Petrol\",\"Petrol\",\"Petrol\",\"Petrol\",\"Petrol\",\"Petrol\",\"Petrol\",\"Petrol\",\"Petrol\",\"Petrol\",\"Petrol\",\"Petrol\",\"Petrol\",\"Petrol\",\"Petrol\",\"Petrol\",\"Petrol\",\"Petrol\",\"Petrol\",\"Petrol\",\"Petrol\",\"Petrol\",\"Petrol\",\"Petrol\",\"Petrol\",\"Petrol\",\"Petrol\",\"Petrol\",\"Petrol\",\"Petrol\",\"Petrol\",\"Petrol\",\"Petrol\",\"Petrol\",\"Petrol\",\"Petrol\",\"Petrol\",\"Petrol\",\"Petrol\",\"Petrol\",\"Petrol\",\"Petrol\",\"Petrol\",\"Petrol\",\"Petrol\",\"Petrol\",\"Petrol\",\"Petrol\",\"Petrol\",\"Petrol\",\"Petrol\",\"Petrol\",\"Petrol\",\"Petrol\",\"Petrol\",\"Petrol\",\"Petrol\",\"Petrol\",\"Petrol\",\"Petrol\",\"Petrol\",\"Petrol\",\"Petrol\",\"Petrol\",\"Petrol\",\"Petrol\",\"Petrol\",\"Petrol\",\"Petrol\",\"Petrol\",\"Petrol\",\"Petrol\",\"Petrol\",\"Petrol\",\"Petrol\",\"Petrol\",\"Petrol\",\"Petrol\",\"Petrol\",\"Petrol\",\"Petrol\",\"Petrol\",\"Petrol\",\"Petrol\",\"Petrol\",\"Petrol\",\"Petrol\",\"Petrol\",\"Petrol\",\"Petrol\",\"Petrol\",\"Petrol\",\"Petrol\",\"Petrol\",\"Petrol\",\"Petrol\",\"Petrol\",\"Petrol\",\"Petrol\",\"Petrol\",\"Petrol\",\"Petrol\",\"Petrol\",\"Petrol\",\"Petrol\",\"Petrol\",\"Petrol\",\"Petrol\",\"Petrol\",\"Petrol\",\"Petrol\",\"Petrol\",\"Petrol\",\"Petrol\",\"Petrol\",\"Petrol\",\"Petrol\",\"Petrol\",\"Petrol\",\"Petrol\",\"Petrol\",\"Petrol\",\"Petrol\",\"Petrol\",\"Petrol\",\"Petrol\",\"Petrol\",\"Petrol\",\"Petrol\",\"Petrol\",\"Petrol\",\"Petrol\",\"Petrol\",\"Petrol\",\"Petrol\",\"Petrol\",\"Petrol\",\"Petrol\",\"Petrol\",\"Petrol\",\"Petrol\",\"Petrol\",\"Petrol\",\"Petrol\",\"Petrol\",\"Petrol\",\"Petrol\",\"Petrol\",\"Petrol\",\"Petrol\",\"Petrol\",\"Petrol\",\"Petrol\",\"Petrol\",\"Petrol\",\"Petrol\",\"Petrol\",\"Petrol\",\"Petrol\",\"Petrol\",\"Petrol\",\"Petrol\",\"Petrol\",\"Petrol\",\"Petrol\",\"Petrol\",\"Petrol\",\"Petrol\",\"Petrol\",\"Petrol\",\"Petrol\",\"Petrol\",\"Petrol\",\"Petrol\",\"Petrol\",\"Petrol\",\"Petrol\",\"Petrol\",\"Petrol\",\"Petrol\",\"Petrol\",\"Petrol\",\"Petrol\",\"Petrol\",\"Petrol\",\"Petrol\",\"Petrol\",\"Petrol\",\"Petrol\",\"Petrol\",\"Petrol\",\"Petrol\",\"Petrol\",\"Petrol\",\"Petrol\",\"Petrol\",\"Petrol\",\"Petrol\",\"Petrol\",\"Petrol\",\"Petrol\",\"Petrol\",\"Petrol\",\"Petrol\",\"Petrol\",\"Petrol\",\"Petrol\",\"Petrol\",\"Petrol\",\"Petrol\",\"Petrol\",\"Petrol\",\"Petrol\",\"Petrol\",\"Petrol\",\"Petrol\",\"Petrol\",\"Petrol\",\"Petrol\",\"Petrol\",\"Petrol\",\"Petrol\",\"Petrol\",\"Petrol\",\"Petrol\",\"Petrol\",\"Petrol\",\"Petrol\",\"Petrol\",\"Petrol\",\"Petrol\",\"Petrol\",\"Petrol\",\"Petrol\",\"Petrol\",\"Petrol\",\"Petrol\",\"Petrol\",\"Petrol\",\"Petrol\",\"Petrol\",\"Petrol\",\"Petrol\",\"Petrol\",\"Petrol\",\"Petrol\",\"Petrol\",\"Petrol\",\"Petrol\",\"Petrol\",\"Petrol\",\"Petrol\",\"Petrol\",\"Petrol\",\"Petrol\",\"Petrol\",\"Petrol\",\"Petrol\",\"Petrol\",\"Petrol\",\"Petrol\",\"Petrol\",\"Petrol\",\"Petrol\",\"Petrol\",\"Petrol\",\"Petrol\",\"Petrol\",\"Petrol\",\"Petrol\",\"Petrol\",\"Petrol\",\"Petrol\",\"Petrol\",\"Petrol\",\"Petrol\",\"Petrol\",\"Petrol\",\"Petrol\",\"Petrol\",\"Petrol\",\"Petrol\",\"Petrol\",\"Petrol\",\"Petrol\",\"Petrol\",\"Petrol\",\"Petrol\",\"Petrol\",\"Petrol\",\"Petrol\",\"Petrol\",\"Petrol\",\"Petrol\",\"Petrol\",\"Petrol\",\"Petrol\",\"Petrol\",\"Petrol\",\"Petrol\",\"Petrol\",\"Petrol\",\"Petrol\",\"Petrol\",\"Petrol\",\"Petrol\",\"Petrol\",\"Petrol\",\"Petrol\",\"Petrol\",\"Petrol\",\"Petrol\",\"Petrol\",\"Petrol\",\"Petrol\",\"Petrol\",\"Petrol\",\"Petrol\",\"Petrol\",\"Petrol\",\"Petrol\",\"Petrol\",\"Petrol\",\"Petrol\",\"Petrol\",\"Petrol\",\"Petrol\",\"Petrol\",\"Petrol\",\"Petrol\",\"Petrol\",\"Petrol\",\"Petrol\",\"Petrol\",\"Petrol\",\"Petrol\",\"Petrol\",\"Petrol\",\"Petrol\",\"Petrol\",\"Petrol\",\"Petrol\",\"Petrol\",\"Petrol\",\"Petrol\",\"Petrol\",\"Petrol\",\"Petrol\",\"Petrol\",\"Petrol\",\"Petrol\",\"Petrol\",\"Petrol\",\"Petrol\",\"Petrol\",\"Petrol\",\"Petrol\",\"Petrol\",\"Petrol\",\"Petrol\",\"Petrol\",\"Petrol\",\"Petrol\",\"Petrol\",\"Petrol\",\"Petrol\",\"Petrol\",\"Petrol\",\"Petrol\",\"Petrol\",\"Petrol\",\"Petrol\",\"Petrol\",\"Petrol\",\"Petrol\",\"Petrol\",\"Petrol\",\"Petrol\",\"Petrol\",\"Petrol\",\"Petrol\",\"Petrol\",\"Petrol\",\"Petrol\",\"Petrol\",\"Petrol\",\"Petrol\",\"Petrol\",\"Petrol\",\"Petrol\",\"Petrol\",\"Petrol\",\"Petrol\",\"Petrol\",\"Petrol\",\"Petrol\",\"Petrol\",\"Petrol\",\"Petrol\",\"Petrol\",\"Petrol\",\"Petrol\",\"Petrol\",\"Petrol\",\"Petrol\",\"Petrol\",\"Petrol\",\"Petrol\",\"Petrol\",\"Petrol\",\"Petrol\",\"Petrol\",\"Petrol\",\"Petrol\",\"Petrol\",\"Petrol\",\"Petrol\",\"Petrol\",\"Petrol\",\"Petrol\",\"Petrol\",\"Petrol\",\"Petrol\",\"Petrol\",\"Petrol\",\"Petrol\",\"Petrol\",\"Petrol\",\"Petrol\",\"Petrol\",\"Petrol\",\"Petrol\",\"Petrol\",\"Petrol\",\"Petrol\",\"Petrol\",\"Petrol\",\"Petrol\",\"Petrol\",\"Petrol\",\"Petrol\",\"Petrol\",\"Petrol\",\"Petrol\",\"Petrol\",\"Petrol\",\"Petrol\",\"Petrol\",\"Petrol\",\"Petrol\",\"Petrol\",\"Petrol\",\"Petrol\",\"Petrol\",\"Petrol\",\"Petrol\",\"Petrol\",\"Petrol\",\"Petrol\",\"Petrol\",\"Petrol\",\"Petrol\",\"Petrol\",\"Petrol\",\"Petrol\",\"Petrol\",\"Petrol\",\"Petrol\",\"Petrol\",\"Petrol\",\"Petrol\",\"Petrol\",\"Petrol\",\"Petrol\",\"Petrol\",\"Petrol\",\"Petrol\",\"Petrol\",\"Petrol\",\"Petrol\",\"Petrol\",\"Petrol\",\"Petrol\",\"Petrol\",\"Petrol\",\"Petrol\",\"Petrol\",\"Petrol\",\"Petrol\",\"Petrol\",\"Petrol\",\"Petrol\",\"Petrol\",\"Petrol\",\"Petrol\",\"Petrol\",\"Petrol\",\"Petrol\",\"Petrol\",\"Petrol\",\"Petrol\",\"Petrol\",\"Petrol\",\"Petrol\",\"Petrol\",\"Petrol\",\"Petrol\",\"Petrol\",\"Petrol\",\"Petrol\",\"Petrol\",\"Petrol\",\"Petrol\",\"Petrol\",\"Petrol\",\"Petrol\",\"Petrol\",\"Petrol\",\"Petrol\",\"Petrol\",\"Petrol\",\"Petrol\",\"Petrol\",\"Petrol\",\"Petrol\",\"Petrol\",\"Petrol\",\"Petrol\",\"Petrol\",\"Petrol\",\"Petrol\",\"Petrol\",\"Petrol\",\"Petrol\",\"Petrol\",\"Petrol\",\"Petrol\",\"Petrol\",\"Petrol\",\"Petrol\",\"Petrol\",\"Petrol\",\"Petrol\",\"Petrol\",\"Petrol\",\"Petrol\",\"Petrol\",\"Petrol\",\"Petrol\",\"Petrol\",\"Petrol\",\"Petrol\",\"Petrol\",\"Petrol\",\"Petrol\",\"Petrol\",\"Petrol\",\"Petrol\",\"Petrol\",\"Petrol\",\"Petrol\",\"Petrol\",\"Petrol\",\"Petrol\",\"Petrol\",\"Petrol\",\"Petrol\",\"Petrol\",\"Petrol\",\"Petrol\",\"Petrol\",\"Petrol\",\"Petrol\",\"Petrol\",\"Petrol\",\"Petrol\",\"Petrol\",\"Petrol\",\"Petrol\",\"Petrol\",\"Petrol\",\"Petrol\",\"Petrol\",\"Petrol\",\"Petrol\",\"Petrol\",\"Petrol\",\"Petrol\",\"Petrol\",\"Petrol\",\"Petrol\",\"Petrol\",\"Petrol\",\"Petrol\",\"Petrol\",\"Petrol\",\"Petrol\",\"Petrol\",\"Petrol\",\"Petrol\",\"Petrol\",\"Petrol\",\"Petrol\",\"Petrol\",\"Petrol\",\"Petrol\",\"Petrol\",\"Petrol\",\"Petrol\",\"Petrol\",\"Petrol\",\"Petrol\",\"Petrol\",\"Petrol\",\"Petrol\",\"Petrol\",\"Petrol\",\"Petrol\",\"Petrol\",\"Petrol\",\"Petrol\",\"Petrol\",\"Petrol\",\"Petrol\",\"Petrol\",\"Petrol\",\"Petrol\",\"Petrol\",\"Petrol\",\"Petrol\",\"Petrol\",\"Petrol\",\"Petrol\",\"Petrol\",\"Petrol\",\"Petrol\",\"Petrol\",\"Petrol\",\"Petrol\",\"Petrol\",\"Petrol\",\"Petrol\",\"Petrol\",\"Petrol\",\"Petrol\",\"Petrol\",\"Petrol\",\"Petrol\",\"Petrol\",\"Petrol\",\"Petrol\",\"Petrol\",\"Petrol\",\"Petrol\",\"Petrol\",\"Petrol\",\"Petrol\",\"Petrol\",\"Petrol\",\"Petrol\",\"Petrol\",\"Petrol\",\"Petrol\",\"Petrol\",\"Petrol\",\"Petrol\",\"Petrol\",\"Petrol\",\"Petrol\",\"Petrol\",\"Petrol\",\"Petrol\",\"Petrol\",\"Petrol\",\"Petrol\",\"Petrol\",\"Petrol\",\"Petrol\",\"Petrol\",\"Petrol\",\"Petrol\",\"Petrol\",\"Petrol\",\"Petrol\",\"Petrol\",\"Petrol\",\"Petrol\",\"Petrol\",\"Petrol\",\"Petrol\",\"Petrol\",\"Petrol\",\"Petrol\",\"Petrol\",\"Petrol\",\"Petrol\",\"Petrol\",\"Petrol\",\"Petrol\",\"Petrol\",\"Petrol\",\"Petrol\",\"Petrol\",\"Petrol\",\"Petrol\",\"Petrol\",\"Petrol\",\"Petrol\",\"Petrol\",\"Petrol\",\"Petrol\",\"Petrol\",\"Petrol\",\"Petrol\",\"Petrol\",\"Petrol\",\"Petrol\",\"Petrol\",\"Petrol\",\"Petrol\",\"Petrol\",\"Petrol\",\"Petrol\",\"Petrol\",\"Petrol\",\"Petrol\",\"Petrol\",\"Petrol\",\"Petrol\",\"Petrol\",\"Petrol\",\"Petrol\",\"Petrol\",\"Petrol\",\"Petrol\",\"Petrol\",\"Petrol\",\"Petrol\",\"Petrol\",\"Petrol\",\"Petrol\",\"Petrol\",\"Petrol\",\"Petrol\",\"Petrol\",\"Petrol\",\"Petrol\",\"Petrol\",\"Petrol\",\"Petrol\",\"Petrol\",\"Petrol\"],\"x0\":\" \",\"xaxis\":\"x\",\"y\":[21500,20950,19950,19600,21500,22500,22000,22750,17950,16750,16950,15950,16950,15950,16950,16250,15950,17495,15750,16950,17950,12950,15750,15950,14950,15500,15750,15950,14950,15750,14750,13950,16750,13950,15800,21950,15750,20500,21950,15500,13250,15250,15250,18950,15999,14950,16500,18750,17950,17950,16950,18950,14950,15950,15950,12995,18950,15750,19950,16950,18750,18450,16895,14900,18950,17250,15450,17950,16650,17450,14900,15950,16450,15950,18900,15950,15950,18750,17450,18990,16250,18500,18500,19450,16950,18800,17450,17950,17900,18950,16350,18950,16950,21750,15950,16500,17950,15850,16250,15950,16250,15950,16500,16500,18450,16250,19900,16450,23950,19950,18500,18950,16450,20500,24500,19450,20950,17200,19950,18450,19500,21750,16868,19500,18900,19750,19750,18950,20750,19600,19500,17650,19950,19950,20950,20500,17795,18245,23750,19500,18950,21950,19950,18950,19950,21950,22500,18500,18700,21125,21500,17795,18245,11950,9950,11495,11250,10500,11500,12500,10950,11450,11790,11450,10950,10950,10950,12950,11950,12450,11950,12450,12950,11950,11690,12450,12750,11925,12950,11950,12900,11900,11650,10950,13950,11950,10950,12450,11950,11690,13500,11950,12900,13500,11750,11750,10850,11750,14950,9940,12900,13500,11750,11950,13450,11950,12495,13500,12750,12000,11950,12495,12450,10950,12950,13450,13500,11480,13450,11495,12750,14990,12950,12950,12850,13950,11950,12950,11700,9950,11895,12950,12500,13875,10500,12295,13950,10950,12850,13995,13750,12750,12500,13950,11500,13950,11895,9950,13500,11450,12450,12950,13995,11750,11650,9950,13950,12950,10950,9900,11950,11990,10750,13950,11250,12950,11950,10950,12950,12950,11695,11000,13950,11950,11750,12400,12500,12900,12200,12750,11950,11900,11950,14950,11950,12950,14950,13450,13750,12950,12750,11895,9950,12450,12500,14950,13750,12695,14990,12750,14350,12950,11500,11950,13450,12900,10500,10950,11950,11450,13250,10250,13995,11950,13250,12950,11750,11500,13500,9900,9950,9950,9000,10500,10750,8950,10950,9450,9950,11900,9950,11950,7900,10950,11950,10900,9950,10950,8950,10500,8950,11500,9750,9950,11450,12500,10500,12950,12200,10950,10950,11290,10750,10895,9750,10250,12500,11950,10750,11450,11950,11750,10950,11950,11450,8900,10500,11750,11450,12000,11950,9850,10950,10950,10990,9500,11950,10750,8750,9950,11950,13950,11250,10900,9750,9950,11950,10450,8950,10250,9930,10500,11950,11500,11450,9900,9500,10500,10750,12000,9940,10950,10750,9799,11750,11950,11250,11750,10950,11250,9950,9700,11950,9900,9990,9475,11500,11950,11500,10500,10900,11700,11900,13950,10950,10500,10750,11950,10000,10495,11450,9400,11950,9650,18950,11450,10250,11450,9950,10500,13750,9950,10250,10850,11895,12950,11950,10750,9550,10950,11750,10950,12450,10500,10900,12950,10950,12500,9950,10750,12500,10450,10750,12950,10995,11950,11250,11950,13750,11000,13500,10950,10750,8950,12950,9750,10900,10995,10750,10950,13000,12950,11500,10950,11710,9980,12250,11500,11950,11500,11900,11930,10500,8950,10450,10500,12950,9950,12900,9950,9950,10950,10950,9950,10950,10800,10500,10450,10600,10450,12950,11250,8950,5950,6950,7950,8250,8950,8750,7750,9450,7995,10450,9950,8950,7950,10950,8600,7250,8000,9950,7950,9950,8250,9950,8250,9950,10500,9750,9250,9500,9950,7750,9500,9950,9750,9750,5950,8500,8495,9250,6900,8950,9500,9250,9895,7950,8750,8950,8950,8950,8950,9450,8950,9250,8750,9950,9950,9900,8950,8950,9250,10250,8950,7999,9900,8250,10500,8450,9900,10500,9500,9450,8250,8750,9500,8450,8490,8750,9750,9950,8500,8450,7900,8750,7950,6900,8150,10995,8900,9500,8950,11500,10450,10500,9250,10950,10450,9250,8750,8750,9800,8250,10450,9750,8950,7450,8450,8250,10950,8950,8750,10450,10950,8450,9950,9950,8750,9950,9500,8250,10950,7950,8250,9895,9130,10950,10500,8900,9500,7950,7950,7950,9500,10950,9750,9750,9450,8950,8950,8900,9950,8750,8950,8990,8950,9950,9900,8950,8950,9500,7950,7750,8950,11950,8950,11950,8950,9950,8250,8995,9995,9250,10950,8900,9500,9950,7950,8250,9450,7950,9500,8950,10950,8950,9450,8000,9900,8950,9450,8450,9500,10500,6950,9750,6950,9650,9950,9250,8950,9900,10995,10500,8950,9750,10950,9750,9950,10500,10400,8800,10500,9250,7800,9950,10750,10950,9950,9950,8100,9250,7800,9000,8950,8950,9950,8500,7995,8750,9750,10950,9750,8200,8950,9500,9750,9950,10450,9850,9450,10295,9750,8950,9900,8750,9950,8500,9950,10950,9795,8750,8250,9950,9950,10500,9750,11250,8900,7950,11500,9450,7995,10995,8950,8250,8950,8950,9500,7500,8950,9950,9750,9450,9950,9750,8950,8250,7750,8950,9950,9450,12950,9950,10495,7950,10500,8950,9900,9995,9950,9950,8250,9950,8950,10950,9250,9950,9995,8750,10950,10350,9950,8950,10950,10950,8950,8900,10250,9450,9250,10500,7350,10250,10250,11500,8950,7750,9500,8450,8950,8400,9250,8900,8750,10950,8950,8950,8895,9390,8750,9750,9950,10950,9900,9500,9950,9950,10500,9950,10495,9500,8500,10450,8950,9900,8900,8745,8750,10750,9750,8850,7950,9450,9950,8250,9950,9995,9950,10495,8950,9695,7750,9950,9950,9950,9900,10950,8950,8950,8250,10250,8750,9750,10950,10950,9750,8900,9500,9950,9950,8250,10450,10950,9250,8900,10900,9750,11950,7900,10900,10450,10950,9950,10750,9900,10750,10450,9450,10750,10950,10000,10500,12500,8950,10500,9245,10950,9500,10900,10950,9450,5950,6500,7950,5800,6750,5740,6550,6750,7950,5600,5950,6950,8950,7750,6950,7250,6500,7250,9250,8250,5250,7900,6900,7900,8450,7950,7950,6450,6650,7950,7250,7450,7950,7250,7750,8500,7750,5750,6900,6500,6500,7600,7450,7350,7750,9250,7250,6500,6800,8700,7500,7750,7950,9950,6640,8750,7750,5950,6750,6500,8750,7950,6750,7950,7950,8950,7750,6450,6900,8450,6750,8050,9500,7750,8500,7795,6490,7950,6425,8950,6950,8750,8450,7950,7950,8900,8950,8900,7950,6495,7250,9250,6650,6990,7750,6950,7250,9950,9250,7200,8250,8950,8250,6250,9900,7300,8950,6500,7950,7450,7950,8500,6950,7950,6750,8450,7500,8750,8950,7450,9200,8950,7850,7200,7450,6750,7500,7450,7950,7250,7950,8250,8250,6750,8750,8950,8250,9450,7950,7900,8500,8250,8250,8950,7950,6950,7250,7750,8700,8950,6750,7500,7950,8950,7950,7450,5950,7750,6950,8750,8950,7495,7750,6950,7990,7250,6900,7750,7250,8950,8500,7950,6950,8000,7950,8500,7490,8250,9250,7950,9500,8950,8450,7995,8750,5950,8500,8950,8750,7600,7145,8450,5950,9000,7250,7400,8800,7750,7500,8450,7400,7500,8950,8950,7950,7950,7950,8950,7750,8250,7950,7750,8500,6950,7500,7750,5950,7500,8950,7950,6900,7450,8500,7500,8750,7500,9950,7950,9950,9250,9250,9950,5950,7995,8950,7450,8250,8500,8500,7250,8950,9450,8500,6750,7400,8950,6900,7750,6950,8495,10000,6999,8950,8500,8750,7499,9000,8950,6950,8500,8450,8950,8250,7950,7450,9000,7150,7750,5845,8500,8250,9450,6750,8400,7900,7950,8750,9900,6495,8250,6900,7500,7950,8250,8950,9750,8250,8900,8950,6750,7950,8600,7750,7800,8750,9500,7750,9950,7750,5950,10950,9450,8250,9750,7450,8750,8750,8500,8950,7500,7250,7450,8750,9800,7500,8950,8950,7450,8950,10500,7000,8500,7750,8950,8250,9250,7900,8500,7950,9950,8750,7500,6950,8950,8750,7750,8450,8150,8500,7600,7950,7750,7950,9950,8950,8450,8950,8450,7500,10845,8500,7250,6950],\"y0\":\" \",\"yaxis\":\"y\",\"type\":\"box\"},{\"alignmentgroup\":\"True\",\"hovertemplate\":\"Fuel_Type=%{x}\\u003cbr\\u003ePrice=%{y}\\u003cextra\\u003e\\u003c\\u002fextra\\u003e\",\"legendgroup\":\"CNG\",\"marker\":{\"color\":\"#00cc96\"},\"name\":\"CNG\",\"notched\":false,\"offsetgroup\":\"CNG\",\"orientation\":\"v\",\"showlegend\":true,\"x\":[\"CNG\",\"CNG\",\"CNG\",\"CNG\",\"CNG\",\"CNG\",\"CNG\",\"CNG\",\"CNG\",\"CNG\",\"CNG\",\"CNG\",\"CNG\",\"CNG\",\"CNG\",\"CNG\",\"CNG\"],\"x0\":\" \",\"xaxis\":\"x\",\"y\":[7750,11950,11950,14950,12950,8500,9250,11500,8450,8950,7950,9450,9450,7950,5250,6450,7460],\"y0\":\" \",\"yaxis\":\"y\",\"type\":\"box\"}],                        {\"template\":{\"data\":{\"histogram2dcontour\":[{\"type\":\"histogram2dcontour\",\"colorbar\":{\"outlinewidth\":0,\"ticks\":\"\"},\"colorscale\":[[0.0,\"#0d0887\"],[0.1111111111111111,\"#46039f\"],[0.2222222222222222,\"#7201a8\"],[0.3333333333333333,\"#9c179e\"],[0.4444444444444444,\"#bd3786\"],[0.5555555555555556,\"#d8576b\"],[0.6666666666666666,\"#ed7953\"],[0.7777777777777778,\"#fb9f3a\"],[0.8888888888888888,\"#fdca26\"],[1.0,\"#f0f921\"]]}],\"choropleth\":[{\"type\":\"choropleth\",\"colorbar\":{\"outlinewidth\":0,\"ticks\":\"\"}}],\"histogram2d\":[{\"type\":\"histogram2d\",\"colorbar\":{\"outlinewidth\":0,\"ticks\":\"\"},\"colorscale\":[[0.0,\"#0d0887\"],[0.1111111111111111,\"#46039f\"],[0.2222222222222222,\"#7201a8\"],[0.3333333333333333,\"#9c179e\"],[0.4444444444444444,\"#bd3786\"],[0.5555555555555556,\"#d8576b\"],[0.6666666666666666,\"#ed7953\"],[0.7777777777777778,\"#fb9f3a\"],[0.8888888888888888,\"#fdca26\"],[1.0,\"#f0f921\"]]}],\"heatmap\":[{\"type\":\"heatmap\",\"colorbar\":{\"outlinewidth\":0,\"ticks\":\"\"},\"colorscale\":[[0.0,\"#0d0887\"],[0.1111111111111111,\"#46039f\"],[0.2222222222222222,\"#7201a8\"],[0.3333333333333333,\"#9c179e\"],[0.4444444444444444,\"#bd3786\"],[0.5555555555555556,\"#d8576b\"],[0.6666666666666666,\"#ed7953\"],[0.7777777777777778,\"#fb9f3a\"],[0.8888888888888888,\"#fdca26\"],[1.0,\"#f0f921\"]]}],\"heatmapgl\":[{\"type\":\"heatmapgl\",\"colorbar\":{\"outlinewidth\":0,\"ticks\":\"\"},\"colorscale\":[[0.0,\"#0d0887\"],[0.1111111111111111,\"#46039f\"],[0.2222222222222222,\"#7201a8\"],[0.3333333333333333,\"#9c179e\"],[0.4444444444444444,\"#bd3786\"],[0.5555555555555556,\"#d8576b\"],[0.6666666666666666,\"#ed7953\"],[0.7777777777777778,\"#fb9f3a\"],[0.8888888888888888,\"#fdca26\"],[1.0,\"#f0f921\"]]}],\"contourcarpet\":[{\"type\":\"contourcarpet\",\"colorbar\":{\"outlinewidth\":0,\"ticks\":\"\"}}],\"contour\":[{\"type\":\"contour\",\"colorbar\":{\"outlinewidth\":0,\"ticks\":\"\"},\"colorscale\":[[0.0,\"#0d0887\"],[0.1111111111111111,\"#46039f\"],[0.2222222222222222,\"#7201a8\"],[0.3333333333333333,\"#9c179e\"],[0.4444444444444444,\"#bd3786\"],[0.5555555555555556,\"#d8576b\"],[0.6666666666666666,\"#ed7953\"],[0.7777777777777778,\"#fb9f3a\"],[0.8888888888888888,\"#fdca26\"],[1.0,\"#f0f921\"]]}],\"surface\":[{\"type\":\"surface\",\"colorbar\":{\"outlinewidth\":0,\"ticks\":\"\"},\"colorscale\":[[0.0,\"#0d0887\"],[0.1111111111111111,\"#46039f\"],[0.2222222222222222,\"#7201a8\"],[0.3333333333333333,\"#9c179e\"],[0.4444444444444444,\"#bd3786\"],[0.5555555555555556,\"#d8576b\"],[0.6666666666666666,\"#ed7953\"],[0.7777777777777778,\"#fb9f3a\"],[0.8888888888888888,\"#fdca26\"],[1.0,\"#f0f921\"]]}],\"mesh3d\":[{\"type\":\"mesh3d\",\"colorbar\":{\"outlinewidth\":0,\"ticks\":\"\"}}],\"scatter\":[{\"fillpattern\":{\"fillmode\":\"overlay\",\"size\":10,\"solidity\":0.2},\"type\":\"scatter\"}],\"parcoords\":[{\"type\":\"parcoords\",\"line\":{\"colorbar\":{\"outlinewidth\":0,\"ticks\":\"\"}}}],\"scatterpolargl\":[{\"type\":\"scatterpolargl\",\"marker\":{\"colorbar\":{\"outlinewidth\":0,\"ticks\":\"\"}}}],\"bar\":[{\"error_x\":{\"color\":\"#2a3f5f\"},\"error_y\":{\"color\":\"#2a3f5f\"},\"marker\":{\"line\":{\"color\":\"#E5ECF6\",\"width\":0.5},\"pattern\":{\"fillmode\":\"overlay\",\"size\":10,\"solidity\":0.2}},\"type\":\"bar\"}],\"scattergeo\":[{\"type\":\"scattergeo\",\"marker\":{\"colorbar\":{\"outlinewidth\":0,\"ticks\":\"\"}}}],\"scatterpolar\":[{\"type\":\"scatterpolar\",\"marker\":{\"colorbar\":{\"outlinewidth\":0,\"ticks\":\"\"}}}],\"histogram\":[{\"marker\":{\"pattern\":{\"fillmode\":\"overlay\",\"size\":10,\"solidity\":0.2}},\"type\":\"histogram\"}],\"scattergl\":[{\"type\":\"scattergl\",\"marker\":{\"colorbar\":{\"outlinewidth\":0,\"ticks\":\"\"}}}],\"scatter3d\":[{\"type\":\"scatter3d\",\"line\":{\"colorbar\":{\"outlinewidth\":0,\"ticks\":\"\"}},\"marker\":{\"colorbar\":{\"outlinewidth\":0,\"ticks\":\"\"}}}],\"scattermapbox\":[{\"type\":\"scattermapbox\",\"marker\":{\"colorbar\":{\"outlinewidth\":0,\"ticks\":\"\"}}}],\"scatterternary\":[{\"type\":\"scatterternary\",\"marker\":{\"colorbar\":{\"outlinewidth\":0,\"ticks\":\"\"}}}],\"scattercarpet\":[{\"type\":\"scattercarpet\",\"marker\":{\"colorbar\":{\"outlinewidth\":0,\"ticks\":\"\"}}}],\"carpet\":[{\"aaxis\":{\"endlinecolor\":\"#2a3f5f\",\"gridcolor\":\"white\",\"linecolor\":\"white\",\"minorgridcolor\":\"white\",\"startlinecolor\":\"#2a3f5f\"},\"baxis\":{\"endlinecolor\":\"#2a3f5f\",\"gridcolor\":\"white\",\"linecolor\":\"white\",\"minorgridcolor\":\"white\",\"startlinecolor\":\"#2a3f5f\"},\"type\":\"carpet\"}],\"table\":[{\"cells\":{\"fill\":{\"color\":\"#EBF0F8\"},\"line\":{\"color\":\"white\"}},\"header\":{\"fill\":{\"color\":\"#C8D4E3\"},\"line\":{\"color\":\"white\"}},\"type\":\"table\"}],\"barpolar\":[{\"marker\":{\"line\":{\"color\":\"#E5ECF6\",\"width\":0.5},\"pattern\":{\"fillmode\":\"overlay\",\"size\":10,\"solidity\":0.2}},\"type\":\"barpolar\"}],\"pie\":[{\"automargin\":true,\"type\":\"pie\"}]},\"layout\":{\"autotypenumbers\":\"strict\",\"colorway\":[\"#636efa\",\"#EF553B\",\"#00cc96\",\"#ab63fa\",\"#FFA15A\",\"#19d3f3\",\"#FF6692\",\"#B6E880\",\"#FF97FF\",\"#FECB52\"],\"font\":{\"color\":\"#2a3f5f\"},\"hovermode\":\"closest\",\"hoverlabel\":{\"align\":\"left\"},\"paper_bgcolor\":\"white\",\"plot_bgcolor\":\"#E5ECF6\",\"polar\":{\"bgcolor\":\"#E5ECF6\",\"angularaxis\":{\"gridcolor\":\"white\",\"linecolor\":\"white\",\"ticks\":\"\"},\"radialaxis\":{\"gridcolor\":\"white\",\"linecolor\":\"white\",\"ticks\":\"\"}},\"ternary\":{\"bgcolor\":\"#E5ECF6\",\"aaxis\":{\"gridcolor\":\"white\",\"linecolor\":\"white\",\"ticks\":\"\"},\"baxis\":{\"gridcolor\":\"white\",\"linecolor\":\"white\",\"ticks\":\"\"},\"caxis\":{\"gridcolor\":\"white\",\"linecolor\":\"white\",\"ticks\":\"\"}},\"coloraxis\":{\"colorbar\":{\"outlinewidth\":0,\"ticks\":\"\"}},\"colorscale\":{\"sequential\":[[0.0,\"#0d0887\"],[0.1111111111111111,\"#46039f\"],[0.2222222222222222,\"#7201a8\"],[0.3333333333333333,\"#9c179e\"],[0.4444444444444444,\"#bd3786\"],[0.5555555555555556,\"#d8576b\"],[0.6666666666666666,\"#ed7953\"],[0.7777777777777778,\"#fb9f3a\"],[0.8888888888888888,\"#fdca26\"],[1.0,\"#f0f921\"]],\"sequentialminus\":[[0.0,\"#0d0887\"],[0.1111111111111111,\"#46039f\"],[0.2222222222222222,\"#7201a8\"],[0.3333333333333333,\"#9c179e\"],[0.4444444444444444,\"#bd3786\"],[0.5555555555555556,\"#d8576b\"],[0.6666666666666666,\"#ed7953\"],[0.7777777777777778,\"#fb9f3a\"],[0.8888888888888888,\"#fdca26\"],[1.0,\"#f0f921\"]],\"diverging\":[[0,\"#8e0152\"],[0.1,\"#c51b7d\"],[0.2,\"#de77ae\"],[0.3,\"#f1b6da\"],[0.4,\"#fde0ef\"],[0.5,\"#f7f7f7\"],[0.6,\"#e6f5d0\"],[0.7,\"#b8e186\"],[0.8,\"#7fbc41\"],[0.9,\"#4d9221\"],[1,\"#276419\"]]},\"xaxis\":{\"gridcolor\":\"white\",\"linecolor\":\"white\",\"ticks\":\"\",\"title\":{\"standoff\":15},\"zerolinecolor\":\"white\",\"automargin\":true,\"zerolinewidth\":2},\"yaxis\":{\"gridcolor\":\"white\",\"linecolor\":\"white\",\"ticks\":\"\",\"title\":{\"standoff\":15},\"zerolinecolor\":\"white\",\"automargin\":true,\"zerolinewidth\":2},\"scene\":{\"xaxis\":{\"backgroundcolor\":\"#E5ECF6\",\"gridcolor\":\"white\",\"linecolor\":\"white\",\"showbackground\":true,\"ticks\":\"\",\"zerolinecolor\":\"white\",\"gridwidth\":2},\"yaxis\":{\"backgroundcolor\":\"#E5ECF6\",\"gridcolor\":\"white\",\"linecolor\":\"white\",\"showbackground\":true,\"ticks\":\"\",\"zerolinecolor\":\"white\",\"gridwidth\":2},\"zaxis\":{\"backgroundcolor\":\"#E5ECF6\",\"gridcolor\":\"white\",\"linecolor\":\"white\",\"showbackground\":true,\"ticks\":\"\",\"zerolinecolor\":\"white\",\"gridwidth\":2}},\"shapedefaults\":{\"line\":{\"color\":\"#2a3f5f\"}},\"annotationdefaults\":{\"arrowcolor\":\"#2a3f5f\",\"arrowhead\":0,\"arrowwidth\":1},\"geo\":{\"bgcolor\":\"white\",\"landcolor\":\"#E5ECF6\",\"subunitcolor\":\"white\",\"showland\":true,\"showlakes\":true,\"lakecolor\":\"white\"},\"title\":{\"x\":0.05},\"mapbox\":{\"style\":\"light\"}}},\"xaxis\":{\"anchor\":\"y\",\"domain\":[0.0,1.0],\"title\":{\"text\":\"Fuel_Type\"},\"categoryorder\":\"array\",\"categoryarray\":[\"Diesel\",\"Petrol\",\"CNG\"]},\"yaxis\":{\"anchor\":\"x\",\"domain\":[0.0,1.0],\"title\":{\"text\":\"Price\"}},\"legend\":{\"title\":{\"text\":\"Fuel_Type\"},\"tracegroupgap\":0},\"title\":{\"text\":\"Price Distribution Across Different Fuel Types\"},\"boxmode\":\"overlay\"},                        {\"responsive\": true}                    ).then(function(){\n",
       "                            \n",
       "var gd = document.getElementById('fe8dfbca-57ce-4c44-ad14-7a5b7ffc5661');\n",
       "var x = new MutationObserver(function (mutations, observer) {{\n",
       "        var display = window.getComputedStyle(gd).display;\n",
       "        if (!display || display === 'none') {{\n",
       "            console.log([gd, 'removed!']);\n",
       "            Plotly.purge(gd);\n",
       "            observer.disconnect();\n",
       "        }}\n",
       "}});\n",
       "\n",
       "// Listen for the removal of the full notebook cells\n",
       "var notebookContainer = gd.closest('#notebook-container');\n",
       "if (notebookContainer) {{\n",
       "    x.observe(notebookContainer, {childList: true});\n",
       "}}\n",
       "\n",
       "// Listen for the clearing of the current output cell\n",
       "var outputEl = gd.closest('.output');\n",
       "if (outputEl) {{\n",
       "    x.observe(outputEl, {childList: true});\n",
       "}}\n",
       "\n",
       "                        })                };                });            </script>        </div>"
      ]
     },
     "metadata": {},
     "output_type": "display_data"
    }
   ],
   "source": [
    "import plotly.express as px\n",
    "\n",
    "boxplot = px.box(resale_df, x='Fuel_Type', y='Price', color='Fuel_Type',\n",
    "                 title=\"Price Distribution Across Different Fuel Types\")\n",
    "boxplot.show()"
   ]
  },
  {
   "cell_type": "code",
   "execution_count": 35,
   "id": "a026b1a5",
   "metadata": {},
   "outputs": [
    {
     "data": {
      "application/vnd.plotly.v1+json": {
       "config": {
        "plotlyServerURL": "https://plot.ly"
       },
       "data": [
        {
         "colorscale": [
          [
           0,
           "rgb(255,255,204)"
          ],
          [
           0.125,
           "rgb(255,237,160)"
          ],
          [
           0.25,
           "rgb(254,217,118)"
          ],
          [
           0.375,
           "rgb(254,178,76)"
          ],
          [
           0.5,
           "rgb(253,141,60)"
          ],
          [
           0.625,
           "rgb(252,78,42)"
          ],
          [
           0.75,
           "rgb(227,26,28)"
          ],
          [
           0.875,
           "rgb(189,0,38)"
          ],
          [
           1,
           "rgb(128,0,38)"
          ]
         ],
         "hoverongaps": false,
         "type": "heatmap",
         "x": [
          "Price",
          "Age_08_04",
          "KM",
          "HP",
          "Weight"
         ],
         "y": [
          "Price",
          "Age_08_04",
          "KM",
          "HP",
          "Weight"
         ],
         "z": [
          [
           1,
           -0.8765904971436398,
           -0.5699601645337211,
           0.3149898296400374,
           0.5811975886422583
          ],
          [
           -0.8765904971436398,
           1,
           0.5056721803821086,
           -0.15662201982817792,
           -0.47025318399105714
          ],
          [
           -0.5699601645337211,
           0.5056721803821086,
           1,
           -0.3335379478320015,
           -0.02859845672464134
          ],
          [
           0.3149898296400374,
           -0.15662201982817792,
           -0.3335379478320015,
           1,
           0.08961405937793428
          ],
          [
           0.5811975886422583,
           -0.47025318399105714,
           -0.02859845672464134,
           0.08961405937793428,
           1
          ]
         ]
        }
       ],
       "layout": {
        "template": {
         "data": {
          "bar": [
           {
            "error_x": {
             "color": "#2a3f5f"
            },
            "error_y": {
             "color": "#2a3f5f"
            },
            "marker": {
             "line": {
              "color": "#E5ECF6",
              "width": 0.5
             },
             "pattern": {
              "fillmode": "overlay",
              "size": 10,
              "solidity": 0.2
             }
            },
            "type": "bar"
           }
          ],
          "barpolar": [
           {
            "marker": {
             "line": {
              "color": "#E5ECF6",
              "width": 0.5
             },
             "pattern": {
              "fillmode": "overlay",
              "size": 10,
              "solidity": 0.2
             }
            },
            "type": "barpolar"
           }
          ],
          "carpet": [
           {
            "aaxis": {
             "endlinecolor": "#2a3f5f",
             "gridcolor": "white",
             "linecolor": "white",
             "minorgridcolor": "white",
             "startlinecolor": "#2a3f5f"
            },
            "baxis": {
             "endlinecolor": "#2a3f5f",
             "gridcolor": "white",
             "linecolor": "white",
             "minorgridcolor": "white",
             "startlinecolor": "#2a3f5f"
            },
            "type": "carpet"
           }
          ],
          "choropleth": [
           {
            "colorbar": {
             "outlinewidth": 0,
             "ticks": ""
            },
            "type": "choropleth"
           }
          ],
          "contour": [
           {
            "colorbar": {
             "outlinewidth": 0,
             "ticks": ""
            },
            "colorscale": [
             [
              0,
              "#0d0887"
             ],
             [
              0.1111111111111111,
              "#46039f"
             ],
             [
              0.2222222222222222,
              "#7201a8"
             ],
             [
              0.3333333333333333,
              "#9c179e"
             ],
             [
              0.4444444444444444,
              "#bd3786"
             ],
             [
              0.5555555555555556,
              "#d8576b"
             ],
             [
              0.6666666666666666,
              "#ed7953"
             ],
             [
              0.7777777777777778,
              "#fb9f3a"
             ],
             [
              0.8888888888888888,
              "#fdca26"
             ],
             [
              1,
              "#f0f921"
             ]
            ],
            "type": "contour"
           }
          ],
          "contourcarpet": [
           {
            "colorbar": {
             "outlinewidth": 0,
             "ticks": ""
            },
            "type": "contourcarpet"
           }
          ],
          "heatmap": [
           {
            "colorbar": {
             "outlinewidth": 0,
             "ticks": ""
            },
            "colorscale": [
             [
              0,
              "#0d0887"
             ],
             [
              0.1111111111111111,
              "#46039f"
             ],
             [
              0.2222222222222222,
              "#7201a8"
             ],
             [
              0.3333333333333333,
              "#9c179e"
             ],
             [
              0.4444444444444444,
              "#bd3786"
             ],
             [
              0.5555555555555556,
              "#d8576b"
             ],
             [
              0.6666666666666666,
              "#ed7953"
             ],
             [
              0.7777777777777778,
              "#fb9f3a"
             ],
             [
              0.8888888888888888,
              "#fdca26"
             ],
             [
              1,
              "#f0f921"
             ]
            ],
            "type": "heatmap"
           }
          ],
          "heatmapgl": [
           {
            "colorbar": {
             "outlinewidth": 0,
             "ticks": ""
            },
            "colorscale": [
             [
              0,
              "#0d0887"
             ],
             [
              0.1111111111111111,
              "#46039f"
             ],
             [
              0.2222222222222222,
              "#7201a8"
             ],
             [
              0.3333333333333333,
              "#9c179e"
             ],
             [
              0.4444444444444444,
              "#bd3786"
             ],
             [
              0.5555555555555556,
              "#d8576b"
             ],
             [
              0.6666666666666666,
              "#ed7953"
             ],
             [
              0.7777777777777778,
              "#fb9f3a"
             ],
             [
              0.8888888888888888,
              "#fdca26"
             ],
             [
              1,
              "#f0f921"
             ]
            ],
            "type": "heatmapgl"
           }
          ],
          "histogram": [
           {
            "marker": {
             "pattern": {
              "fillmode": "overlay",
              "size": 10,
              "solidity": 0.2
             }
            },
            "type": "histogram"
           }
          ],
          "histogram2d": [
           {
            "colorbar": {
             "outlinewidth": 0,
             "ticks": ""
            },
            "colorscale": [
             [
              0,
              "#0d0887"
             ],
             [
              0.1111111111111111,
              "#46039f"
             ],
             [
              0.2222222222222222,
              "#7201a8"
             ],
             [
              0.3333333333333333,
              "#9c179e"
             ],
             [
              0.4444444444444444,
              "#bd3786"
             ],
             [
              0.5555555555555556,
              "#d8576b"
             ],
             [
              0.6666666666666666,
              "#ed7953"
             ],
             [
              0.7777777777777778,
              "#fb9f3a"
             ],
             [
              0.8888888888888888,
              "#fdca26"
             ],
             [
              1,
              "#f0f921"
             ]
            ],
            "type": "histogram2d"
           }
          ],
          "histogram2dcontour": [
           {
            "colorbar": {
             "outlinewidth": 0,
             "ticks": ""
            },
            "colorscale": [
             [
              0,
              "#0d0887"
             ],
             [
              0.1111111111111111,
              "#46039f"
             ],
             [
              0.2222222222222222,
              "#7201a8"
             ],
             [
              0.3333333333333333,
              "#9c179e"
             ],
             [
              0.4444444444444444,
              "#bd3786"
             ],
             [
              0.5555555555555556,
              "#d8576b"
             ],
             [
              0.6666666666666666,
              "#ed7953"
             ],
             [
              0.7777777777777778,
              "#fb9f3a"
             ],
             [
              0.8888888888888888,
              "#fdca26"
             ],
             [
              1,
              "#f0f921"
             ]
            ],
            "type": "histogram2dcontour"
           }
          ],
          "mesh3d": [
           {
            "colorbar": {
             "outlinewidth": 0,
             "ticks": ""
            },
            "type": "mesh3d"
           }
          ],
          "parcoords": [
           {
            "line": {
             "colorbar": {
              "outlinewidth": 0,
              "ticks": ""
             }
            },
            "type": "parcoords"
           }
          ],
          "pie": [
           {
            "automargin": true,
            "type": "pie"
           }
          ],
          "scatter": [
           {
            "fillpattern": {
             "fillmode": "overlay",
             "size": 10,
             "solidity": 0.2
            },
            "type": "scatter"
           }
          ],
          "scatter3d": [
           {
            "line": {
             "colorbar": {
              "outlinewidth": 0,
              "ticks": ""
             }
            },
            "marker": {
             "colorbar": {
              "outlinewidth": 0,
              "ticks": ""
             }
            },
            "type": "scatter3d"
           }
          ],
          "scattercarpet": [
           {
            "marker": {
             "colorbar": {
              "outlinewidth": 0,
              "ticks": ""
             }
            },
            "type": "scattercarpet"
           }
          ],
          "scattergeo": [
           {
            "marker": {
             "colorbar": {
              "outlinewidth": 0,
              "ticks": ""
             }
            },
            "type": "scattergeo"
           }
          ],
          "scattergl": [
           {
            "marker": {
             "colorbar": {
              "outlinewidth": 0,
              "ticks": ""
             }
            },
            "type": "scattergl"
           }
          ],
          "scattermapbox": [
           {
            "marker": {
             "colorbar": {
              "outlinewidth": 0,
              "ticks": ""
             }
            },
            "type": "scattermapbox"
           }
          ],
          "scatterpolar": [
           {
            "marker": {
             "colorbar": {
              "outlinewidth": 0,
              "ticks": ""
             }
            },
            "type": "scatterpolar"
           }
          ],
          "scatterpolargl": [
           {
            "marker": {
             "colorbar": {
              "outlinewidth": 0,
              "ticks": ""
             }
            },
            "type": "scatterpolargl"
           }
          ],
          "scatterternary": [
           {
            "marker": {
             "colorbar": {
              "outlinewidth": 0,
              "ticks": ""
             }
            },
            "type": "scatterternary"
           }
          ],
          "surface": [
           {
            "colorbar": {
             "outlinewidth": 0,
             "ticks": ""
            },
            "colorscale": [
             [
              0,
              "#0d0887"
             ],
             [
              0.1111111111111111,
              "#46039f"
             ],
             [
              0.2222222222222222,
              "#7201a8"
             ],
             [
              0.3333333333333333,
              "#9c179e"
             ],
             [
              0.4444444444444444,
              "#bd3786"
             ],
             [
              0.5555555555555556,
              "#d8576b"
             ],
             [
              0.6666666666666666,
              "#ed7953"
             ],
             [
              0.7777777777777778,
              "#fb9f3a"
             ],
             [
              0.8888888888888888,
              "#fdca26"
             ],
             [
              1,
              "#f0f921"
             ]
            ],
            "type": "surface"
           }
          ],
          "table": [
           {
            "cells": {
             "fill": {
              "color": "#EBF0F8"
             },
             "line": {
              "color": "white"
             }
            },
            "header": {
             "fill": {
              "color": "#C8D4E3"
             },
             "line": {
              "color": "white"
             }
            },
            "type": "table"
           }
          ]
         },
         "layout": {
          "annotationdefaults": {
           "arrowcolor": "#2a3f5f",
           "arrowhead": 0,
           "arrowwidth": 1
          },
          "autotypenumbers": "strict",
          "coloraxis": {
           "colorbar": {
            "outlinewidth": 0,
            "ticks": ""
           }
          },
          "colorscale": {
           "diverging": [
            [
             0,
             "#8e0152"
            ],
            [
             0.1,
             "#c51b7d"
            ],
            [
             0.2,
             "#de77ae"
            ],
            [
             0.3,
             "#f1b6da"
            ],
            [
             0.4,
             "#fde0ef"
            ],
            [
             0.5,
             "#f7f7f7"
            ],
            [
             0.6,
             "#e6f5d0"
            ],
            [
             0.7,
             "#b8e186"
            ],
            [
             0.8,
             "#7fbc41"
            ],
            [
             0.9,
             "#4d9221"
            ],
            [
             1,
             "#276419"
            ]
           ],
           "sequential": [
            [
             0,
             "#0d0887"
            ],
            [
             0.1111111111111111,
             "#46039f"
            ],
            [
             0.2222222222222222,
             "#7201a8"
            ],
            [
             0.3333333333333333,
             "#9c179e"
            ],
            [
             0.4444444444444444,
             "#bd3786"
            ],
            [
             0.5555555555555556,
             "#d8576b"
            ],
            [
             0.6666666666666666,
             "#ed7953"
            ],
            [
             0.7777777777777778,
             "#fb9f3a"
            ],
            [
             0.8888888888888888,
             "#fdca26"
            ],
            [
             1,
             "#f0f921"
            ]
           ],
           "sequentialminus": [
            [
             0,
             "#0d0887"
            ],
            [
             0.1111111111111111,
             "#46039f"
            ],
            [
             0.2222222222222222,
             "#7201a8"
            ],
            [
             0.3333333333333333,
             "#9c179e"
            ],
            [
             0.4444444444444444,
             "#bd3786"
            ],
            [
             0.5555555555555556,
             "#d8576b"
            ],
            [
             0.6666666666666666,
             "#ed7953"
            ],
            [
             0.7777777777777778,
             "#fb9f3a"
            ],
            [
             0.8888888888888888,
             "#fdca26"
            ],
            [
             1,
             "#f0f921"
            ]
           ]
          },
          "colorway": [
           "#636efa",
           "#EF553B",
           "#00cc96",
           "#ab63fa",
           "#FFA15A",
           "#19d3f3",
           "#FF6692",
           "#B6E880",
           "#FF97FF",
           "#FECB52"
          ],
          "font": {
           "color": "#2a3f5f"
          },
          "geo": {
           "bgcolor": "white",
           "lakecolor": "white",
           "landcolor": "#E5ECF6",
           "showlakes": true,
           "showland": true,
           "subunitcolor": "white"
          },
          "hoverlabel": {
           "align": "left"
          },
          "hovermode": "closest",
          "mapbox": {
           "style": "light"
          },
          "paper_bgcolor": "white",
          "plot_bgcolor": "#E5ECF6",
          "polar": {
           "angularaxis": {
            "gridcolor": "white",
            "linecolor": "white",
            "ticks": ""
           },
           "bgcolor": "#E5ECF6",
           "radialaxis": {
            "gridcolor": "white",
            "linecolor": "white",
            "ticks": ""
           }
          },
          "scene": {
           "xaxis": {
            "backgroundcolor": "#E5ECF6",
            "gridcolor": "white",
            "gridwidth": 2,
            "linecolor": "white",
            "showbackground": true,
            "ticks": "",
            "zerolinecolor": "white"
           },
           "yaxis": {
            "backgroundcolor": "#E5ECF6",
            "gridcolor": "white",
            "gridwidth": 2,
            "linecolor": "white",
            "showbackground": true,
            "ticks": "",
            "zerolinecolor": "white"
           },
           "zaxis": {
            "backgroundcolor": "#E5ECF6",
            "gridcolor": "white",
            "gridwidth": 2,
            "linecolor": "white",
            "showbackground": true,
            "ticks": "",
            "zerolinecolor": "white"
           }
          },
          "shapedefaults": {
           "line": {
            "color": "#2a3f5f"
           }
          },
          "ternary": {
           "aaxis": {
            "gridcolor": "white",
            "linecolor": "white",
            "ticks": ""
           },
           "baxis": {
            "gridcolor": "white",
            "linecolor": "white",
            "ticks": ""
           },
           "bgcolor": "#E5ECF6",
           "caxis": {
            "gridcolor": "white",
            "linecolor": "white",
            "ticks": ""
           }
          },
          "title": {
           "x": 0.05
          },
          "xaxis": {
           "automargin": true,
           "gridcolor": "white",
           "linecolor": "white",
           "ticks": "",
           "title": {
            "standoff": 15
           },
           "zerolinecolor": "white",
           "zerolinewidth": 2
          },
          "yaxis": {
           "automargin": true,
           "gridcolor": "white",
           "linecolor": "white",
           "ticks": "",
           "title": {
            "standoff": 15
           },
           "zerolinecolor": "white",
           "zerolinewidth": 2
          }
         }
        },
        "title": {
         "text": "Correlation Heatmap of Selected Features"
        },
        "xaxis": {
         "title": {
          "text": "Feature"
         }
        },
        "yaxis": {
         "title": {
          "text": "Feature"
         }
        }
       }
      },
      "text/html": [
       "<div>                            <div id=\"7c03d269-80d0-4b88-8a2f-0bd5974e0fa9\" class=\"plotly-graph-div\" style=\"height:525px; width:100%;\"></div>            <script type=\"text/javascript\">                require([\"plotly\"], function(Plotly) {                    window.PLOTLYENV=window.PLOTLYENV || {};                                    if (document.getElementById(\"7c03d269-80d0-4b88-8a2f-0bd5974e0fa9\")) {                    Plotly.newPlot(                        \"7c03d269-80d0-4b88-8a2f-0bd5974e0fa9\",                        [{\"colorscale\":[[0.0,\"rgb(255,255,204)\"],[0.125,\"rgb(255,237,160)\"],[0.25,\"rgb(254,217,118)\"],[0.375,\"rgb(254,178,76)\"],[0.5,\"rgb(253,141,60)\"],[0.625,\"rgb(252,78,42)\"],[0.75,\"rgb(227,26,28)\"],[0.875,\"rgb(189,0,38)\"],[1.0,\"rgb(128,0,38)\"]],\"hoverongaps\":false,\"x\":[\"Price\",\"Age_08_04\",\"KM\",\"HP\",\"Weight\"],\"y\":[\"Price\",\"Age_08_04\",\"KM\",\"HP\",\"Weight\"],\"z\":[[1.0,-0.8765904971436398,-0.5699601645337211,0.3149898296400374,0.5811975886422583],[-0.8765904971436398,1.0,0.5056721803821086,-0.15662201982817792,-0.47025318399105714],[-0.5699601645337211,0.5056721803821086,1.0,-0.3335379478320015,-0.02859845672464134],[0.3149898296400374,-0.15662201982817792,-0.3335379478320015,1.0,0.08961405937793428],[0.5811975886422583,-0.47025318399105714,-0.02859845672464134,0.08961405937793428,1.0]],\"type\":\"heatmap\"}],                        {\"template\":{\"data\":{\"histogram2dcontour\":[{\"type\":\"histogram2dcontour\",\"colorbar\":{\"outlinewidth\":0,\"ticks\":\"\"},\"colorscale\":[[0.0,\"#0d0887\"],[0.1111111111111111,\"#46039f\"],[0.2222222222222222,\"#7201a8\"],[0.3333333333333333,\"#9c179e\"],[0.4444444444444444,\"#bd3786\"],[0.5555555555555556,\"#d8576b\"],[0.6666666666666666,\"#ed7953\"],[0.7777777777777778,\"#fb9f3a\"],[0.8888888888888888,\"#fdca26\"],[1.0,\"#f0f921\"]]}],\"choropleth\":[{\"type\":\"choropleth\",\"colorbar\":{\"outlinewidth\":0,\"ticks\":\"\"}}],\"histogram2d\":[{\"type\":\"histogram2d\",\"colorbar\":{\"outlinewidth\":0,\"ticks\":\"\"},\"colorscale\":[[0.0,\"#0d0887\"],[0.1111111111111111,\"#46039f\"],[0.2222222222222222,\"#7201a8\"],[0.3333333333333333,\"#9c179e\"],[0.4444444444444444,\"#bd3786\"],[0.5555555555555556,\"#d8576b\"],[0.6666666666666666,\"#ed7953\"],[0.7777777777777778,\"#fb9f3a\"],[0.8888888888888888,\"#fdca26\"],[1.0,\"#f0f921\"]]}],\"heatmap\":[{\"type\":\"heatmap\",\"colorbar\":{\"outlinewidth\":0,\"ticks\":\"\"},\"colorscale\":[[0.0,\"#0d0887\"],[0.1111111111111111,\"#46039f\"],[0.2222222222222222,\"#7201a8\"],[0.3333333333333333,\"#9c179e\"],[0.4444444444444444,\"#bd3786\"],[0.5555555555555556,\"#d8576b\"],[0.6666666666666666,\"#ed7953\"],[0.7777777777777778,\"#fb9f3a\"],[0.8888888888888888,\"#fdca26\"],[1.0,\"#f0f921\"]]}],\"heatmapgl\":[{\"type\":\"heatmapgl\",\"colorbar\":{\"outlinewidth\":0,\"ticks\":\"\"},\"colorscale\":[[0.0,\"#0d0887\"],[0.1111111111111111,\"#46039f\"],[0.2222222222222222,\"#7201a8\"],[0.3333333333333333,\"#9c179e\"],[0.4444444444444444,\"#bd3786\"],[0.5555555555555556,\"#d8576b\"],[0.6666666666666666,\"#ed7953\"],[0.7777777777777778,\"#fb9f3a\"],[0.8888888888888888,\"#fdca26\"],[1.0,\"#f0f921\"]]}],\"contourcarpet\":[{\"type\":\"contourcarpet\",\"colorbar\":{\"outlinewidth\":0,\"ticks\":\"\"}}],\"contour\":[{\"type\":\"contour\",\"colorbar\":{\"outlinewidth\":0,\"ticks\":\"\"},\"colorscale\":[[0.0,\"#0d0887\"],[0.1111111111111111,\"#46039f\"],[0.2222222222222222,\"#7201a8\"],[0.3333333333333333,\"#9c179e\"],[0.4444444444444444,\"#bd3786\"],[0.5555555555555556,\"#d8576b\"],[0.6666666666666666,\"#ed7953\"],[0.7777777777777778,\"#fb9f3a\"],[0.8888888888888888,\"#fdca26\"],[1.0,\"#f0f921\"]]}],\"surface\":[{\"type\":\"surface\",\"colorbar\":{\"outlinewidth\":0,\"ticks\":\"\"},\"colorscale\":[[0.0,\"#0d0887\"],[0.1111111111111111,\"#46039f\"],[0.2222222222222222,\"#7201a8\"],[0.3333333333333333,\"#9c179e\"],[0.4444444444444444,\"#bd3786\"],[0.5555555555555556,\"#d8576b\"],[0.6666666666666666,\"#ed7953\"],[0.7777777777777778,\"#fb9f3a\"],[0.8888888888888888,\"#fdca26\"],[1.0,\"#f0f921\"]]}],\"mesh3d\":[{\"type\":\"mesh3d\",\"colorbar\":{\"outlinewidth\":0,\"ticks\":\"\"}}],\"scatter\":[{\"fillpattern\":{\"fillmode\":\"overlay\",\"size\":10,\"solidity\":0.2},\"type\":\"scatter\"}],\"parcoords\":[{\"type\":\"parcoords\",\"line\":{\"colorbar\":{\"outlinewidth\":0,\"ticks\":\"\"}}}],\"scatterpolargl\":[{\"type\":\"scatterpolargl\",\"marker\":{\"colorbar\":{\"outlinewidth\":0,\"ticks\":\"\"}}}],\"bar\":[{\"error_x\":{\"color\":\"#2a3f5f\"},\"error_y\":{\"color\":\"#2a3f5f\"},\"marker\":{\"line\":{\"color\":\"#E5ECF6\",\"width\":0.5},\"pattern\":{\"fillmode\":\"overlay\",\"size\":10,\"solidity\":0.2}},\"type\":\"bar\"}],\"scattergeo\":[{\"type\":\"scattergeo\",\"marker\":{\"colorbar\":{\"outlinewidth\":0,\"ticks\":\"\"}}}],\"scatterpolar\":[{\"type\":\"scatterpolar\",\"marker\":{\"colorbar\":{\"outlinewidth\":0,\"ticks\":\"\"}}}],\"histogram\":[{\"marker\":{\"pattern\":{\"fillmode\":\"overlay\",\"size\":10,\"solidity\":0.2}},\"type\":\"histogram\"}],\"scattergl\":[{\"type\":\"scattergl\",\"marker\":{\"colorbar\":{\"outlinewidth\":0,\"ticks\":\"\"}}}],\"scatter3d\":[{\"type\":\"scatter3d\",\"line\":{\"colorbar\":{\"outlinewidth\":0,\"ticks\":\"\"}},\"marker\":{\"colorbar\":{\"outlinewidth\":0,\"ticks\":\"\"}}}],\"scattermapbox\":[{\"type\":\"scattermapbox\",\"marker\":{\"colorbar\":{\"outlinewidth\":0,\"ticks\":\"\"}}}],\"scatterternary\":[{\"type\":\"scatterternary\",\"marker\":{\"colorbar\":{\"outlinewidth\":0,\"ticks\":\"\"}}}],\"scattercarpet\":[{\"type\":\"scattercarpet\",\"marker\":{\"colorbar\":{\"outlinewidth\":0,\"ticks\":\"\"}}}],\"carpet\":[{\"aaxis\":{\"endlinecolor\":\"#2a3f5f\",\"gridcolor\":\"white\",\"linecolor\":\"white\",\"minorgridcolor\":\"white\",\"startlinecolor\":\"#2a3f5f\"},\"baxis\":{\"endlinecolor\":\"#2a3f5f\",\"gridcolor\":\"white\",\"linecolor\":\"white\",\"minorgridcolor\":\"white\",\"startlinecolor\":\"#2a3f5f\"},\"type\":\"carpet\"}],\"table\":[{\"cells\":{\"fill\":{\"color\":\"#EBF0F8\"},\"line\":{\"color\":\"white\"}},\"header\":{\"fill\":{\"color\":\"#C8D4E3\"},\"line\":{\"color\":\"white\"}},\"type\":\"table\"}],\"barpolar\":[{\"marker\":{\"line\":{\"color\":\"#E5ECF6\",\"width\":0.5},\"pattern\":{\"fillmode\":\"overlay\",\"size\":10,\"solidity\":0.2}},\"type\":\"barpolar\"}],\"pie\":[{\"automargin\":true,\"type\":\"pie\"}]},\"layout\":{\"autotypenumbers\":\"strict\",\"colorway\":[\"#636efa\",\"#EF553B\",\"#00cc96\",\"#ab63fa\",\"#FFA15A\",\"#19d3f3\",\"#FF6692\",\"#B6E880\",\"#FF97FF\",\"#FECB52\"],\"font\":{\"color\":\"#2a3f5f\"},\"hovermode\":\"closest\",\"hoverlabel\":{\"align\":\"left\"},\"paper_bgcolor\":\"white\",\"plot_bgcolor\":\"#E5ECF6\",\"polar\":{\"bgcolor\":\"#E5ECF6\",\"angularaxis\":{\"gridcolor\":\"white\",\"linecolor\":\"white\",\"ticks\":\"\"},\"radialaxis\":{\"gridcolor\":\"white\",\"linecolor\":\"white\",\"ticks\":\"\"}},\"ternary\":{\"bgcolor\":\"#E5ECF6\",\"aaxis\":{\"gridcolor\":\"white\",\"linecolor\":\"white\",\"ticks\":\"\"},\"baxis\":{\"gridcolor\":\"white\",\"linecolor\":\"white\",\"ticks\":\"\"},\"caxis\":{\"gridcolor\":\"white\",\"linecolor\":\"white\",\"ticks\":\"\"}},\"coloraxis\":{\"colorbar\":{\"outlinewidth\":0,\"ticks\":\"\"}},\"colorscale\":{\"sequential\":[[0.0,\"#0d0887\"],[0.1111111111111111,\"#46039f\"],[0.2222222222222222,\"#7201a8\"],[0.3333333333333333,\"#9c179e\"],[0.4444444444444444,\"#bd3786\"],[0.5555555555555556,\"#d8576b\"],[0.6666666666666666,\"#ed7953\"],[0.7777777777777778,\"#fb9f3a\"],[0.8888888888888888,\"#fdca26\"],[1.0,\"#f0f921\"]],\"sequentialminus\":[[0.0,\"#0d0887\"],[0.1111111111111111,\"#46039f\"],[0.2222222222222222,\"#7201a8\"],[0.3333333333333333,\"#9c179e\"],[0.4444444444444444,\"#bd3786\"],[0.5555555555555556,\"#d8576b\"],[0.6666666666666666,\"#ed7953\"],[0.7777777777777778,\"#fb9f3a\"],[0.8888888888888888,\"#fdca26\"],[1.0,\"#f0f921\"]],\"diverging\":[[0,\"#8e0152\"],[0.1,\"#c51b7d\"],[0.2,\"#de77ae\"],[0.3,\"#f1b6da\"],[0.4,\"#fde0ef\"],[0.5,\"#f7f7f7\"],[0.6,\"#e6f5d0\"],[0.7,\"#b8e186\"],[0.8,\"#7fbc41\"],[0.9,\"#4d9221\"],[1,\"#276419\"]]},\"xaxis\":{\"gridcolor\":\"white\",\"linecolor\":\"white\",\"ticks\":\"\",\"title\":{\"standoff\":15},\"zerolinecolor\":\"white\",\"automargin\":true,\"zerolinewidth\":2},\"yaxis\":{\"gridcolor\":\"white\",\"linecolor\":\"white\",\"ticks\":\"\",\"title\":{\"standoff\":15},\"zerolinecolor\":\"white\",\"automargin\":true,\"zerolinewidth\":2},\"scene\":{\"xaxis\":{\"backgroundcolor\":\"#E5ECF6\",\"gridcolor\":\"white\",\"linecolor\":\"white\",\"showbackground\":true,\"ticks\":\"\",\"zerolinecolor\":\"white\",\"gridwidth\":2},\"yaxis\":{\"backgroundcolor\":\"#E5ECF6\",\"gridcolor\":\"white\",\"linecolor\":\"white\",\"showbackground\":true,\"ticks\":\"\",\"zerolinecolor\":\"white\",\"gridwidth\":2},\"zaxis\":{\"backgroundcolor\":\"#E5ECF6\",\"gridcolor\":\"white\",\"linecolor\":\"white\",\"showbackground\":true,\"ticks\":\"\",\"zerolinecolor\":\"white\",\"gridwidth\":2}},\"shapedefaults\":{\"line\":{\"color\":\"#2a3f5f\"}},\"annotationdefaults\":{\"arrowcolor\":\"#2a3f5f\",\"arrowhead\":0,\"arrowwidth\":1},\"geo\":{\"bgcolor\":\"white\",\"landcolor\":\"#E5ECF6\",\"subunitcolor\":\"white\",\"showland\":true,\"showlakes\":true,\"lakecolor\":\"white\"},\"title\":{\"x\":0.05},\"mapbox\":{\"style\":\"light\"}}},\"title\":{\"text\":\"Correlation Heatmap of Selected Features\"},\"xaxis\":{\"title\":{\"text\":\"Feature\"}},\"yaxis\":{\"title\":{\"text\":\"Feature\"}}},                        {\"responsive\": true}                    ).then(function(){\n",
       "                            \n",
       "var gd = document.getElementById('7c03d269-80d0-4b88-8a2f-0bd5974e0fa9');\n",
       "var x = new MutationObserver(function (mutations, observer) {{\n",
       "        var display = window.getComputedStyle(gd).display;\n",
       "        if (!display || display === 'none') {{\n",
       "            console.log([gd, 'removed!']);\n",
       "            Plotly.purge(gd);\n",
       "            observer.disconnect();\n",
       "        }}\n",
       "}});\n",
       "\n",
       "// Listen for the removal of the full notebook cells\n",
       "var notebookContainer = gd.closest('#notebook-container');\n",
       "if (notebookContainer) {{\n",
       "    x.observe(notebookContainer, {childList: true});\n",
       "}}\n",
       "\n",
       "// Listen for the clearing of the current output cell\n",
       "var outputEl = gd.closest('.output');\n",
       "if (outputEl) {{\n",
       "    x.observe(outputEl, {childList: true});\n",
       "}}\n",
       "\n",
       "                        })                };                });            </script>        </div>"
      ]
     },
     "metadata": {},
     "output_type": "display_data"
    }
   ],
   "source": [
    "import plotly.graph_objects as go\n",
    "\n",
    "features = ['Price', 'Age_08_04', 'KM', 'HP', 'Weight']\n",
    "\n",
    "correlation_matrix = resale_df[features].corr()\n",
    "\n",
    "heatmap = go.Figure(data=go.Heatmap(\n",
    "                   z=correlation_matrix,\n",
    "                   x=correlation_matrix.columns,\n",
    "                   y=correlation_matrix.columns,\n",
    "                   colorscale='YlOrRd',\n",
    "                   hoverongaps = False))\n",
    "\n",
    "heatmap.update_layout(title='Correlation Heatmap of Selected Features',\n",
    "                      xaxis_title='Feature',\n",
    "                      yaxis_title='Feature')\n",
    "heatmap.show()"
   ]
  },
  {
   "cell_type": "code",
   "execution_count": 36,
   "id": "2883151c",
   "metadata": {
    "scrolled": true
   },
   "outputs": [
    {
     "data": {
      "text/html": [
       "\n",
       "        <iframe\n",
       "            width=\"100%\"\n",
       "            height=\"650\"\n",
       "            src=\"http://127.0.0.1:8051/\"\n",
       "            frameborder=\"0\"\n",
       "            allowfullscreen\n",
       "            \n",
       "        ></iframe>\n",
       "        "
      ],
      "text/plain": [
       "<IPython.lib.display.IFrame at 0x1c331b2fcd0>"
      ]
     },
     "metadata": {},
     "output_type": "display_data"
    }
   ],
   "source": [
    "import dash\n",
    "from dash import html, dcc, Input, Output\n",
    "import plotly.express as px\n",
    "\n",
    "df = resale_df\n",
    "\n",
    "app = dash.Dash(__name__)\n",
    "\n",
    "app.layout = html.Div([\n",
    "    html.H1(\"Interactive Car Price Distribution\"),\n",
    "    dcc.Dropdown(\n",
    "        id='fuel-type-dropdown',\n",
    "        options=[{'label': i, 'value': i} for i in df['Fuel_Type'].unique()],\n",
    "        value='Petrol'\n",
    "    ),\n",
    "    dcc.Graph(id='price-distribution-graph')\n",
    "])\n",
    "\n",
    "@app.callback(\n",
    "    Output('price-distribution-graph', 'figure'),\n",
    "    [Input('fuel-type-dropdown', 'value')]\n",
    ")\n",
    "def update_graph(selected_fuel_type):\n",
    "    filtered_df = df[df['Fuel_Type'] == selected_fuel_type]\n",
    "    fig = px.histogram(filtered_df, x='Price', nbins=30, title=\"Price Distribution by Fuel Type\")\n",
    "    return fig\n",
    "\n",
    "if __name__ == '__main__':\n",
    "    app.run_server(debug=True, port=8051)"
   ]
  },
  {
   "cell_type": "code",
   "execution_count": 37,
   "id": "0b83fbff",
   "metadata": {
    "scrolled": true
   },
   "outputs": [
    {
     "data": {
      "text/html": [
       "\n",
       "        <iframe\n",
       "            width=\"100%\"\n",
       "            height=\"650\"\n",
       "            src=\"http://127.0.0.1:8051/\"\n",
       "            frameborder=\"0\"\n",
       "            allowfullscreen\n",
       "            \n",
       "        ></iframe>\n",
       "        "
      ],
      "text/plain": [
       "<IPython.lib.display.IFrame at 0x1c3316d0390>"
      ]
     },
     "metadata": {},
     "output_type": "display_data"
    }
   ],
   "source": [
    "import dash\n",
    "from dash import html, dcc, Input, Output\n",
    "import plotly.express as px\n",
    "import pandas as pd\n",
    "\n",
    "df = resale_df  \n",
    "\n",
    "app = dash.Dash(__name__)\n",
    "\n",
    "app.layout = html.Div([\n",
    "    html.H1(\"Car Features Comparison Dashboard\"),\n",
    "    \n",
    "    html.Div([\n",
    "        dcc.Dropdown(\n",
    "            id='xaxis-column',\n",
    "            options=[{'label': col, 'value': col} for col in df.columns if df[col].dtype in ['int64', 'float64']],\n",
    "            value='Age_08_04',\n",
    "            style={'width': '48%', 'display': 'inline-block'}\n",
    "        ),\n",
    "        dcc.Dropdown(\n",
    "            id='yaxis-column',\n",
    "            options=[{'label': col, 'value': col} for col in df.columns if df[col].dtype in ['int64', 'float64']],\n",
    "            value='Price',\n",
    "            style={'width': '48%', 'display': 'inline-block'}\n",
    "        )\n",
    "    ]),\n",
    "    \n",
    "    html.Div([\n",
    "        dcc.Dropdown(\n",
    "            id='fuel-type-filter',\n",
    "            options=[{'label': i, 'value': i} for i in df['Fuel_Type'].unique()],\n",
    "            value='Petrol',\n",
    "            style={'width': '48%', 'display': 'inline-block'}\n",
    "        ),\n",
    "        dcc.Dropdown(\n",
    "            id='doors-filter',\n",
    "            options=[{'label': i, 'value': i} for i in df['Doors'].unique()],\n",
    "            value=4,\n",
    "            style={'width': '48%', 'display': 'inline-block'}\n",
    "        )\n",
    "    ]),\n",
    "\n",
    "    dcc.Graph(id='feature-comparison-graph')\n",
    "])\n",
    "\n",
    "@app.callback(\n",
    "    Output('feature-comparison-graph', 'figure'),\n",
    "    [Input('xaxis-column', 'value'),\n",
    "     Input('yaxis-column', 'value'),\n",
    "     Input('fuel-type-filter', 'value'),\n",
    "     Input('doors-filter', 'value')]\n",
    ")\n",
    "def update_graph(xaxis_column_name, yaxis_column_name, selected_fuel_type, selected_doors):\n",
    "    filtered_df = df[(df['Fuel_Type'] == selected_fuel_type) & (df['Doors'] == selected_doors)]\n",
    "    fig = px.scatter(filtered_df, x=xaxis_column_name, y=yaxis_column_name, hover_data=[xaxis_column_name, yaxis_column_name])\n",
    "    fig.update_layout(transition_duration=500)\n",
    "    return fig\n",
    "\n",
    "# Run the app\n",
    "if __name__ == '__main__':\n",
    "    app.run_server(debug=True, port=8051)"
   ]
  },
  {
   "cell_type": "markdown",
   "id": "5fb06d14",
   "metadata": {},
   "source": [
    "**Data Processing**"
   ]
  },
  {
   "cell_type": "code",
   "execution_count": 38,
   "id": "0b26bc63-457a-4bc3-acd3-e4e2b7b24e82",
   "metadata": {},
   "outputs": [
    {
     "data": {
      "text/html": [
       "<div>\n",
       "<style scoped>\n",
       "    .dataframe tbody tr th:only-of-type {\n",
       "        vertical-align: middle;\n",
       "    }\n",
       "\n",
       "    .dataframe tbody tr th {\n",
       "        vertical-align: top;\n",
       "    }\n",
       "\n",
       "    .dataframe thead th {\n",
       "        text-align: right;\n",
       "    }\n",
       "</style>\n",
       "<table border=\"1\" class=\"dataframe\">\n",
       "  <thead>\n",
       "    <tr style=\"text-align: right;\">\n",
       "      <th></th>\n",
       "      <th>Price</th>\n",
       "      <th>Age_in_months</th>\n",
       "      <th>KM</th>\n",
       "      <th>Fuel_Type</th>\n",
       "      <th>HP</th>\n",
       "      <th>Met_Color</th>\n",
       "      <th>Automatic</th>\n",
       "      <th>CC</th>\n",
       "      <th>Doors</th>\n",
       "      <th>Quarterly_Tax</th>\n",
       "      <th>Weight</th>\n",
       "    </tr>\n",
       "  </thead>\n",
       "  <tbody>\n",
       "    <tr>\n",
       "      <th>0</th>\n",
       "      <td>13500</td>\n",
       "      <td>258</td>\n",
       "      <td>46986</td>\n",
       "      <td>Diesel</td>\n",
       "      <td>90</td>\n",
       "      <td>1</td>\n",
       "      <td>0</td>\n",
       "      <td>2000</td>\n",
       "      <td>3</td>\n",
       "      <td>210</td>\n",
       "      <td>1165</td>\n",
       "    </tr>\n",
       "    <tr>\n",
       "      <th>1</th>\n",
       "      <td>13750</td>\n",
       "      <td>258</td>\n",
       "      <td>72937</td>\n",
       "      <td>Diesel</td>\n",
       "      <td>90</td>\n",
       "      <td>1</td>\n",
       "      <td>0</td>\n",
       "      <td>2000</td>\n",
       "      <td>3</td>\n",
       "      <td>210</td>\n",
       "      <td>1165</td>\n",
       "    </tr>\n",
       "    <tr>\n",
       "      <th>2</th>\n",
       "      <td>13950</td>\n",
       "      <td>259</td>\n",
       "      <td>41711</td>\n",
       "      <td>Diesel</td>\n",
       "      <td>90</td>\n",
       "      <td>1</td>\n",
       "      <td>0</td>\n",
       "      <td>2000</td>\n",
       "      <td>3</td>\n",
       "      <td>210</td>\n",
       "      <td>1165</td>\n",
       "    </tr>\n",
       "    <tr>\n",
       "      <th>3</th>\n",
       "      <td>14950</td>\n",
       "      <td>261</td>\n",
       "      <td>48000</td>\n",
       "      <td>Diesel</td>\n",
       "      <td>90</td>\n",
       "      <td>0</td>\n",
       "      <td>0</td>\n",
       "      <td>2000</td>\n",
       "      <td>3</td>\n",
       "      <td>210</td>\n",
       "      <td>1165</td>\n",
       "    </tr>\n",
       "    <tr>\n",
       "      <th>4</th>\n",
       "      <td>13750</td>\n",
       "      <td>265</td>\n",
       "      <td>38500</td>\n",
       "      <td>Diesel</td>\n",
       "      <td>90</td>\n",
       "      <td>0</td>\n",
       "      <td>0</td>\n",
       "      <td>2000</td>\n",
       "      <td>3</td>\n",
       "      <td>210</td>\n",
       "      <td>1170</td>\n",
       "    </tr>\n",
       "    <tr>\n",
       "      <th>...</th>\n",
       "      <td>...</td>\n",
       "      <td>...</td>\n",
       "      <td>...</td>\n",
       "      <td>...</td>\n",
       "      <td>...</td>\n",
       "      <td>...</td>\n",
       "      <td>...</td>\n",
       "      <td>...</td>\n",
       "      <td>...</td>\n",
       "      <td>...</td>\n",
       "      <td>...</td>\n",
       "    </tr>\n",
       "    <tr>\n",
       "      <th>1431</th>\n",
       "      <td>7500</td>\n",
       "      <td>304</td>\n",
       "      <td>20544</td>\n",
       "      <td>Petrol</td>\n",
       "      <td>86</td>\n",
       "      <td>1</td>\n",
       "      <td>0</td>\n",
       "      <td>1300</td>\n",
       "      <td>3</td>\n",
       "      <td>69</td>\n",
       "      <td>1025</td>\n",
       "    </tr>\n",
       "    <tr>\n",
       "      <th>1432</th>\n",
       "      <td>10845</td>\n",
       "      <td>307</td>\n",
       "      <td>19000</td>\n",
       "      <td>Petrol</td>\n",
       "      <td>86</td>\n",
       "      <td>0</td>\n",
       "      <td>0</td>\n",
       "      <td>1300</td>\n",
       "      <td>3</td>\n",
       "      <td>69</td>\n",
       "      <td>1015</td>\n",
       "    </tr>\n",
       "    <tr>\n",
       "      <th>1433</th>\n",
       "      <td>8500</td>\n",
       "      <td>306</td>\n",
       "      <td>17016</td>\n",
       "      <td>Petrol</td>\n",
       "      <td>86</td>\n",
       "      <td>0</td>\n",
       "      <td>0</td>\n",
       "      <td>1300</td>\n",
       "      <td>3</td>\n",
       "      <td>69</td>\n",
       "      <td>1015</td>\n",
       "    </tr>\n",
       "    <tr>\n",
       "      <th>1434</th>\n",
       "      <td>7250</td>\n",
       "      <td>305</td>\n",
       "      <td>16916</td>\n",
       "      <td>Petrol</td>\n",
       "      <td>86</td>\n",
       "      <td>1</td>\n",
       "      <td>0</td>\n",
       "      <td>1300</td>\n",
       "      <td>3</td>\n",
       "      <td>69</td>\n",
       "      <td>1015</td>\n",
       "    </tr>\n",
       "    <tr>\n",
       "      <th>1435</th>\n",
       "      <td>6950</td>\n",
       "      <td>311</td>\n",
       "      <td>1</td>\n",
       "      <td>Petrol</td>\n",
       "      <td>110</td>\n",
       "      <td>0</td>\n",
       "      <td>0</td>\n",
       "      <td>1600</td>\n",
       "      <td>5</td>\n",
       "      <td>19</td>\n",
       "      <td>1114</td>\n",
       "    </tr>\n",
       "  </tbody>\n",
       "</table>\n",
       "<p>1436 rows × 11 columns</p>\n",
       "</div>"
      ],
      "text/plain": [
       "      Price  Age_in_months     KM Fuel_Type   HP  Met_Color  Automatic    CC  \\\n",
       "0     13500            258  46986    Diesel   90          1          0  2000   \n",
       "1     13750            258  72937    Diesel   90          1          0  2000   \n",
       "2     13950            259  41711    Diesel   90          1          0  2000   \n",
       "3     14950            261  48000    Diesel   90          0          0  2000   \n",
       "4     13750            265  38500    Diesel   90          0          0  2000   \n",
       "...     ...            ...    ...       ...  ...        ...        ...   ...   \n",
       "1431   7500            304  20544    Petrol   86          1          0  1300   \n",
       "1432  10845            307  19000    Petrol   86          0          0  1300   \n",
       "1433   8500            306  17016    Petrol   86          0          0  1300   \n",
       "1434   7250            305  16916    Petrol   86          1          0  1300   \n",
       "1435   6950            311      1    Petrol  110          0          0  1600   \n",
       "\n",
       "      Doors  Quarterly_Tax  Weight  \n",
       "0         3            210    1165  \n",
       "1         3            210    1165  \n",
       "2         3            210    1165  \n",
       "3         3            210    1165  \n",
       "4         3            210    1170  \n",
       "...     ...            ...     ...  \n",
       "1431      3             69    1025  \n",
       "1432      3             69    1015  \n",
       "1433      3             69    1015  \n",
       "1434      3             69    1015  \n",
       "1435      5             19    1114  \n",
       "\n",
       "[1436 rows x 11 columns]"
      ]
     },
     "execution_count": 38,
     "metadata": {},
     "output_type": "execute_result"
    }
   ],
   "source": [
    "#Features that we are using for the prediction\n",
    "current_year = 2024\n",
    "current_month = 4\n",
    "resale_df['Age_in_months'] = (current_year - resale_df['Mfg_Year']) * 12 + (current_month - resale_df['Mfg_Month'])\n",
    "features = ['Price', 'Age_in_months', 'KM', 'Fuel_Type', 'HP', 'Met_Color', 'Automatic', 'CC', 'Doors', 'Quarterly_Tax', 'Weight']\n",
    "resale_selected_df = resale_df[features]\n",
    "resale_df[features]"
   ]
  },
  {
   "cell_type": "code",
   "execution_count": 39,
   "id": "9e16205e-828a-4846-b824-e4caa35df46d",
   "metadata": {},
   "outputs": [
    {
     "data": {
      "text/plain": [
       "(   Price  Age_in_months     KM  HP  Met_Color  Automatic    CC  Doors  \\\n",
       " 0  13500            258  46986  90          1          0  2000      3   \n",
       " 1  13750            258  72937  90          1          0  2000      3   \n",
       " 2  13950            259  41711  90          1          0  2000      3   \n",
       " 3  14950            261  48000  90          0          0  2000      3   \n",
       " 4  13750            265  38500  90          0          0  2000      3   \n",
       " \n",
       "    Quarterly_Tax  Weight  Fuel_Type_Diesel  Fuel_Type_Petrol  \n",
       " 0            210    1165              True             False  \n",
       " 1            210    1165              True             False  \n",
       " 2            210    1165              True             False  \n",
       " 3            210    1165              True             False  \n",
       " 4            210    1170              True             False  ,\n",
       " (1436, 12))"
      ]
     },
     "execution_count": 39,
     "metadata": {},
     "output_type": "execute_result"
    }
   ],
   "source": [
    "#Converting categorical data into dummy variables\n",
    "resale_prepared_df = pd.get_dummies(resale_selected_df, drop_first=True)\n",
    "resale_prepared_df.head(), resale_prepared_df.shape"
   ]
  },
  {
   "cell_type": "code",
   "execution_count": 40,
   "id": "5c7d7126-5230-49aa-86b5-baf3f1632752",
   "metadata": {},
   "outputs": [
    {
     "data": {
      "text/plain": [
       "(              Price  Age_in_months             KM           HP    Met_Color  \\\n",
       " count   1436.000000    1436.000000    1436.000000  1436.000000  1436.000000   \n",
       " mean   10730.824513     290.947075   68533.259749   101.502089     0.674791   \n",
       " std     3626.964585      18.599988   37506.448872    14.981080     0.468616   \n",
       " min     4350.000000     236.000000       1.000000    69.000000     0.000000   \n",
       " 25%     8450.000000     279.000000   43000.000000    90.000000     0.000000   \n",
       " 50%     9900.000000     296.000000   63389.500000   110.000000     1.000000   \n",
       " 75%    11950.000000     305.000000   87020.750000   110.000000     1.000000   \n",
       " max    32500.000000     315.000000  243000.000000   192.000000     1.000000   \n",
       " \n",
       "          Automatic           CC        Doors  Quarterly_Tax      Weight  \n",
       " count  1436.000000   1436.00000  1436.000000    1436.000000  1436.00000  \n",
       " mean      0.055710   1576.85585     4.033426      87.122563  1072.45961  \n",
       " std       0.229441    424.38677     0.952677      41.128611    52.64112  \n",
       " min       0.000000   1300.00000     2.000000      19.000000  1000.00000  \n",
       " 25%       0.000000   1400.00000     3.000000      69.000000  1040.00000  \n",
       " 50%       0.000000   1600.00000     4.000000      85.000000  1070.00000  \n",
       " 75%       0.000000   1600.00000     5.000000      85.000000  1085.00000  \n",
       " max       1.000000  16000.00000     5.000000     283.000000  1615.00000  ,\n",
       " Price            110\n",
       " Age_in_months      7\n",
       " KM                49\n",
       " HP                11\n",
       " dtype: int64)"
      ]
     },
     "execution_count": 40,
     "metadata": {},
     "output_type": "execute_result"
    }
   ],
   "source": [
    "statistical_summary = resale_prepared_df.describe()\n",
    "# Focusing on 'Price', 'Age', 'KM' (mileage), and 'HP' (Horse Power) as they are likely to affect the resale value\n",
    "relevant_columns = ['Price', 'Age_in_months', 'KM', 'HP']\n",
    "\n",
    "Q1 = resale_prepared_df[relevant_columns].quantile(0.25)\n",
    "Q3 = resale_prepared_df[relevant_columns].quantile(0.75)\n",
    "IQR = Q3 - Q1\n",
    "\n",
    "outliers = ((resale_prepared_df[relevant_columns] < (Q1 - 1.5 * IQR)) | \n",
    "            (resale_prepared_df[relevant_columns] > (Q3 + 1.5 * IQR))).sum()\n",
    "statistical_summary, outliers"
   ]
  },
  {
   "cell_type": "markdown",
   "id": "6293ccc8",
   "metadata": {},
   "source": [
    "We conducted a preliminary analysis of the numerical features in the dataset to identify potential outliers. We calculated the descriptive statistics, including mean, standard deviation, minimum, 25th percentile (Q1), median (50th percentile), 75th percentile (Q3), and maximum values, for the features 'Price', 'Age_in_months', 'KM' (mileage), and 'HP' (Horse Power). Next, we calculated the Interquartile Range (IQR) for each of these features, which is the range between the first and third quartiles (Q1 and Q3), to determine the spread of the middle 50% of the data. Using the IQR, we identified potential outliers as values that fall below Q1 - 1.5 * IQR or above Q3 + 1.5 * IQR for each feature. The count of outliers for each feature was computed and presented alongside the descriptive statistics. This analysis helps in understanding the distribution of the numerical features and detecting any extreme values that may require further investigation or treatment."
   ]
  },
  {
   "cell_type": "code",
   "execution_count": 41,
   "id": "425a9a3e-0dd1-4bed-bad3-a883702d9bab",
   "metadata": {},
   "outputs": [
    {
     "data": {
      "image/png": "[encoded data removed]",
      "text/plain": [
       "<Figure size 1000x500 with 1 Axes>"
      ]
     },
     "metadata": {},
     "output_type": "display_data"
    },
    {
     "data": {
      "image/png": "[encoded data removed]",
      "text/plain": [
       "<Figure size 1000x500 with 1 Axes>"
      ]
     },
     "metadata": {},
     "output_type": "display_data"
    },
    {
     "data": {
      "image/png": "[encoded data removed]",
      "text/plain": [
       "<Figure size 1000x500 with 1 Axes>"
      ]
     },
     "metadata": {},
     "output_type": "display_data"
    }
   ],
   "source": [
    "import matplotlib.pyplot as plt\n",
    "\n",
    "# Price Boxplot\n",
    "plt.figure(figsize=(10, 5))\n",
    "plt.boxplot(resale_prepared_df['Price'])\n",
    "plt.title('Boxplot of Vehicle Prices')\n",
    "plt.ylabel('Price')\n",
    "plt.show()\n",
    "\n",
    "# KM Boxplot\n",
    "plt.figure(figsize=(10, 5))\n",
    "plt.boxplot(resale_prepared_df['KM'])\n",
    "plt.title('Boxplot of Vehicle Kilometers')\n",
    "plt.ylabel('KM')\n",
    "plt.show()\n",
    "\n",
    "# HP Boxplot\n",
    "plt.figure(figsize=(10, 5))\n",
    "plt.boxplot(resale_prepared_df['HP'])\n",
    "plt.title('Boxplot of Vehicle Horsepower (HP)')\n",
    "plt.ylabel('HP')\n",
    "plt.show()"
   ]
  },
  {
   "cell_type": "markdown",
   "id": "d1f69e3d",
   "metadata": {},
   "source": [
    "Here, we created boxplots to visually inspect potential outliers for the numerical features 'Price', 'KM' (kilometers), and 'HP' (horsepower) in the dataset resale_prepared_df. Boxplots are effective tools for identifying outliers as they display the distribution of data, including outliers, quartiles, and the median. By plotting these boxplots, we aimed to gain insights into the distribution of these variables and identify any extreme values that may indicate outliers. This visual analysis complements the earlier statistical summary and provides a clearer understanding of the data distribution, aiding in the detection of potential outliers."
   ]
  },
  {
   "cell_type": "code",
   "execution_count": 42,
   "id": "d457ff6a-e502-4f29-9f46-6f83419e39ad",
   "metadata": {},
   "outputs": [
    {
     "data": {
      "image/png": "[encoded data removed]",
      "text/plain": [
       "<Figure size 1000x500 with 1 Axes>"
      ]
     },
     "metadata": {},
     "output_type": "display_data"
    },
    {
     "data": {
      "image/png": "[encoded data removed]",
      "text/plain": [
       "<Figure size 1000x500 with 1 Axes>"
      ]
     },
     "metadata": {},
     "output_type": "display_data"
    },
    {
     "data": {
      "image/png": "[encoded data removed]",
      "text/plain": [
       "<Figure size 1000x500 with 1 Axes>"
      ]
     },
     "metadata": {},
     "output_type": "display_data"
    }
   ],
   "source": [
    "def find_outliers_iqr(data):\n",
    "    q1 = data.quantile(0.25)\n",
    "    q3 = data.quantile(0.75)\n",
    "    iqr = q3 - q1\n",
    "    lower_bound = q1 - 1.5 * iqr\n",
    "    upper_bound = q3 + 1.5 * iqr\n",
    "    return data.index[(data < lower_bound) | (data > upper_bound)].tolist()\n",
    "\n",
    "outlier_indices_price = find_outliers_iqr(resale_prepared_df['Price'])\n",
    "outlier_indices_km = find_outliers_iqr(resale_prepared_df['KM'])\n",
    "outlier_indices_hp = find_outliers_iqr(resale_prepared_df['HP'])\n",
    "\n",
    "all_outlier_indices = set(outlier_indices_price) | set(outlier_indices_km) | set(outlier_indices_hp)\n",
    "\n",
    "df_filtered = resale_prepared_df.drop(index=all_outlier_indices)\n",
    "\n",
    "df_filtered.shape\n",
    "\n",
    "plt.figure(figsize=(10, 5))\n",
    "plt.boxplot(df_filtered['Price'])\n",
    "plt.title('Boxplot of Vehicle Prices')\n",
    "plt.ylabel('Price')\n",
    "plt.show()\n",
    "\n",
    "plt.figure(figsize=(10, 5))\n",
    "plt.boxplot(df_filtered['KM'])\n",
    "plt.title('Boxplot of Vehicle Kilometers')\n",
    "plt.ylabel('KM')\n",
    "plt.show()\n",
    "\n",
    "plt.figure(figsize=(10, 5))\n",
    "plt.boxplot(df_filtered['HP'])\n",
    "plt.title('Boxplot of Vehicle Horsepower (HP)')\n",
    "plt.ylabel('HP')\n",
    "plt.show()"
   ]
  },
  {
   "cell_type": "markdown",
   "id": "a5108afc",
   "metadata": {},
   "source": [
    "We defined a function find_outliers_iqr() to identify outlier indices based on the Interquartile Range (IQR) for a given DataFrame column. We then used this function to find outliers for the numerical features 'Price', 'KM', and 'HP' in the resale_prepared_df DataFrame. Next, we combined all outlier indices across these features and removed the corresponding rows from the DataFrame to create a filtered DataFrame df_filtered. Finally, we generated boxplots for 'Price', 'KM', and 'HP' in the filtered DataFrame to visually inspect the distribution of these variables after removing outliers. This approach allows us to handle outliers more systematically by using the IQR method and provides a clearer representation of the data distribution without the influence of extreme values."
   ]
  },
  {
   "cell_type": "markdown",
   "id": "f23109c4",
   "metadata": {},
   "source": [
    "**Model Exploration and Selection**"
   ]
  },
  {
   "cell_type": "code",
   "execution_count": 43,
   "id": "71121e3b-ae8a-48cd-a612-4d536be86ed0",
   "metadata": {},
   "outputs": [
    {
     "name": "stdout",
     "output_type": "stream",
     "text": [
      "Categorical columns: Index(['Model', 'Fuel_Type', 'Color'], dtype='object')\n",
      "Linear Regression MSE with encoded data: 24826230146729.406\n",
      "Linear Regression MAE with scaled data: 1102136.6364203559\n",
      "R-squared for Linear Regression: -1860646.7579421627\n"
     ]
    }
   ],
   "source": [
    "import pandas as pd\n",
    "import numpy as np\n",
    "import matplotlib.pyplot as plt\n",
    "from sklearn.model_selection import train_test_split\n",
    "from sklearn.linear_model import LinearRegression\n",
    "from sklearn.ensemble import RandomForestRegressor, GradientBoostingRegressor\n",
    "from sklearn.metrics import mean_squared_error, mean_absolute_error\n",
    "from sklearn.metrics import r2_score\n",
    "\n",
    "\n",
    "categorical_cols = resale_df.select_dtypes(include=['object']).columns\n",
    "print(\"Categorical columns:\", categorical_cols)\n",
    "\n",
    "resale_df_encoded = pd.get_dummies(resale_df, columns=categorical_cols)\n",
    "\n",
    "from sklearn.model_selection import train_test_split\n",
    "from sklearn.linear_model import LinearRegression\n",
    "from sklearn.metrics import mean_squared_error\n",
    "\n",
    "X = resale_df_encoded.drop('Price', axis=1)\n",
    "y = resale_df_encoded['Price']\n",
    "\n",
    "X_train, X_test, y_train, y_test = train_test_split(X, y, test_size=0.2, random_state=42)\n",
    "\n",
    "#Linear Regression\n",
    "lin_reg = LinearRegression()\n",
    "lin_reg.fit(X_train, y_train)\n",
    "y_pred_lin = lin_reg.predict(X_test)\n",
    "mse_lin = mean_squared_error(y_test, y_pred_lin)\n",
    "mae_lin_scaled = mean_absolute_error(y_test, y_pred_lin)\n",
    "r2_lin = r2_score(y_test, y_pred_lin)\n",
    "\n",
    "print(\"Linear Regression MSE with encoded data:\", mse_lin)\n",
    "print(\"Linear Regression MAE with scaled data:\", mae_lin_scaled)\n",
    "print(\"R-squared for Linear Regression:\", r2_lin)"
   ]
  },
  {
   "cell_type": "code",
   "execution_count": 44,
   "id": "c4557209",
   "metadata": {},
   "outputs": [
    {
     "name": "stdout",
     "output_type": "stream",
     "text": [
      "Random Forest MSE: 937228.8960281251\n",
      "Random Forest MAE: 738.5631597222223\n",
      "R-squared for Random Forest: 0.929757646095814\n"
     ]
    }
   ],
   "source": [
    "# Random Forest Regressor\n",
    "rf_reg = RandomForestRegressor(n_estimators=100, random_state=42)\n",
    "rf_reg.fit(X_train, y_train)\n",
    "y_pred_rf = rf_reg.predict(X_test)\n",
    "mse_rf = mean_squared_error(y_test, y_pred_rf)\n",
    "mae_ridge = mean_absolute_error(y_test, y_pred_rf)\n",
    "r2_rf = r2_score(y_test, y_pred_rf)\n",
    "\n",
    "print(\"Random Forest MSE:\", mse_rf)\n",
    "print(\"Random Forest MAE:\", mae_ridge)\n",
    "print(\"R-squared for Random Forest:\", r2_rf)"
   ]
  },
  {
   "cell_type": "code",
   "execution_count": 45,
   "id": "7c810fc8",
   "metadata": {},
   "outputs": [
    {
     "name": "stdout",
     "output_type": "stream",
     "text": [
      "Gradient Boosting MSE: 903402.4027589274\n",
      "Gradient Boosting MAE: 721.8365991168505\n",
      "R-squared for Gradient Boosting: 0.9322928352279695\n"
     ]
    }
   ],
   "source": [
    "# Gradient Boosting Regressor\n",
    "gb_reg = GradientBoostingRegressor(n_estimators=100, random_state=42)\n",
    "gb_reg.fit(X_train, y_train)\n",
    "y_pred_gb = gb_reg.predict(X_test)\n",
    "mse_gb = mean_squared_error(y_test, y_pred_gb)\n",
    "mae_gb = mean_absolute_error(y_test, y_pred_gb)\n",
    "r2_gb = r2_score(y_test, y_pred_gb)\n",
    "\n",
    "print(\"Gradient Boosting MSE:\", mse_gb)\n",
    "print(\"Gradient Boosting MAE:\", mae_gb)\n",
    "print(\"R-squared for Gradient Boosting:\", r2_gb)"
   ]
  },
  {
   "cell_type": "code",
   "execution_count": 46,
   "id": "54b30abb",
   "metadata": {},
   "outputs": [
    {
     "name": "stdout",
     "output_type": "stream",
     "text": [
      "Gradient Boosting RMSE: 950.4748301553952\n"
     ]
    }
   ],
   "source": [
    "rmse_gb = np.sqrt(mse_gb)\n",
    "print(\"Gradient Boosting RMSE:\", rmse_gb)"
   ]
  },
  {
   "cell_type": "markdown",
   "id": "cf555d28",
   "metadata": {},
   "source": [
    "Both Random Forest and Gradient Boosting models perform well, but the Gradient Boosting model edges out slightly better across all three key metrics: it has a lower MSE and MAE, and a slightly higher R-squared value. The higher R-squared value close to 1 indicates that the model explains a very high proportion of the variance in the dataset, which is desirable.\n",
    "\n",
    "Therefore, The Gradient Boosting Regressor would be the best choice among the three models."
   ]
  },
  {
   "cell_type": "code",
   "execution_count": 47,
   "id": "88ebe945",
   "metadata": {},
   "outputs": [
    {
     "name": "stdout",
     "output_type": "stream",
     "text": [
      "Average Reselling Price : 10047.586530931872\n",
      "Prediction Efficiency in %: 93.22928352279695\n"
     ]
    }
   ],
   "source": [
    "average_price = df_filtered['Price'].mean()\n",
    "print(f\"Average Reselling Price : {average_price}\")\n",
    "\n",
    "efficiency_percentage = r2_gb * 100\n",
    "print(f\"Prediction Efficiency in %: {efficiency_percentage}\")"
   ]
  },
  {
   "cell_type": "markdown",
   "id": "337f89b1",
   "metadata": {},
   "source": [
    "**Model Performance Evaluation**"
   ]
  },
  {
   "cell_type": "code",
   "execution_count": 48,
   "id": "a1ffb3cc-71c9-4533-9e61-133466da9547",
   "metadata": {},
   "outputs": [
    {
     "data": {
      "image/png": "[encoded data removed]",
      "text/plain": [
       "<Figure size 1000x600 with 1 Axes>"
      ]
     },
     "metadata": {},
     "output_type": "display_data"
    },
    {
     "data": {
      "image/png": "[encoded data removed]",
      "text/plain": [
       "<Figure size 1000x600 with 1 Axes>"
      ]
     },
     "metadata": {},
     "output_type": "display_data"
    }
   ],
   "source": [
    "import matplotlib.pyplot as plt\n",
    "\n",
    "# Plotting Actual vs. Predicted values for Gradient Boosting Model\n",
    "plt.figure(figsize=(10, 6))\n",
    "plt.scatter(y_test, y_pred_gb, alpha=0.3, color='blue', label='Predicted vs. Actual')\n",
    "plt.plot([y_test.min(), y_test.max()], [y_test.min(), y_test.max()], '--r', linewidth=2, label='Ideal Fit')\n",
    "plt.xlabel('Actual Prices')\n",
    "plt.ylabel('Predicted Prices')\n",
    "plt.title('Actual vs. Predicted Prices - Gradient Boosting Model')\n",
    "plt.legend()\n",
    "plt.show()\n",
    "\n",
    "# Plotting residuals for the Gradient Boosting Model\n",
    "residuals_gb = y_test - y_pred_gb\n",
    "plt.figure(figsize=(10, 6))\n",
    "plt.scatter(y_pred_gb, residuals_gb, alpha=0.3, color='green', label='Residuals')\n",
    "plt.axhline(y=0, color='r', linestyle='--', label='Zero Error')\n",
    "plt.xlabel('Predicted Prices')\n",
    "plt.ylabel('Residuals')\n",
    "plt.title('Residuals vs. Predicted Prices - Gradient Boosting Model')\n",
    "plt.legend()\n",
    "plt.show()"
   ]
  },
  {
   "cell_type": "code",
   "execution_count": 49,
   "id": "82526885-1765-45bd-b7c7-4b0ba47155fe",
   "metadata": {},
   "outputs": [
    {
     "data": {
      "image/png": "[encoded data removed]",
      "text/plain": [
       "<Figure size 800x600 with 1 Axes>"
      ]
     },
     "metadata": {},
     "output_type": "display_data"
    }
   ],
   "source": [
    "import matplotlib.pyplot as plt\n",
    "\n",
    "average_resale_price = 10047.59\n",
    "mae = 721.83\n",
    "rmse = 950.47\n",
    "\n",
    "mae_percentage = (mae / average_resale_price) * 100\n",
    "rmse_percentage = (rmse / average_resale_price) * 100\n",
    "\n",
    "labels = ['MAE', 'RMSE']\n",
    "percentages = [mae_percentage, rmse_percentage]\n",
    "\n",
    "plt.figure(figsize=(8, 6))\n",
    "plt.bar(labels, percentages, color=['skyblue', 'teal'])\n",
    "\n",
    "for i, v in enumerate(percentages):\n",
    "    plt.text(i, v + 0.5, f\"{v:.2f}%\", ha='center', va='bottom')\n",
    "\n",
    "plt.ylabel('Percentage of Average Resale Price')\n",
    "plt.title('Error Metrics as a Percentage of Average Resale Price')\n",
    "plt.ylim(0, max(percentages) + 5)\n",
    "\n",
    "plt.show()"
   ]
  },
  {
   "cell_type": "markdown",
   "id": "ad77553f-b1af-462b-b5cd-3dca45e5778e",
   "metadata": {},
   "source": [
    "In the business contexts, a prediction error margin of less than 10% is quite good, especially if prices vary significantly. In this case, in the used car market, where prices can vary widely based on the factors such as make, model, year, condition, and mileage, an average prediction error of about 7-10% is acceptable."
   ]
  },
  {
   "cell_type": "markdown",
   "id": "615a1ea8-230d-49df-806b-2c711f9899f3",
   "metadata": {},
   "source": [
    "# Resale Time-Series Analysis Of A Sample Car Type Petrol"
   ]
  },
  {
   "cell_type": "code",
   "execution_count": 50,
   "id": "311ff969-e196-4fc9-b4ec-fbe906f45d4f",
   "metadata": {},
   "outputs": [
    {
     "data": {
      "image/png": "[encoded data removed]",
      "text/plain": [
       "<Figure size 1000x600 with 1 Axes>"
      ]
     },
     "metadata": {},
     "output_type": "display_data"
    }
   ],
   "source": [
    "from sklearn.compose import ColumnTransformer\n",
    "from sklearn.preprocessing import StandardScaler, OneHotEncoder\n",
    "from sklearn.pipeline import Pipeline\n",
    "\n",
    "\n",
    "X = df_filtered.drop('Price', axis=1)\n",
    "y = df_filtered['Price']\n",
    "X_train, X_test, y_train, y_test = train_test_split(X, y, test_size=0.2, random_state=42)\n",
    "\n",
    "numeric_features = X_train.select_dtypes(include=['int64', 'float64']).columns.tolist()\n",
    "categorical_features = X_train.select_dtypes(include=['object', 'bool']).columns.tolist()\n",
    "\n",
    "preprocessor = ColumnTransformer(\n",
    "    transformers=[\n",
    "        ('num', StandardScaler(), numeric_features),\n",
    "        ('cat', OneHotEncoder(), categorical_features)\n",
    "    ])\n",
    "\n",
    "pipeline = Pipeline(steps=[\n",
    "    ('preprocessor', preprocessor),\n",
    "    ('regressor', GradientBoostingRegressor(n_estimators=100, learning_rate=0.1, max_depth=3, random_state=42))\n",
    "])\n",
    "\n",
    "pipeline.fit(X_train, y_train)\n",
    "\n",
    "sample_vehicle = X_train.median().to_dict()\n",
    "\n",
    "sample_vehicle['Fuel_Type_Diesel'] = 0\n",
    "sample_vehicle['Fuel_Type_Petrol'] = 1  \n",
    "\n",
    "time_periods = np.arange(0, 120, 6) \n",
    "predicted_prices = []\n",
    "\n",
    "for months in time_periods:\n",
    "    sample_vehicle['Age_in_months'] += 6\n",
    "    sample_vehicle['KM'] += 6 * 1000\n",
    "\n",
    "    simulation_df = pd.DataFrame([sample_vehicle], columns=X_train.columns)\n",
    "\n",
    "    predicted_price = pipeline.predict(simulation_df)[0]\n",
    "    predicted_prices.append(predicted_price)\n",
    "\n",
    "plt.figure(figsize=(10, 6))\n",
    "plt.plot(time_periods, predicted_prices, marker='o')\n",
    "plt.title('Predicted Resale Value Over Time')\n",
    "plt.xlabel('Age in Months')\n",
    "plt.ylabel('Resale Value')\n",
    "plt.grid(True)\n",
    "plt.show()"
   ]
  }
 ],
 "metadata": {
  "kernelspec": {
   "display_name": "Python 3 (ipykernel)",
   "language": "python",
   "name": "python3"
  },
  "language_info": {
   "codemirror_mode": {
    "name": "ipython",
    "version": 3
   },
   "file_extension": ".py",
   "mimetype": "text/x-python",
   "name": "python",
   "nbconvert_exporter": "python",
   "pygments_lexer": "ipython3",
   "version": "3.11.5"
  }
 },
 "nbformat": 4,
 "nbformat_minor": 5
}
